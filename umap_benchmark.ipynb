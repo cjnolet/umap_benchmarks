{
 "cells": [
  {
   "cell_type": "markdown",
   "metadata": {},
   "source": [
    "# UMAP Experiment"
   ]
  },
  {
   "cell_type": "code",
   "execution_count": 1,
   "metadata": {},
   "outputs": [],
   "source": [
    "import os\n",
    "os.environ[\"NUMBA_NUM_THREADS\"] = \"80\"\n",
    "\n",
    "import datasets\n",
    "\n",
    "import warnings\n",
    "warnings.filterwarnings(\"ignore\")\n",
    "\n",
    "import pickle\n",
    "\n",
    "from umap import UMAP as UMAP_LEARN\n",
    "from cuml.manifold import UMAP as UMAP_CUML\n"
   ]
  },
  {
   "cell_type": "code",
   "execution_count": 2,
   "metadata": {},
   "outputs": [],
   "source": [
    "# Run this cell only if GUMAP is installed\n",
    "from gpumap import GPUMAP as UMAP_GPUMAP"
   ]
  },
  {
   "cell_type": "code",
   "execution_count": 3,
   "metadata": {},
   "outputs": [
    {
     "data": {
      "text/plain": [
       "0"
      ]
     },
     "execution_count": 3,
     "metadata": {},
     "output_type": "execute_result"
    }
   ],
   "source": [
    "import rmm\n",
    "\n",
    "POOL_SIZE_GB=15\n",
    "\n",
    "RESULTS_FILE=\"results/results.pickle\"\n",
    "\n",
    "rmm.reinitialize(\n",
    "    pool_allocator=True, # default is False\n",
    "    managed_memory=False, # default is False\n",
    "    initial_pool_size=int(1024*1024*1024*POOL_SIZE_GB), # set to 2GiB. Default is 1/2 total GPU memory\n",
    "    devices=0, # GPU device  IDs to register. By default registers only GPU 0.\n",
    "    logging=False, # default is False -- has perf overhead\n",
    ")"
   ]
  },
  {
   "cell_type": "code",
   "execution_count": 4,
   "metadata": {},
   "outputs": [],
   "source": [
    "import matplotlib.pyplot as plt"
   ]
  },
  {
   "cell_type": "code",
   "execution_count": 5,
   "metadata": {},
   "outputs": [],
   "source": [
    "def draw_chart(model, X, y, dataset, model_name, classes=None):\n",
    "    \n",
    "    embedding = model.fit_transform(X, y)\n",
    "    \n",
    "    fig, ax = plt.subplots(1, figsize=(14, 10))\n",
    "    plt.scatter(embedding[:,1], embedding[:,0], s=0.3, c=y, cmap='Spectral', alpha=1.0)\n",
    "    plt.setp(ax, xticks=[], yticks=[])\n",
    "    cbar = plt.colorbar(boundaries=np.arange(11)-0.5)\n",
    "    cbar.set_ticks(np.arange(10))\n",
    "    if classes is not None:\n",
    "        cbar.set_ticklabels(classes)\n",
    "    plt.title(\"%s Embedded via %s\" % (dataset, model_name));"
   ]
  },
  {
   "cell_type": "code",
   "execution_count": 6,
   "metadata": {},
   "outputs": [],
   "source": [
    "from cuml.metrics import trustworthiness\n",
    "# from sklearn.manifold.t_sne import trustworthiness\n",
    "from sklearn.model_selection import train_test_split\n",
    "import time\n",
    "import numpy as np\n",
    "\n",
    "batchSize = 5000\n",
    "\n",
    "\n",
    "def _run_build_and_train_once(model_class, X, y=None, kwargs={}, verbose=False, eval_trust=True):\n",
    "    \n",
    "    results = {}\n",
    "    \n",
    "#     if \"knn_graph\" in kwargs:\n",
    "#         knn_graph = kwargs[\"knn_graph\"]\n",
    "#         del kwargs[\"knn_graph\"]\n",
    "#     else:\n",
    "#         knn_graph = None\n",
    "    \n",
    "    \n",
    "#     kwargs[\"n_epochs\"] = 500\n",
    "\n",
    "    # Unsupervised\n",
    "    if verbose:\n",
    "        print(\"Unsupervised\")\n",
    "    model = model_class(**kwargs)\n",
    "\n",
    "    try:\n",
    "        start = time.time()\n",
    "        embeddings = model.fit_transform(X)\n",
    "        end = time.time() - start\n",
    "\n",
    "        if verbose:\n",
    "            print(\"Time: \"+ str(end))\n",
    "    \n",
    "        n_neighbors = model.n_neighbors\n",
    "        del model\n",
    "\n",
    "        if eval_trust:\n",
    "            if verbose:\n",
    "                print(\"Done. Evaluating trustworthiness\")\n",
    "            trust = trustworthiness(X, embeddings, n_neighbors=n_neighbors, batch_size=batchSize)\n",
    "        else:\n",
    "            trust = None\n",
    "        \n",
    "        if verbose:\n",
    "            print(str(trust))\n",
    "        results[\"unsupervised\"] = {\"time\": end, \"trust\": trust}\n",
    "    except:\n",
    "        import traceback\n",
    "        traceback.print_exc()\n",
    "    \n",
    "    # Supervised\n",
    "\n",
    "    if y is not None:\n",
    "        if verbose:\n",
    "            print(\"Supervised\")\n",
    "        kwargs[\"target_metric\"] = \"categorical\"\n",
    "        model = model_class(**kwargs)\n",
    "\n",
    "        try:\n",
    "            start = time.time()\n",
    "            embeddings = model.fit_transform(X, y)\n",
    "            end = time.time() - start\n",
    "\n",
    "\n",
    "            n_neighbors = model.n_neighbors\n",
    "            del model\n",
    "\n",
    "            if eval_trust:\n",
    "                if verbose:\n",
    "                    print(\"Done. Evaluating trustworthiness\")\n",
    "                trust = trustworthiness(X, embeddings, n_neighbors=n_neighbors, batch_size=batchSize)\n",
    "            else:\n",
    "                trust = None\n",
    "\n",
    "            if verbose:\n",
    "                print(str(trust))\n",
    "                print(\"Time: \"+ str(end))\n",
    "\n",
    "            results[\"supervised\"] = {\"time\": end, \"trust\": trust}\n",
    "        except:\n",
    "            import traceback\n",
    "            traceback.print_exc()\n",
    "    \n",
    "    # Transform\n",
    "    \n",
    "\n",
    "    if verbose:\n",
    "        print(\"Transform\")\n",
    "    model = model_class(**kwargs)\n",
    "\n",
    "    try:\n",
    "\n",
    "        model.fit(X)\n",
    "        start = time.time()\n",
    "        embeddings = model.transform(X)\n",
    "        end = time.time() - start\n",
    "\n",
    "        n_neighbors = model.n_neighbors\n",
    "        del model\n",
    "\n",
    "        if eval_trust:\n",
    "            if verbose:\n",
    "                print(\"Done. Evaluating trustworthiness\")\n",
    "            trust = trustworthiness(X, embeddings, n_neighbors=n_neighbors, batch_size=batchSize)\n",
    "        else:\n",
    "            trust = None\n",
    "\n",
    "        if verbose:\n",
    "            print(str(trust))\n",
    "            print(\"Time: \"+ str(end))\n",
    "        results[\"xform\"] = {\"time\": end, \"trust\": trust}        \n",
    "    except:\n",
    "        import traceback\n",
    "        traceback.print_exc()\n",
    "        \n",
    "    return results\n",
    "\n",
    "def build_and_train(model_class, X, y=None, kwargs={}, n_trials=4, verbose=False, eval_trust=True):\n",
    "    \n",
    "    results = []\n",
    "    \n",
    "    for trial in range(n_trials):\n",
    "        results.append(_run_build_and_train_once(model_class, X, y, kwargs, verbose, eval_trust))\n",
    "        \n",
    "    return results"
   ]
  },
  {
   "cell_type": "code",
   "execution_count": 7,
   "metadata": {},
   "outputs": [],
   "source": [
    "def store_results(results, filename):\n",
    "    import pickle\n",
    "    with open(filename, 'wb') as handle:\n",
    "        pickle.dump(results, handle, protocol=pickle.HIGHEST_PROTOCOL)"
   ]
  },
  {
   "cell_type": "code",
   "execution_count": 8,
   "metadata": {},
   "outputs": [],
   "source": [
    "final_results = pickle.load( open(RESULTS_FILE, \"rb\" ) ) if os.path.exists(RESULTS_FILE) else {}"
   ]
  },
  {
   "cell_type": "code",
   "execution_count": 9,
   "metadata": {},
   "outputs": [
    {
     "data": {
      "text/plain": [
       "{'digits': {'umapcuml': [{'unsupervised': {'time': 0.4452664852142334,\n",
       "     'trust': 0.9876636433389232},\n",
       "    'supervised': {'time': 0.47392821311950684, 'trust': 0.9879378905549919},\n",
       "    'xform': {'time': 0.15683841705322266, 'trust': 0.9847805133487961}},\n",
       "   {'unsupervised': {'time': 0.18512916564941406, 'trust': 0.9874644094493787},\n",
       "    'supervised': {'time': 0.2050032615661621, 'trust': 0.9864168160345743},\n",
       "    'xform': {'time': 0.42592787742614746, 'trust': 0.9856609318173406}},\n",
       "   {'unsupervised': {'time': 0.44254136085510254, 'trust': 0.9869448789027268},\n",
       "    'supervised': {'time': 0.4717979431152344, 'trust': 0.9879864913274599},\n",
       "    'xform': {'time': 0.14838576316833496, 'trust': 0.9858305953573715}},\n",
       "   {'unsupervised': {'time': 0.36017560958862305, 'trust': 0.9863258882554476},\n",
       "    'supervised': {'time': 0.474459171295166, 'trust': 0.9875988980757733},\n",
       "    'xform': {'time': 0.15300321578979492, 'trust': 0.9862826829215756}}],\n",
       "  'umaplearn': [{'unsupervised': {'time': 9.263211965560913,\n",
       "     'trust': 0.9871246641182629},\n",
       "    'supervised': {'time': 7.278768062591553, 'trust': 0.9874444797866585},\n",
       "    'xform': {'time': 6.69830322265625, 'trust': 0.9876964551341049}},\n",
       "   {'unsupervised': {'time': 5.6170947551727295, 'trust': 0.9879530939808027},\n",
       "    'supervised': {'time': 6.764050483703613, 'trust': 0.9872420044514459},\n",
       "    'xform': {'time': 6.6580493450164795, 'trust': 0.9871366260984057}},\n",
       "   {'unsupervised': {'time': 5.205284118652344, 'trust': 0.9875342573753868},\n",
       "    'supervised': {'time': 6.607924222946167, 'trust': 0.9872283276419821},\n",
       "    'xform': {'time': 6.466777563095093, 'trust': 0.9877209855584185}},\n",
       "   {'unsupervised': {'time': 5.228588342666626, 'trust': 0.987210531059637},\n",
       "    'supervised': {'time': 6.372365951538086, 'trust': 0.9876400330669284},\n",
       "    'xform': {'time': 6.500810861587524, 'trust': 0.9877023942990708}}],\n",
       "  'umapgpumap': [{'unsupervised': {'time': 4.263961553573608,\n",
       "     'trust': 0.951669271325105},\n",
       "    'supervised': {'time': 3.118447780609131, 'trust': 0.9531886310162015}},\n",
       "   {'unsupervised': {'time': 1.9332420825958252, 'trust': 0.9558078864163978},\n",
       "    'supervised': {'time': 2.453421115875244, 'trust': 0.9512448510681191}},\n",
       "   {'unsupervised': {'time': 1.8781499862670898, 'trust': 0.9556659738337958},\n",
       "    'supervised': {'time': 2.3237812519073486, 'trust': 0.9522937410611908}},\n",
       "   {'unsupervised': {'time': 1.8561744689941406, 'trust': 0.9461403688179619},\n",
       "    'supervised': {'time': 2.3167366981506348, 'trust': 0.9548070534694238}}]},\n",
       " 'fashion_mnist': {'umapgpumap': [{'unsupervised': {'time': 6.479771852493286,\n",
       "     'trust': 0.9745745792397836},\n",
       "    'supervised': {'time': 6.876313924789429, 'trust': 0.9676141851918549}},\n",
       "   {'unsupervised': {'time': 3.3777499198913574, 'trust': 0.9750927790516971},\n",
       "    'supervised': {'time': 6.480828523635864, 'trust': 0.9696567894031254}},\n",
       "   {'unsupervised': {'time': 3.3025641441345215, 'trust': 0.9748744066270485},\n",
       "    'supervised': {'time': 6.351450681686401, 'trust': 0.9664509547458497}},\n",
       "   {'unsupervised': {'time': 3.4731950759887695, 'trust': 0.9748966109477026},\n",
       "    'supervised': {'time': 6.198164224624634, 'trust': 0.9668087698207842}}],\n",
       "  'umapcuml': [{'unsupervised': {'time': 0.589625358581543,\n",
       "     'trust': 0.97601825773189},\n",
       "    'supervised': {'time': 1.0603547096252441, 'trust': 0.9757726834610587},\n",
       "    'xform': {'time': 0.44457364082336426, 'trust': 0.9736058731016267}},\n",
       "   {'unsupervised': {'time': 0.40508532524108887, 'trust': 0.9739971370030214},\n",
       "    'supervised': {'time': 1.025468349456787, 'trust': 0.9762932845375539},\n",
       "    'xform': {'time': 0.45213890075683594, 'trust': 0.969764299951311}},\n",
       "   {'unsupervised': {'time': 0.41647815704345703, 'trust': 0.9773246413616931},\n",
       "    'supervised': {'time': 1.0376453399658203, 'trust': 0.9755241428390393},\n",
       "    'xform': {'time': 0.46546101570129395, 'trust': 0.9742983522553708}},\n",
       "   {'unsupervised': {'time': 0.4108717441558838, 'trust': 0.974691792331139},\n",
       "    'supervised': {'time': 1.0243778228759766, 'trust': 0.9758944423768267},\n",
       "    'xform': {'time': 0.4740877151489258, 'trust': 0.9738181965837619}}],\n",
       "  'umaplearn': [{'unsupervised': {'time': 51.31654953956604,\n",
       "     'trust': 0.9768837692805357},\n",
       "    'supervised': {'time': 52.09980010986328, 'trust': 0.9775639865804937},\n",
       "    'xform': {'time': 0.261110782623291, 'trust': 0.9782571167003489}},\n",
       "   {'unsupervised': {'time': 44.576194524765015, 'trust': 0.9777756288426009},\n",
       "    'supervised': {'time': 52.18143153190613, 'trust': 0.9772261758275473},\n",
       "    'xform': {'time': 0.2587544918060303, 'trust': 0.9785438356844148}},\n",
       "   {'unsupervised': {'time': 44.49176001548767, 'trust': 0.9783708581947695},\n",
       "    'supervised': {'time': 50.79117822647095, 'trust': 0.9771812216019369},\n",
       "    'xform': {'time': 0.2576425075531006, 'trust': 0.9768428079316486}},\n",
       "   {'unsupervised': {'time': 43.096691846847534, 'trust': 0.9781400324149109},\n",
       "    'supervised': {'time': 57.29015898704529, 'trust': 0.9781969233047202},\n",
       "    'xform': {'time': 0.2584860324859619, 'trust': 0.9787408533525421}}]},\n",
       " 'cifar100': {'umaplearn': [{'unsupervised': {'time': 106.26967883110046,\n",
       "     'trust': 0.8441760104151036},\n",
       "    'supervised': {'time': 99.81106400489807, 'trust': 0.8474044828110034},\n",
       "    'xform': {'time': 99.87579226493835, 'trust': 0.8498454070541855}},\n",
       "   {'unsupervised': {'time': 106.59346199035645, 'trust': 0.844329741901062},\n",
       "    'supervised': {'time': 97.1928915977478, 'trust': 0.8490670250262601},\n",
       "    'xform': {'time': 98.72296786308289, 'trust': 0.8435752178705541}},\n",
       "   {'unsupervised': {'time': 107.33383107185364, 'trust': 0.8472284890319066},\n",
       "    'supervised': {'time': 100.0251407623291, 'trust': 0.8463326112046655},\n",
       "    'xform': {'time': 100.32673573493958, 'trust': 0.8508993518441328}},\n",
       "   {'unsupervised': {'time': 103.20404744148254, 'trust': 0.8423912181521435},\n",
       "    'supervised': {'time': 96.66665291786194, 'trust': 0.8450828778624399},\n",
       "    'xform': {'time': 100.74139332771301, 'trust': 0.8453433263121233}}],\n",
       "  'umapcuml': [{'unsupervised': {'time': 0.813828706741333,\n",
       "     'trust': 0.827138247643078},\n",
       "    'supervised': {'time': 1.107100248336792, 'trust': 0.834695580398412},\n",
       "    'xform': {'time': 0.991875410079956, 'trust': 0.8296861796281167}},\n",
       "   {'unsupervised': {'time': 1.0972464084625244, 'trust': 0.8342801452408608},\n",
       "    'supervised': {'time': 1.087634563446045, 'trust': 0.8380606268143529},\n",
       "    'xform': {'time': 1.041929006576538, 'trust': 0.8325708448609004}},\n",
       "   {'unsupervised': {'time': 0.9525892734527588, 'trust': 0.8270282343602084},\n",
       "    'supervised': {'time': 1.0747671127319336, 'trust': 0.8382352637585149},\n",
       "    'xform': {'time': 1.0186042785644531, 'trust': 0.8290310706696826}},\n",
       "   {'unsupervised': {'time': 1.1712286472320557, 'trust': 0.825273720981932},\n",
       "    'supervised': {'time': 1.0567560195922852, 'trust': 0.8315560307932855},\n",
       "    'xform': {'time': 0.9979662895202637, 'trust': 0.8287983224865828}}],\n",
       "  'umapgpumap': [{'unsupervised': {'time': 8.464476108551025,\n",
       "     'trust': 0.8346008593479353},\n",
       "    'supervised': {'time': 6.0653767585754395, 'trust': 0.8309824029952222}},\n",
       "   {'unsupervised': {'time': 5.399772882461548, 'trust': 0.8401050404506913},\n",
       "    'supervised': {'time': 5.690048456192017, 'trust': 0.8296486555401793}},\n",
       "   {'unsupervised': {'time': 5.15649676322937, 'trust': 0.8347203629909984},\n",
       "    'supervised': {'time': 6.0474982261657715, 'trust': 0.8307973040035718}},\n",
       "   {'unsupervised': {'time': 5.723386287689209, 'trust': 0.8329430399430893},\n",
       "    'supervised': {'time': 6.012655973434448, 'trust': 0.8284376570463122}}]},\n",
       " 'coil20': {'umapcuml': [{'unsupervised': {'time': 2.064183473587036,\n",
       "     'trust': 0.9921860542617423},\n",
       "    'supervised': {'time': 0.394045352935791, 'trust': 0.9866257285867378},\n",
       "    'xform': {'time': 0.17340397834777832, 'trust': 0.9927199482474712}},\n",
       "   {'unsupervised': {'time': 0.22162199020385742, 'trust': 0.9926057267571029},\n",
       "    'supervised': {'time': 0.23158931732177734, 'trust': 0.9862040957683159},\n",
       "    'xform': {'time': 0.37630367279052734, 'trust': 0.9909749666745079}},\n",
       "   {'unsupervised': {'time': 0.4388558864593506, 'trust': 0.9909937857758959},\n",
       "    'supervised': {'time': 0.43929457664489746, 'trust': 0.986986493374108},\n",
       "    'xform': {'time': 0.1761476993560791, 'trust': 0.9907711910922921}},\n",
       "   {'unsupervised': {'time': 0.30503273010253906, 'trust': 0.9927721908570533},\n",
       "    'supervised': {'time': 0.4133152961730957, 'trust': 0.9864624010036854},\n",
       "    'xform': {'time': 0.18416094779968262, 'trust': 0.9922615920437021}}],\n",
       "  'umapgpumap': [{'unsupervised': {'time': 2.5237808227539062,\n",
       "     'trust': 0.9562308541781019},\n",
       "    'supervised': {'time': 8.3171067237854, 'trust': 0.9332845866332105}},\n",
       "   {'unsupervised': {'time': 2.702404499053955, 'trust': 0.9561813560208056},\n",
       "    'supervised': {'time': 8.395845174789429, 'trust': 0.932599486395358}},\n",
       "   {'unsupervised': {'time': 2.562446117401123, 'trust': 0.9565478057450535},\n",
       "    'supervised': {'time': 7.961192607879639, 'trust': 0.9290572806398495}},\n",
       "   {'unsupervised': {'time': 2.5401978492736816, 'trust': 0.9438459578138477},\n",
       "    'supervised': {'time': 8.168630838394165, 'trust': 0.9308458794009253}}],\n",
       "  'umaplearn': [{'unsupervised': {'time': 13.982086896896362,\n",
       "     'trust': 0.9936500235238768},\n",
       "    'supervised': {'time': 12.38850736618042, 'trust': 0.9868479965498315},\n",
       "    'xform': {'time': 12.405791997909546, 'trust': 0.9872499934655898}},\n",
       "   {'unsupervised': {'time': 10.334022283554077, 'trust': 0.9923627447136621},\n",
       "    'supervised': {'time': 12.462889194488525, 'trust': 0.986517094017094},\n",
       "    'xform': {'time': 12.799014806747437, 'trust': 0.9875311037925717}},\n",
       "   {'unsupervised': {'time': 10.396621227264404, 'trust': 0.9921312959042317},\n",
       "    'supervised': {'time': 12.415169477462769, 'trust': 0.9855754528346271},\n",
       "    'xform': {'time': 12.686092615127563, 'trust': 0.9872973025954678}},\n",
       "   {'unsupervised': {'time': 10.12751817703247, 'trust': 0.9892843840664941},\n",
       "    'supervised': {'time': 12.08709454536438, 'trust': 0.9860139444313756},\n",
       "    'xform': {'time': 11.974581480026245, 'trust': 0.9857327034161897}}]},\n",
       " 'shuttle': {'umapcuml': [{'unsupervised': {'time': 0.7837574481964111,\n",
       "     'trust': 0.4907984035370634},\n",
       "    'supervised': {'time': 0.5476815700531006, 'trust': 0.9999999959879131},\n",
       "    'xform': {'time': 0.4578070640563965, 'trust': 0.9999987639175375}},\n",
       "   {'unsupervised': {'time': 0.5676589012145996, 'trust': 0.9999980015103526},\n",
       "    'supervised': {'time': 0.4594261646270752, 'trust': 0.9999976843618024},\n",
       "    'xform': {'time': 0.2353208065032959, 'trust': 0.9999980647629775}},\n",
       "   {'unsupervised': {'time': 0.34301042556762695, 'trust': 0.9999991344960172},\n",
       "    'supervised': {'time': 0.4870455265045166, 'trust': 0.9999997347595531},\n",
       "    'xform': {'time': 0.44645023345947266, 'trust': 0.9999988579663878}},\n",
       "   {'unsupervised': {'time': 0.6358237266540527, 'trust': 0.9999971075067181},\n",
       "    'supervised': {'time': 0.7296688556671143, 'trust': 0.9999981510643496},\n",
       "    'xform': {'time': 0.45848917961120605, 'trust': 0.9999989773328898}}],\n",
       "  'umaplearn': [{'unsupervised': {'time': 43.14485430717468,\n",
       "     'trust': 0.9995937495025617},\n",
       "    'supervised': {'time': 51.45029878616333, 'trust': 1.0},\n",
       "    'xform': {'time': 61.346752882003784, 'trust': 0.9999996712025631}},\n",
       "   {'unsupervised': {'time': 36.14379930496216, 'trust': 0.9999990541436014},\n",
       "    'supervised': {'time': 55.80541253089905, 'trust': 0.9999988794103004},\n",
       "    'xform': {'time': 60.803152561187744, 'trust': 1.0}},\n",
       "   {'unsupervised': {'time': 39.73343586921692, 'trust': 1.0},\n",
       "    'supervised': {'time': 49.26429724693298, 'trust': 0.7057494722624743},\n",
       "    'xform': {'time': 48.41824674606323, 'trust': 0.6532779119313101}},\n",
       "   {'unsupervised': {'time': 36.481457471847534, 'trust': 0.7662410042817691},\n",
       "    'supervised': {'time': 44.17238092422485, 'trust': 1.0},\n",
       "    'xform': {'time': 50.555405616760254, 'trust': 1.0}}],\n",
       "  'umapgpumap': [{'unsupervised': {'time': 12.086997747421265,\n",
       "     'trust': 0.9732011740073436},\n",
       "    'supervised': {'time': 19.82458734512329, 'trust': 0.9668076059384338}},\n",
       "   {'unsupervised': {'time': 8.946580171585083, 'trust': 0.9763382049528245},\n",
       "    'supervised': {'time': 12.691536664962769, 'trust': 0.9639454594176171}},\n",
       "   {'unsupervised': {'time': 7.189095497131348, 'trust': 0.9778424900551579},\n",
       "    'supervised': {'time': 23.83462929725647, 'trust': 0.9640114737970411}},\n",
       "   {'unsupervised': {'time': 8.034754753112793, 'trust': 0.9698157821284997},\n",
       "    'supervised': {'time': 12.253328800201416, 'trust': 0.9658356159126269}}]},\n",
       " 'mnist': {'umapcuml': [{'unsupervised': {'time': 0.8702592849731445,\n",
       "     'trust': 0.9559595178151625},\n",
       "    'supervised': {'time': 1.011225700378418, 'trust': 0.9553705150307618},\n",
       "    'xform': {'time': 0.4377431869506836, 'trust': 0.954108408575139}},\n",
       "   {'unsupervised': {'time': 0.6537017822265625, 'trust': 0.9574214731202516},\n",
       "    'supervised': {'time': 0.8979723453521729, 'trust': 0.9560532148990446},\n",
       "    'xform': {'time': 0.4433917999267578, 'trust': 0.9531227299909409}},\n",
       "   {'unsupervised': {'time': 0.6645529270172119, 'trust': 0.956424851544944},\n",
       "    'supervised': {'time': 0.8808555603027344, 'trust': 0.9563548094547354},\n",
       "    'xform': {'time': 0.4418752193450928, 'trust': 0.952863784209873}},\n",
       "   {'unsupervised': {'time': 0.642711877822876, 'trust': 0.9567874069133908},\n",
       "    'supervised': {'time': 0.879960298538208, 'trust': 0.9574419861872977},\n",
       "    'xform': {'time': 0.44603633880615234, 'trust': 0.954058174077841}}],\n",
       "  'umaplearn': [{'unsupervised': {'time': 52.32333850860596,\n",
       "     'trust': 0.9575792140876225},\n",
       "    'supervised': {'time': 88.2114098072052, 'trust': 0.9563557643207674},\n",
       "    'xform': {'time': 85.75131511688232, 'trust': 0.9566137627757307}},\n",
       "   {'unsupervised': {'time': 51.839635133743286, 'trust': 0.9594030397578331},\n",
       "    'supervised': {'time': 92.17171335220337, 'trust': 0.9564347384460339},\n",
       "    'xform': {'time': 94.09139847755432, 'trust': 0.9575536319478022}},\n",
       "   {'unsupervised': {'time': 54.40650486946106, 'trust': 0.9590946155285452},\n",
       "    'supervised': {'time': 90.77351665496826, 'trust': 0.9569490322586621},\n",
       "    'xform': {'time': 88.45775318145752, 'trust': 0.9581549449881714}},\n",
       "   {'unsupervised': {'time': 51.73101210594177, 'trust': 0.9590602315702501},\n",
       "    'supervised': {'time': 85.51447701454163, 'trust': 0.9584785717302744},\n",
       "    'xform': {'time': 101.88577651977539, 'trust': 0.9568694395073667}}],\n",
       "  'umapgpumap': [{'unsupervised': {'time': 10.581817388534546,\n",
       "     'trust': 0.9442834214597077},\n",
       "    'supervised': {'time': 25.554595947265625, 'trust': 0.9450770215619692}},\n",
       "   {'unsupervised': {'time': 10.227915525436401, 'trust': 0.9419907738521989},\n",
       "    'supervised': {'time': 25.033493280410767, 'trust': 0.9447635175706243}},\n",
       "   {'unsupervised': {'time': 9.917372941970825, 'trust': 0.9436392852630545},\n",
       "    'supervised': {'time': 25.709108352661133, 'trust': 0.9469258037618123}},\n",
       "   {'unsupervised': {'time': 11.701467275619507, 'trust': 0.9397684622623858},\n",
       "    'supervised': {'time': 19.324782371520996, 'trust': 0.9448813560198076}}]},\n",
       " 'scrna': {'umapcuml': [{'unsupervised': {'time': 3.8234424591064453,\n",
       "     'trust': 0.6178009579665475},\n",
       "    'xform': {'time': 3.4701781272888184, 'trust': 0.5337737424809548}},\n",
       "   {'unsupervised': {'time': 3.8994381427764893, 'trust': 0.6201815623705682},\n",
       "    'xform': {'time': 3.9311397075653076, 'trust': 0.9708745134888634}},\n",
       "   {'unsupervised': {'time': 4.300644397735596, 'trust': 0.6187572904540646},\n",
       "    'xform': {'time': 3.5282957553863525, 'trust': 0.8702917658612157}},\n",
       "   {'unsupervised': {'time': 4.389519453048706, 'trust': 0.9781377849332045},\n",
       "    'xform': {'time': 3.602308988571167, 'trust': 0.6201129287721822}}],\n",
       "  'umapgpumap': [{}, {}, {}, {}],\n",
       "  'umaplearn': [{'unsupervised': {'time': 222.38141894340515,\n",
       "     'trust': 0.6233079229256522},\n",
       "    'xform': {'time': 2.1147098541259766, 'trust': 0.9412946245569216}},\n",
       "   {'unsupervised': {'time': 225.683984041214, 'trust': 0.6231010898670823},\n",
       "    'xform': {'time': 2.2269630432128906, 'trust': 0.9502004104337913}},\n",
       "   {'unsupervised': {'time': 227.73396110534668, 'trust': 0.6238778233428524},\n",
       "    'xform': {'time': 2.115278482437134, 'trust': 0.9481981978106048}},\n",
       "   {'unsupervised': {'time': 219.88730216026306, 'trust': 0.623651432003607},\n",
       "    'xform': {'time': 2.3570568561553955, 'trust': 0.9415185740893797}}]}}"
      ]
     },
     "execution_count": 9,
     "metadata": {},
     "output_type": "execute_result"
    }
   ],
   "source": [
    "final_results"
   ]
  },
  {
   "cell_type": "markdown",
   "metadata": {},
   "source": [
    "## Pen Digits Dataset"
   ]
  },
  {
   "cell_type": "code",
   "execution_count": 17,
   "metadata": {},
   "outputs": [],
   "source": [
    "from sklearn.datasets import load_digits\n",
    "\n",
    "data = load_digits()\n",
    "\n",
    "X = data.data\n",
    "y = data.target"
   ]
  },
  {
   "cell_type": "code",
   "execution_count": 18,
   "metadata": {},
   "outputs": [],
   "source": [
    "results_digits = final_results[\"digits\"] if \"digits\" in final_results else {}"
   ]
  },
  {
   "cell_type": "code",
   "execution_count": 19,
   "metadata": {},
   "outputs": [],
   "source": [
    "results_digits[\"umapcuml\"] = build_and_train(UMAP_CUML, X, y, {})"
   ]
  },
  {
   "cell_type": "code",
   "execution_count": 25,
   "metadata": {},
   "outputs": [],
   "source": [
    "results_digits[\"umaplearn\"] = build_and_train(UMAP_LEARN, X, y, {})"
   ]
  },
  {
   "cell_type": "code",
   "execution_count": 26,
   "metadata": {},
   "outputs": [
    {
     "name": "stderr",
     "output_type": "stream",
     "text": [
      "Traceback (most recent call last):\n",
      "  File \"<ipython-input-19-c64b9b523b44>\", line 90, in _run_build_and_train_once\n",
      "    embeddings = model.transform(X)\n",
      "  File \"/raid/cnolet/miniconda3/envs/umap3/lib/python3.7/site-packages/gpumap/gpumap_.py\", line 1990, in transform\n",
      "    use_gpu=self.use_gpu\n",
      "  File \"/raid/cnolet/miniconda3/envs/umap3/lib/python3.7/site-packages/gpumap/gpumap_.py\", line 131, in smooth_knn_dist\n",
      "    SMOOTH_K_TOLERANCE, MIN_K_DIST_SCALE\n",
      "  File \"/raid/cnolet/miniconda3/envs/umap3/lib/python3.7/site-packages/gpumap/smooth_knn_dist_gpu.py\", line 170, in smooth_knn_dist_gpu\n",
      "    distances_mean, smooth_k_tolerance, min_k_dist_scale\n",
      "  File \"/raid/cnolet/miniconda3/envs/umap3/lib/python3.7/site-packages/numba/cuda/compiler.py\", line 758, in __call__\n",
      "    kernel = self.specialize(*args)\n",
      "  File \"/raid/cnolet/miniconda3/envs/umap3/lib/python3.7/site-packages/numba/cuda/compiler.py\", line 769, in specialize\n",
      "    kernel = self.compile(argtypes)\n",
      "  File \"/raid/cnolet/miniconda3/envs/umap3/lib/python3.7/site-packages/numba/cuda/compiler.py\", line 785, in compile\n",
      "    **self.targetoptions)\n",
      "  File \"/raid/cnolet/miniconda3/envs/umap3/lib/python3.7/site-packages/numba/core/compiler_lock.py\", line 32, in _acquire_compile_lock\n",
      "    return func(*args, **kwargs)\n",
      "  File \"/raid/cnolet/miniconda3/envs/umap3/lib/python3.7/site-packages/numba/cuda/compiler.py\", line 57, in compile_kernel\n",
      "    cres = compile_cuda(pyfunc, types.void, args, debug=debug, inline=inline)\n",
      "  File \"/raid/cnolet/miniconda3/envs/umap3/lib/python3.7/site-packages/numba/core/compiler_lock.py\", line 32, in _acquire_compile_lock\n",
      "    return func(*args, **kwargs)\n",
      "  File \"/raid/cnolet/miniconda3/envs/umap3/lib/python3.7/site-packages/numba/cuda/compiler.py\", line 46, in compile_cuda\n",
      "    locals={})\n",
      "  File \"/raid/cnolet/miniconda3/envs/umap3/lib/python3.7/site-packages/numba/core/compiler.py\", line 568, in compile_extra\n",
      "    return pipeline.compile_extra(func)\n",
      "  File \"/raid/cnolet/miniconda3/envs/umap3/lib/python3.7/site-packages/numba/core/compiler.py\", line 339, in compile_extra\n",
      "    return self._compile_bytecode()\n",
      "  File \"/raid/cnolet/miniconda3/envs/umap3/lib/python3.7/site-packages/numba/core/compiler.py\", line 401, in _compile_bytecode\n",
      "    return self._compile_core()\n",
      "  File \"/raid/cnolet/miniconda3/envs/umap3/lib/python3.7/site-packages/numba/core/compiler.py\", line 381, in _compile_core\n",
      "    raise e\n",
      "  File \"/raid/cnolet/miniconda3/envs/umap3/lib/python3.7/site-packages/numba/core/compiler.py\", line 372, in _compile_core\n",
      "    pm.run(self.state)\n",
      "  File \"/raid/cnolet/miniconda3/envs/umap3/lib/python3.7/site-packages/numba/core/compiler_machinery.py\", line 341, in run\n",
      "    raise patched_exception\n",
      "  File \"/raid/cnolet/miniconda3/envs/umap3/lib/python3.7/site-packages/numba/core/compiler_machinery.py\", line 332, in run\n",
      "    self._runPass(idx, pass_inst, state)\n",
      "  File \"/raid/cnolet/miniconda3/envs/umap3/lib/python3.7/site-packages/numba/core/compiler_lock.py\", line 32, in _acquire_compile_lock\n",
      "    return func(*args, **kwargs)\n",
      "  File \"/raid/cnolet/miniconda3/envs/umap3/lib/python3.7/site-packages/numba/core/compiler_machinery.py\", line 291, in _runPass\n",
      "    mutated |= check(pss.run_pass, internal_state)\n",
      "  File \"/raid/cnolet/miniconda3/envs/umap3/lib/python3.7/site-packages/numba/core/compiler_machinery.py\", line 264, in check\n",
      "    mangled = func(compiler_state)\n",
      "  File \"/raid/cnolet/miniconda3/envs/umap3/lib/python3.7/site-packages/numba/core/typed_passes.py\", line 98, in run_pass\n",
      "    raise_errors=self._raise_errors)\n",
      "  File \"/raid/cnolet/miniconda3/envs/umap3/lib/python3.7/site-packages/numba/core/typed_passes.py\", line 70, in type_inference_stage\n",
      "    infer.propagate(raise_errors=raise_errors)\n",
      "  File \"/raid/cnolet/miniconda3/envs/umap3/lib/python3.7/site-packages/numba/core/typeinfer.py\", line 986, in propagate\n",
      "    raise errors[0]\n",
      "numba.core.errors.TypingError: Failed in nopython mode pipeline (step: nopython frontend)\n",
      "Invalid use of Function(<numba.cuda.compiler.DeviceFunctionTemplate object at 0x7f81747c8050>) with argument(s) of type(s): (array(float32, 1d, C), int64, float64)\n",
      " * parameterized\n",
      "In definition 0:\n",
      "    LoweringError: Failed in nopython mode pipeline (step: nopython mode backend)\n",
      "No definition for lowering <built-in function floor>(int64,) -> float64\n",
      "\n",
      "File \"../../miniconda3/envs/umap3/lib/python3.7/site-packages/gpumap/smooth_knn_dist_gpu.py\", line 18:\n",
      "def calculate_rho(distances, local_connectivity, smooth_k_tolerance):\n",
      "    <source elided>\n",
      "\n",
      "    index = int(floor(local_connectivity))\n",
      "    ^\n",
      "\n",
      "[1] During: lowering \"$12call_function.4 = call $8load_global.2(local_connectivity, func=$8load_global.2, args=[Var(local_connectivity, smooth_knn_dist_gpu.py:16)], kws=(), vararg=None)\" at /raid/cnolet/miniconda3/envs/umap3/lib/python3.7/site-packages/gpumap/smooth_knn_dist_gpu.py (18)\n",
      "    raised from /raid/cnolet/miniconda3/envs/umap3/lib/python3.7/site-packages/numba/core/utils.py:81\n",
      "In definition 1:\n",
      "    LoweringError: Failed in nopython mode pipeline (step: nopython mode backend)\n",
      "No definition for lowering <built-in function floor>(int64,) -> float64\n",
      "\n",
      "File \"../../miniconda3/envs/umap3/lib/python3.7/site-packages/gpumap/smooth_knn_dist_gpu.py\", line 18:\n",
      "def calculate_rho(distances, local_connectivity, smooth_k_tolerance):\n",
      "    <source elided>\n",
      "\n",
      "    index = int(floor(local_connectivity))\n",
      "    ^\n",
      "\n",
      "[1] During: lowering \"$12call_function.4 = call $8load_global.2(local_connectivity, func=$8load_global.2, args=[Var(local_connectivity, smooth_knn_dist_gpu.py:16)], kws=(), vararg=None)\" at /raid/cnolet/miniconda3/envs/umap3/lib/python3.7/site-packages/gpumap/smooth_knn_dist_gpu.py (18)\n",
      "    raised from /raid/cnolet/miniconda3/envs/umap3/lib/python3.7/site-packages/numba/core/utils.py:81\n",
      "This error is usually caused by passing an argument of a type that is unsupported by the named function.\n",
      "[1] During: resolving callee type: Function(<numba.cuda.compiler.DeviceFunctionTemplate object at 0x7f81747c8050>)\n",
      "[2] During: typing of call at /raid/cnolet/miniconda3/envs/umap3/lib/python3.7/site-packages/gpumap/smooth_knn_dist_gpu.py (128)\n",
      "\n",
      "\n",
      "File \"../../miniconda3/envs/umap3/lib/python3.7/site-packages/gpumap/smooth_knn_dist_gpu.py\", line 128:\n",
      "def smooth_knn_dist_cuda(\n",
      "    <source elided>\n",
      "        rho_i, ith_distances_mean = calculate_rho(\n",
      "            ith_distances, local_connectivity, smooth_k_tolerance\n",
      "            ^\n",
      "\n",
      "Traceback (most recent call last):\n",
      "  File \"<ipython-input-19-c64b9b523b44>\", line 90, in _run_build_and_train_once\n",
      "    embeddings = model.transform(X)\n",
      "  File \"/raid/cnolet/miniconda3/envs/umap3/lib/python3.7/site-packages/gpumap/gpumap_.py\", line 1990, in transform\n",
      "    use_gpu=self.use_gpu\n",
      "  File \"/raid/cnolet/miniconda3/envs/umap3/lib/python3.7/site-packages/gpumap/gpumap_.py\", line 131, in smooth_knn_dist\n",
      "    SMOOTH_K_TOLERANCE, MIN_K_DIST_SCALE\n",
      "  File \"/raid/cnolet/miniconda3/envs/umap3/lib/python3.7/site-packages/gpumap/smooth_knn_dist_gpu.py\", line 170, in smooth_knn_dist_gpu\n",
      "    distances_mean, smooth_k_tolerance, min_k_dist_scale\n",
      "  File \"/raid/cnolet/miniconda3/envs/umap3/lib/python3.7/site-packages/numba/cuda/compiler.py\", line 758, in __call__\n",
      "    kernel = self.specialize(*args)\n",
      "  File \"/raid/cnolet/miniconda3/envs/umap3/lib/python3.7/site-packages/numba/cuda/compiler.py\", line 769, in specialize\n",
      "    kernel = self.compile(argtypes)\n",
      "  File \"/raid/cnolet/miniconda3/envs/umap3/lib/python3.7/site-packages/numba/cuda/compiler.py\", line 785, in compile\n",
      "    **self.targetoptions)\n",
      "  File \"/raid/cnolet/miniconda3/envs/umap3/lib/python3.7/site-packages/numba/core/compiler_lock.py\", line 32, in _acquire_compile_lock\n",
      "    return func(*args, **kwargs)\n",
      "  File \"/raid/cnolet/miniconda3/envs/umap3/lib/python3.7/site-packages/numba/cuda/compiler.py\", line 57, in compile_kernel\n",
      "    cres = compile_cuda(pyfunc, types.void, args, debug=debug, inline=inline)\n",
      "  File \"/raid/cnolet/miniconda3/envs/umap3/lib/python3.7/site-packages/numba/core/compiler_lock.py\", line 32, in _acquire_compile_lock\n",
      "    return func(*args, **kwargs)\n",
      "  File \"/raid/cnolet/miniconda3/envs/umap3/lib/python3.7/site-packages/numba/cuda/compiler.py\", line 46, in compile_cuda\n",
      "    locals={})\n",
      "  File \"/raid/cnolet/miniconda3/envs/umap3/lib/python3.7/site-packages/numba/core/compiler.py\", line 568, in compile_extra\n",
      "    return pipeline.compile_extra(func)\n",
      "  File \"/raid/cnolet/miniconda3/envs/umap3/lib/python3.7/site-packages/numba/core/compiler.py\", line 339, in compile_extra\n",
      "    return self._compile_bytecode()\n",
      "  File \"/raid/cnolet/miniconda3/envs/umap3/lib/python3.7/site-packages/numba/core/compiler.py\", line 401, in _compile_bytecode\n",
      "    return self._compile_core()\n",
      "  File \"/raid/cnolet/miniconda3/envs/umap3/lib/python3.7/site-packages/numba/core/compiler.py\", line 381, in _compile_core\n",
      "    raise e\n",
      "  File \"/raid/cnolet/miniconda3/envs/umap3/lib/python3.7/site-packages/numba/core/compiler.py\", line 372, in _compile_core\n",
      "    pm.run(self.state)\n",
      "  File \"/raid/cnolet/miniconda3/envs/umap3/lib/python3.7/site-packages/numba/core/compiler_machinery.py\", line 341, in run\n",
      "    raise patched_exception\n",
      "  File \"/raid/cnolet/miniconda3/envs/umap3/lib/python3.7/site-packages/numba/core/compiler_machinery.py\", line 332, in run\n",
      "    self._runPass(idx, pass_inst, state)\n",
      "  File \"/raid/cnolet/miniconda3/envs/umap3/lib/python3.7/site-packages/numba/core/compiler_lock.py\", line 32, in _acquire_compile_lock\n",
      "    return func(*args, **kwargs)\n",
      "  File \"/raid/cnolet/miniconda3/envs/umap3/lib/python3.7/site-packages/numba/core/compiler_machinery.py\", line 291, in _runPass\n",
      "    mutated |= check(pss.run_pass, internal_state)\n",
      "  File \"/raid/cnolet/miniconda3/envs/umap3/lib/python3.7/site-packages/numba/core/compiler_machinery.py\", line 264, in check\n",
      "    mangled = func(compiler_state)\n",
      "  File \"/raid/cnolet/miniconda3/envs/umap3/lib/python3.7/site-packages/numba/core/typed_passes.py\", line 98, in run_pass\n",
      "    raise_errors=self._raise_errors)\n",
      "  File \"/raid/cnolet/miniconda3/envs/umap3/lib/python3.7/site-packages/numba/core/typed_passes.py\", line 70, in type_inference_stage\n",
      "    infer.propagate(raise_errors=raise_errors)\n",
      "  File \"/raid/cnolet/miniconda3/envs/umap3/lib/python3.7/site-packages/numba/core/typeinfer.py\", line 986, in propagate\n",
      "    raise errors[0]\n",
      "numba.core.errors.TypingError: Failed in nopython mode pipeline (step: nopython frontend)\n",
      "Invalid use of Function(<numba.cuda.compiler.DeviceFunctionTemplate object at 0x7f81747c8050>) with argument(s) of type(s): (array(float32, 1d, C), int64, float64)\n",
      " * parameterized\n",
      "In definition 0:\n",
      "    LoweringError: Failed in nopython mode pipeline (step: nopython mode backend)\n",
      "No definition for lowering <built-in function floor>(int64,) -> float64\n",
      "\n",
      "File \"../../miniconda3/envs/umap3/lib/python3.7/site-packages/gpumap/smooth_knn_dist_gpu.py\", line 18:\n",
      "def calculate_rho(distances, local_connectivity, smooth_k_tolerance):\n",
      "    <source elided>\n",
      "\n",
      "    index = int(floor(local_connectivity))\n",
      "    ^\n",
      "\n",
      "[1] During: lowering \"$12call_function.4 = call $8load_global.2(local_connectivity, func=$8load_global.2, args=[Var(local_connectivity, smooth_knn_dist_gpu.py:16)], kws=(), vararg=None)\" at /raid/cnolet/miniconda3/envs/umap3/lib/python3.7/site-packages/gpumap/smooth_knn_dist_gpu.py (18)\n",
      "    raised from /raid/cnolet/miniconda3/envs/umap3/lib/python3.7/site-packages/numba/core/utils.py:81\n",
      "In definition 1:\n",
      "    LoweringError: Failed in nopython mode pipeline (step: nopython mode backend)\n",
      "No definition for lowering <built-in function floor>(int64,) -> float64\n",
      "\n",
      "File \"../../miniconda3/envs/umap3/lib/python3.7/site-packages/gpumap/smooth_knn_dist_gpu.py\", line 18:\n",
      "def calculate_rho(distances, local_connectivity, smooth_k_tolerance):\n",
      "    <source elided>\n",
      "\n",
      "    index = int(floor(local_connectivity))\n",
      "    ^\n",
      "\n",
      "[1] During: lowering \"$12call_function.4 = call $8load_global.2(local_connectivity, func=$8load_global.2, args=[Var(local_connectivity, smooth_knn_dist_gpu.py:16)], kws=(), vararg=None)\" at /raid/cnolet/miniconda3/envs/umap3/lib/python3.7/site-packages/gpumap/smooth_knn_dist_gpu.py (18)\n",
      "    raised from /raid/cnolet/miniconda3/envs/umap3/lib/python3.7/site-packages/numba/core/utils.py:81\n",
      "This error is usually caused by passing an argument of a type that is unsupported by the named function.\n",
      "[1] During: resolving callee type: Function(<numba.cuda.compiler.DeviceFunctionTemplate object at 0x7f81747c8050>)\n",
      "[2] During: typing of call at /raid/cnolet/miniconda3/envs/umap3/lib/python3.7/site-packages/gpumap/smooth_knn_dist_gpu.py (128)\n",
      "\n",
      "\n",
      "File \"../../miniconda3/envs/umap3/lib/python3.7/site-packages/gpumap/smooth_knn_dist_gpu.py\", line 128:\n",
      "def smooth_knn_dist_cuda(\n",
      "    <source elided>\n",
      "        rho_i, ith_distances_mean = calculate_rho(\n",
      "            ith_distances, local_connectivity, smooth_k_tolerance\n",
      "            ^\n",
      "\n",
      "Traceback (most recent call last):\n",
      "  File \"<ipython-input-19-c64b9b523b44>\", line 90, in _run_build_and_train_once\n",
      "    embeddings = model.transform(X)\n",
      "  File \"/raid/cnolet/miniconda3/envs/umap3/lib/python3.7/site-packages/gpumap/gpumap_.py\", line 1990, in transform\n",
      "    use_gpu=self.use_gpu\n",
      "  File \"/raid/cnolet/miniconda3/envs/umap3/lib/python3.7/site-packages/gpumap/gpumap_.py\", line 131, in smooth_knn_dist\n",
      "    SMOOTH_K_TOLERANCE, MIN_K_DIST_SCALE\n",
      "  File \"/raid/cnolet/miniconda3/envs/umap3/lib/python3.7/site-packages/gpumap/smooth_knn_dist_gpu.py\", line 170, in smooth_knn_dist_gpu\n",
      "    distances_mean, smooth_k_tolerance, min_k_dist_scale\n",
      "  File \"/raid/cnolet/miniconda3/envs/umap3/lib/python3.7/site-packages/numba/cuda/compiler.py\", line 758, in __call__\n",
      "    kernel = self.specialize(*args)\n",
      "  File \"/raid/cnolet/miniconda3/envs/umap3/lib/python3.7/site-packages/numba/cuda/compiler.py\", line 769, in specialize\n",
      "    kernel = self.compile(argtypes)\n",
      "  File \"/raid/cnolet/miniconda3/envs/umap3/lib/python3.7/site-packages/numba/cuda/compiler.py\", line 785, in compile\n",
      "    **self.targetoptions)\n",
      "  File \"/raid/cnolet/miniconda3/envs/umap3/lib/python3.7/site-packages/numba/core/compiler_lock.py\", line 32, in _acquire_compile_lock\n",
      "    return func(*args, **kwargs)\n",
      "  File \"/raid/cnolet/miniconda3/envs/umap3/lib/python3.7/site-packages/numba/cuda/compiler.py\", line 57, in compile_kernel\n",
      "    cres = compile_cuda(pyfunc, types.void, args, debug=debug, inline=inline)\n",
      "  File \"/raid/cnolet/miniconda3/envs/umap3/lib/python3.7/site-packages/numba/core/compiler_lock.py\", line 32, in _acquire_compile_lock\n",
      "    return func(*args, **kwargs)\n",
      "  File \"/raid/cnolet/miniconda3/envs/umap3/lib/python3.7/site-packages/numba/cuda/compiler.py\", line 46, in compile_cuda\n",
      "    locals={})\n",
      "  File \"/raid/cnolet/miniconda3/envs/umap3/lib/python3.7/site-packages/numba/core/compiler.py\", line 568, in compile_extra\n",
      "    return pipeline.compile_extra(func)\n",
      "  File \"/raid/cnolet/miniconda3/envs/umap3/lib/python3.7/site-packages/numba/core/compiler.py\", line 339, in compile_extra\n",
      "    return self._compile_bytecode()\n",
      "  File \"/raid/cnolet/miniconda3/envs/umap3/lib/python3.7/site-packages/numba/core/compiler.py\", line 401, in _compile_bytecode\n",
      "    return self._compile_core()\n",
      "  File \"/raid/cnolet/miniconda3/envs/umap3/lib/python3.7/site-packages/numba/core/compiler.py\", line 381, in _compile_core\n",
      "    raise e\n",
      "  File \"/raid/cnolet/miniconda3/envs/umap3/lib/python3.7/site-packages/numba/core/compiler.py\", line 372, in _compile_core\n",
      "    pm.run(self.state)\n",
      "  File \"/raid/cnolet/miniconda3/envs/umap3/lib/python3.7/site-packages/numba/core/compiler_machinery.py\", line 341, in run\n",
      "    raise patched_exception\n",
      "  File \"/raid/cnolet/miniconda3/envs/umap3/lib/python3.7/site-packages/numba/core/compiler_machinery.py\", line 332, in run\n",
      "    self._runPass(idx, pass_inst, state)\n",
      "  File \"/raid/cnolet/miniconda3/envs/umap3/lib/python3.7/site-packages/numba/core/compiler_lock.py\", line 32, in _acquire_compile_lock\n",
      "    return func(*args, **kwargs)\n",
      "  File \"/raid/cnolet/miniconda3/envs/umap3/lib/python3.7/site-packages/numba/core/compiler_machinery.py\", line 291, in _runPass\n",
      "    mutated |= check(pss.run_pass, internal_state)\n",
      "  File \"/raid/cnolet/miniconda3/envs/umap3/lib/python3.7/site-packages/numba/core/compiler_machinery.py\", line 264, in check\n",
      "    mangled = func(compiler_state)\n",
      "  File \"/raid/cnolet/miniconda3/envs/umap3/lib/python3.7/site-packages/numba/core/typed_passes.py\", line 98, in run_pass\n",
      "    raise_errors=self._raise_errors)\n",
      "  File \"/raid/cnolet/miniconda3/envs/umap3/lib/python3.7/site-packages/numba/core/typed_passes.py\", line 70, in type_inference_stage\n",
      "    infer.propagate(raise_errors=raise_errors)\n",
      "  File \"/raid/cnolet/miniconda3/envs/umap3/lib/python3.7/site-packages/numba/core/typeinfer.py\", line 986, in propagate\n",
      "    raise errors[0]\n",
      "numba.core.errors.TypingError: Failed in nopython mode pipeline (step: nopython frontend)\n",
      "Invalid use of Function(<numba.cuda.compiler.DeviceFunctionTemplate object at 0x7f81747c8050>) with argument(s) of type(s): (array(float32, 1d, C), int64, float64)\n",
      " * parameterized\n",
      "In definition 0:\n",
      "    LoweringError: Failed in nopython mode pipeline (step: nopython mode backend)\n",
      "No definition for lowering <built-in function floor>(int64,) -> float64\n",
      "\n",
      "File \"../../miniconda3/envs/umap3/lib/python3.7/site-packages/gpumap/smooth_knn_dist_gpu.py\", line 18:\n",
      "def calculate_rho(distances, local_connectivity, smooth_k_tolerance):\n",
      "    <source elided>\n",
      "\n",
      "    index = int(floor(local_connectivity))\n",
      "    ^\n",
      "\n",
      "[1] During: lowering \"$12call_function.4 = call $8load_global.2(local_connectivity, func=$8load_global.2, args=[Var(local_connectivity, smooth_knn_dist_gpu.py:16)], kws=(), vararg=None)\" at /raid/cnolet/miniconda3/envs/umap3/lib/python3.7/site-packages/gpumap/smooth_knn_dist_gpu.py (18)\n",
      "    raised from /raid/cnolet/miniconda3/envs/umap3/lib/python3.7/site-packages/numba/core/utils.py:81\n",
      "In definition 1:\n",
      "    LoweringError: Failed in nopython mode pipeline (step: nopython mode backend)\n",
      "No definition for lowering <built-in function floor>(int64,) -> float64\n",
      "\n",
      "File \"../../miniconda3/envs/umap3/lib/python3.7/site-packages/gpumap/smooth_knn_dist_gpu.py\", line 18:\n",
      "def calculate_rho(distances, local_connectivity, smooth_k_tolerance):\n",
      "    <source elided>\n",
      "\n",
      "    index = int(floor(local_connectivity))\n",
      "    ^\n",
      "\n",
      "[1] During: lowering \"$12call_function.4 = call $8load_global.2(local_connectivity, func=$8load_global.2, args=[Var(local_connectivity, smooth_knn_dist_gpu.py:16)], kws=(), vararg=None)\" at /raid/cnolet/miniconda3/envs/umap3/lib/python3.7/site-packages/gpumap/smooth_knn_dist_gpu.py (18)\n",
      "    raised from /raid/cnolet/miniconda3/envs/umap3/lib/python3.7/site-packages/numba/core/utils.py:81\n",
      "This error is usually caused by passing an argument of a type that is unsupported by the named function.\n",
      "[1] During: resolving callee type: Function(<numba.cuda.compiler.DeviceFunctionTemplate object at 0x7f81747c8050>)\n",
      "[2] During: typing of call at /raid/cnolet/miniconda3/envs/umap3/lib/python3.7/site-packages/gpumap/smooth_knn_dist_gpu.py (128)\n",
      "\n",
      "\n",
      "File \"../../miniconda3/envs/umap3/lib/python3.7/site-packages/gpumap/smooth_knn_dist_gpu.py\", line 128:\n",
      "def smooth_knn_dist_cuda(\n",
      "    <source elided>\n",
      "        rho_i, ith_distances_mean = calculate_rho(\n",
      "            ith_distances, local_connectivity, smooth_k_tolerance\n",
      "            ^\n",
      "\n",
      "Traceback (most recent call last):\n",
      "  File \"<ipython-input-19-c64b9b523b44>\", line 90, in _run_build_and_train_once\n",
      "    embeddings = model.transform(X)\n",
      "  File \"/raid/cnolet/miniconda3/envs/umap3/lib/python3.7/site-packages/gpumap/gpumap_.py\", line 1990, in transform\n",
      "    use_gpu=self.use_gpu\n",
      "  File \"/raid/cnolet/miniconda3/envs/umap3/lib/python3.7/site-packages/gpumap/gpumap_.py\", line 131, in smooth_knn_dist\n",
      "    SMOOTH_K_TOLERANCE, MIN_K_DIST_SCALE\n",
      "  File \"/raid/cnolet/miniconda3/envs/umap3/lib/python3.7/site-packages/gpumap/smooth_knn_dist_gpu.py\", line 170, in smooth_knn_dist_gpu\n",
      "    distances_mean, smooth_k_tolerance, min_k_dist_scale\n",
      "  File \"/raid/cnolet/miniconda3/envs/umap3/lib/python3.7/site-packages/numba/cuda/compiler.py\", line 758, in __call__\n",
      "    kernel = self.specialize(*args)\n",
      "  File \"/raid/cnolet/miniconda3/envs/umap3/lib/python3.7/site-packages/numba/cuda/compiler.py\", line 769, in specialize\n",
      "    kernel = self.compile(argtypes)\n",
      "  File \"/raid/cnolet/miniconda3/envs/umap3/lib/python3.7/site-packages/numba/cuda/compiler.py\", line 785, in compile\n",
      "    **self.targetoptions)\n",
      "  File \"/raid/cnolet/miniconda3/envs/umap3/lib/python3.7/site-packages/numba/core/compiler_lock.py\", line 32, in _acquire_compile_lock\n",
      "    return func(*args, **kwargs)\n",
      "  File \"/raid/cnolet/miniconda3/envs/umap3/lib/python3.7/site-packages/numba/cuda/compiler.py\", line 57, in compile_kernel\n",
      "    cres = compile_cuda(pyfunc, types.void, args, debug=debug, inline=inline)\n",
      "  File \"/raid/cnolet/miniconda3/envs/umap3/lib/python3.7/site-packages/numba/core/compiler_lock.py\", line 32, in _acquire_compile_lock\n",
      "    return func(*args, **kwargs)\n",
      "  File \"/raid/cnolet/miniconda3/envs/umap3/lib/python3.7/site-packages/numba/cuda/compiler.py\", line 46, in compile_cuda\n",
      "    locals={})\n",
      "  File \"/raid/cnolet/miniconda3/envs/umap3/lib/python3.7/site-packages/numba/core/compiler.py\", line 568, in compile_extra\n",
      "    return pipeline.compile_extra(func)\n",
      "  File \"/raid/cnolet/miniconda3/envs/umap3/lib/python3.7/site-packages/numba/core/compiler.py\", line 339, in compile_extra\n",
      "    return self._compile_bytecode()\n",
      "  File \"/raid/cnolet/miniconda3/envs/umap3/lib/python3.7/site-packages/numba/core/compiler.py\", line 401, in _compile_bytecode\n",
      "    return self._compile_core()\n",
      "  File \"/raid/cnolet/miniconda3/envs/umap3/lib/python3.7/site-packages/numba/core/compiler.py\", line 381, in _compile_core\n",
      "    raise e\n",
      "  File \"/raid/cnolet/miniconda3/envs/umap3/lib/python3.7/site-packages/numba/core/compiler.py\", line 372, in _compile_core\n",
      "    pm.run(self.state)\n",
      "  File \"/raid/cnolet/miniconda3/envs/umap3/lib/python3.7/site-packages/numba/core/compiler_machinery.py\", line 341, in run\n",
      "    raise patched_exception\n",
      "  File \"/raid/cnolet/miniconda3/envs/umap3/lib/python3.7/site-packages/numba/core/compiler_machinery.py\", line 332, in run\n",
      "    self._runPass(idx, pass_inst, state)\n",
      "  File \"/raid/cnolet/miniconda3/envs/umap3/lib/python3.7/site-packages/numba/core/compiler_lock.py\", line 32, in _acquire_compile_lock\n",
      "    return func(*args, **kwargs)\n",
      "  File \"/raid/cnolet/miniconda3/envs/umap3/lib/python3.7/site-packages/numba/core/compiler_machinery.py\", line 291, in _runPass\n",
      "    mutated |= check(pss.run_pass, internal_state)\n",
      "  File \"/raid/cnolet/miniconda3/envs/umap3/lib/python3.7/site-packages/numba/core/compiler_machinery.py\", line 264, in check\n",
      "    mangled = func(compiler_state)\n",
      "  File \"/raid/cnolet/miniconda3/envs/umap3/lib/python3.7/site-packages/numba/core/typed_passes.py\", line 98, in run_pass\n",
      "    raise_errors=self._raise_errors)\n",
      "  File \"/raid/cnolet/miniconda3/envs/umap3/lib/python3.7/site-packages/numba/core/typed_passes.py\", line 70, in type_inference_stage\n",
      "    infer.propagate(raise_errors=raise_errors)\n",
      "  File \"/raid/cnolet/miniconda3/envs/umap3/lib/python3.7/site-packages/numba/core/typeinfer.py\", line 986, in propagate\n",
      "    raise errors[0]\n",
      "numba.core.errors.TypingError: Failed in nopython mode pipeline (step: nopython frontend)\n",
      "Invalid use of Function(<numba.cuda.compiler.DeviceFunctionTemplate object at 0x7f81747c8050>) with argument(s) of type(s): (array(float32, 1d, C), int64, float64)\n",
      " * parameterized\n",
      "In definition 0:\n",
      "    LoweringError: Failed in nopython mode pipeline (step: nopython mode backend)\n",
      "No definition for lowering <built-in function floor>(int64,) -> float64\n",
      "\n",
      "File \"../../miniconda3/envs/umap3/lib/python3.7/site-packages/gpumap/smooth_knn_dist_gpu.py\", line 18:\n",
      "def calculate_rho(distances, local_connectivity, smooth_k_tolerance):\n",
      "    <source elided>\n",
      "\n",
      "    index = int(floor(local_connectivity))\n",
      "    ^\n",
      "\n",
      "[1] During: lowering \"$12call_function.4 = call $8load_global.2(local_connectivity, func=$8load_global.2, args=[Var(local_connectivity, smooth_knn_dist_gpu.py:16)], kws=(), vararg=None)\" at /raid/cnolet/miniconda3/envs/umap3/lib/python3.7/site-packages/gpumap/smooth_knn_dist_gpu.py (18)\n",
      "    raised from /raid/cnolet/miniconda3/envs/umap3/lib/python3.7/site-packages/numba/core/utils.py:81\n",
      "In definition 1:\n",
      "    LoweringError: Failed in nopython mode pipeline (step: nopython mode backend)\n",
      "No definition for lowering <built-in function floor>(int64,) -> float64\n",
      "\n",
      "File \"../../miniconda3/envs/umap3/lib/python3.7/site-packages/gpumap/smooth_knn_dist_gpu.py\", line 18:\n",
      "def calculate_rho(distances, local_connectivity, smooth_k_tolerance):\n",
      "    <source elided>\n",
      "\n",
      "    index = int(floor(local_connectivity))\n",
      "    ^\n",
      "\n",
      "[1] During: lowering \"$12call_function.4 = call $8load_global.2(local_connectivity, func=$8load_global.2, args=[Var(local_connectivity, smooth_knn_dist_gpu.py:16)], kws=(), vararg=None)\" at /raid/cnolet/miniconda3/envs/umap3/lib/python3.7/site-packages/gpumap/smooth_knn_dist_gpu.py (18)\n",
      "    raised from /raid/cnolet/miniconda3/envs/umap3/lib/python3.7/site-packages/numba/core/utils.py:81\n",
      "This error is usually caused by passing an argument of a type that is unsupported by the named function.\n",
      "[1] During: resolving callee type: Function(<numba.cuda.compiler.DeviceFunctionTemplate object at 0x7f81747c8050>)\n",
      "[2] During: typing of call at /raid/cnolet/miniconda3/envs/umap3/lib/python3.7/site-packages/gpumap/smooth_knn_dist_gpu.py (128)\n",
      "\n",
      "\n",
      "File \"../../miniconda3/envs/umap3/lib/python3.7/site-packages/gpumap/smooth_knn_dist_gpu.py\", line 128:\n",
      "def smooth_knn_dist_cuda(\n",
      "    <source elided>\n",
      "        rho_i, ith_distances_mean = calculate_rho(\n",
      "            ith_distances, local_connectivity, smooth_k_tolerance\n",
      "            ^\n",
      "\n"
     ]
    }
   ],
   "source": [
    "results_digits[\"umapgpumap\"] = build_and_train(UMAP_GPUMAP, X, y, {})"
   ]
  },
  {
   "cell_type": "code",
   "execution_count": 27,
   "metadata": {},
   "outputs": [],
   "source": [
    "final_results[\"digits\"] = results_digits"
   ]
  },
  {
   "cell_type": "code",
   "execution_count": 28,
   "metadata": {},
   "outputs": [
    {
     "data": {
      "text/plain": [
       "{'umapcuml': [{'unsupervised': {'time': 0.7027411460876465,\n",
       "    'trust': 0.9867100727610446},\n",
       "   'supervised': {'time': 0.18091797828674316, 'trust': 0.9862312589544937},\n",
       "   'xform': {'time': 0.31970643997192383, 'trust': 0.9826555470441466}},\n",
       "  {'unsupervised': {'time': 0.16164946556091309, 'trust': 0.9871587306666064},\n",
       "   'supervised': {'time': 0.1764993667602539, 'trust': 0.9879818696533138},\n",
       "   'xform': {'time': 0.31267285346984863, 'trust': 0.9824522142942735}},\n",
       "  {'unsupervised': {'time': 0.15775108337402344, 'trust': 0.987041348508318},\n",
       "   'supervised': {'time': 0.17386841773986816, 'trust': 0.9879716852401503},\n",
       "   'xform': {'time': 0.3037276268005371, 'trust': 0.9832519730470656}},\n",
       "  {'unsupervised': {'time': 0.15770816802978516, 'trust': 0.9871846413193981},\n",
       "   'supervised': {'time': 0.1699216365814209, 'trust': 0.9874626109698468},\n",
       "   'xform': {'time': 0.3010995388031006, 'trust': 0.9808050579936455}}],\n",
       " 'umaplearn': [{'unsupervised': {'time': 9.263211965560913,\n",
       "    'trust': 0.9871246641182629},\n",
       "   'supervised': {'time': 7.278768062591553, 'trust': 0.9874444797866585},\n",
       "   'xform': {'time': 6.69830322265625, 'trust': 0.9876964551341049}},\n",
       "  {'unsupervised': {'time': 5.6170947551727295, 'trust': 0.9879530939808027},\n",
       "   'supervised': {'time': 6.764050483703613, 'trust': 0.9872420044514459},\n",
       "   'xform': {'time': 6.6580493450164795, 'trust': 0.9871366260984057}},\n",
       "  {'unsupervised': {'time': 5.205284118652344, 'trust': 0.9875342573753868},\n",
       "   'supervised': {'time': 6.607924222946167, 'trust': 0.9872283276419821},\n",
       "   'xform': {'time': 6.466777563095093, 'trust': 0.9877209855584185}},\n",
       "  {'unsupervised': {'time': 5.228588342666626, 'trust': 0.987210531059637},\n",
       "   'supervised': {'time': 6.372365951538086, 'trust': 0.9876400330669284},\n",
       "   'xform': {'time': 6.500810861587524, 'trust': 0.9877023942990708}}],\n",
       " 'umapgpumap': [{'unsupervised': {'time': 4.263961553573608,\n",
       "    'trust': 0.951669271325105},\n",
       "   'supervised': {'time': 3.118447780609131, 'trust': 0.9531886310162015}},\n",
       "  {'unsupervised': {'time': 1.9332420825958252, 'trust': 0.9558078864163978},\n",
       "   'supervised': {'time': 2.453421115875244, 'trust': 0.9512448510681191}},\n",
       "  {'unsupervised': {'time': 1.8781499862670898, 'trust': 0.9556659738337958},\n",
       "   'supervised': {'time': 2.3237812519073486, 'trust': 0.9522937410611908}},\n",
       "  {'unsupervised': {'time': 1.8561744689941406, 'trust': 0.9461403688179619},\n",
       "   'supervised': {'time': 2.3167366981506348, 'trust': 0.9548070534694238}}]}"
      ]
     },
     "execution_count": 28,
     "metadata": {},
     "output_type": "execute_result"
    }
   ],
   "source": [
    "final_results[\"digits\"]"
   ]
  },
  {
   "cell_type": "code",
   "execution_count": 29,
   "metadata": {},
   "outputs": [],
   "source": [
    "store_results(final_results, RESULTS_FILE)"
   ]
  },
  {
   "cell_type": "markdown",
   "metadata": {},
   "source": [
    "## Fashion MNIST Dataset"
   ]
  },
  {
   "cell_type": "code",
   "execution_count": 23,
   "metadata": {},
   "outputs": [],
   "source": [
    "# https://github.com/zalandoresearch/fashion-mnist/blob/master/utils/mnist_reader.py\n",
    "def load_mnist(path, kind='train'):\n",
    "    import os\n",
    "    import gzip\n",
    "    import numpy as np\n",
    "\n",
    "    \"\"\"Load MNIST data from `path`\"\"\"\n",
    "    labels_path = os.path.join(path,\n",
    "                               '%s-labels-idx1-ubyte.gz'\n",
    "                               % kind)\n",
    "    images_path = os.path.join(path,\n",
    "                               '%s-images-idx3-ubyte.gz'\n",
    "                               % kind)\n",
    "\n",
    "    with gzip.open(labels_path, 'rb') as lbpath:\n",
    "        labels = np.frombuffer(lbpath.read(), dtype=np.uint8,\n",
    "                               offset=8)\n",
    "\n",
    "    with gzip.open(images_path, 'rb') as imgpath:\n",
    "        images = np.frombuffer(imgpath.read(), dtype=np.uint8,\n",
    "                               offset=16).reshape(len(labels), 784)\n",
    "\n",
    "    return images, labels\n"
   ]
  },
  {
   "cell_type": "code",
   "execution_count": 24,
   "metadata": {},
   "outputs": [],
   "source": [
    "train, train_labels = load_mnist('data/fashion', kind='train')\n",
    "test, test_labels = load_mnist('data/fashion', kind='t10k')\n",
    "X = (np.array(np.vstack([train, test]), dtype=np.float64) [:50000]/ 255.0).astype(np.float32)\n",
    "y = np.array(np.hstack([train_labels, test_labels]))[:50000].astype(np.float32)"
   ]
  },
  {
   "cell_type": "code",
   "execution_count": 25,
   "metadata": {},
   "outputs": [],
   "source": [
    "results_fashion = final_results[\"fashion_mnist\"] if \"fashion_mnist\" in final_results else {}"
   ]
  },
  {
   "cell_type": "code",
   "execution_count": 23,
   "metadata": {},
   "outputs": [],
   "source": [
    "results_fashion[\"umapcuml\"] = build_and_train(UMAP_CUML, X, y, {})"
   ]
  },
  {
   "cell_type": "code",
   "execution_count": 26,
   "metadata": {},
   "outputs": [],
   "source": [
    "results_fashion[\"umaplearn\"] = build_and_train(UMAP_LEARN, X, y, {})"
   ]
  },
  {
   "cell_type": "code",
   "execution_count": 12,
   "metadata": {},
   "outputs": [
    {
     "name": "stderr",
     "output_type": "stream",
     "text": [
      "Traceback (most recent call last):\n",
      "  File \"<ipython-input-5-c64b9b523b44>\", line 90, in _run_build_and_train_once\n",
      "    embeddings = model.transform(X)\n",
      "  File \"/raid/cnolet/miniconda3/envs/umap3/lib/python3.7/site-packages/gpumap/gpumap_.py\", line 1977, in transform\n",
      "    self._search_graph.indptr,\n",
      "AttributeError: 'GPUMAP' object has no attribute '_search_graph'\n",
      "Traceback (most recent call last):\n",
      "  File \"<ipython-input-5-c64b9b523b44>\", line 90, in _run_build_and_train_once\n",
      "    embeddings = model.transform(X)\n",
      "  File \"/raid/cnolet/miniconda3/envs/umap3/lib/python3.7/site-packages/gpumap/gpumap_.py\", line 1977, in transform\n",
      "    self._search_graph.indptr,\n",
      "AttributeError: 'GPUMAP' object has no attribute '_search_graph'\n",
      "Traceback (most recent call last):\n",
      "  File \"<ipython-input-5-c64b9b523b44>\", line 90, in _run_build_and_train_once\n",
      "    embeddings = model.transform(X)\n",
      "  File \"/raid/cnolet/miniconda3/envs/umap3/lib/python3.7/site-packages/gpumap/gpumap_.py\", line 1977, in transform\n",
      "    self._search_graph.indptr,\n",
      "AttributeError: 'GPUMAP' object has no attribute '_search_graph'\n",
      "Traceback (most recent call last):\n",
      "  File \"<ipython-input-5-c64b9b523b44>\", line 90, in _run_build_and_train_once\n",
      "    embeddings = model.transform(X)\n",
      "  File \"/raid/cnolet/miniconda3/envs/umap3/lib/python3.7/site-packages/gpumap/gpumap_.py\", line 1977, in transform\n",
      "    self._search_graph.indptr,\n",
      "AttributeError: 'GPUMAP' object has no attribute '_search_graph'\n"
     ]
    }
   ],
   "source": [
    "results_fashion[\"umapgpumap\"] = build_and_train(UMAP_GPUMAP, X, y, {})"
   ]
  },
  {
   "cell_type": "code",
   "execution_count": 27,
   "metadata": {},
   "outputs": [],
   "source": [
    "final_results[\"fashion_mnist\"] = results_fashion"
   ]
  },
  {
   "cell_type": "code",
   "execution_count": 28,
   "metadata": {},
   "outputs": [],
   "source": [
    "store_results(final_results, RESULTS_FILE)"
   ]
  },
  {
   "cell_type": "code",
   "execution_count": 29,
   "metadata": {},
   "outputs": [
    {
     "data": {
      "text/plain": [
       "{'umapgpumap': [{'unsupervised': {'time': 6.479771852493286,\n",
       "    'trust': 0.9745745792397836},\n",
       "   'supervised': {'time': 6.876313924789429, 'trust': 0.9676141851918549}},\n",
       "  {'unsupervised': {'time': 3.3777499198913574, 'trust': 0.9750927790516971},\n",
       "   'supervised': {'time': 6.480828523635864, 'trust': 0.9696567894031254}},\n",
       "  {'unsupervised': {'time': 3.3025641441345215, 'trust': 0.9748744066270485},\n",
       "   'supervised': {'time': 6.351450681686401, 'trust': 0.9664509547458497}},\n",
       "  {'unsupervised': {'time': 3.4731950759887695, 'trust': 0.9748966109477026},\n",
       "   'supervised': {'time': 6.198164224624634, 'trust': 0.9668087698207842}}],\n",
       " 'umapcuml': [{'unsupervised': {'time': 0.589625358581543,\n",
       "    'trust': 0.97601825773189},\n",
       "   'supervised': {'time': 1.0603547096252441, 'trust': 0.9757726834610587},\n",
       "   'xform': {'time': 0.44457364082336426, 'trust': 0.9736058731016267}},\n",
       "  {'unsupervised': {'time': 0.40508532524108887, 'trust': 0.9739971370030214},\n",
       "   'supervised': {'time': 1.025468349456787, 'trust': 0.9762932845375539},\n",
       "   'xform': {'time': 0.45213890075683594, 'trust': 0.969764299951311}},\n",
       "  {'unsupervised': {'time': 0.41647815704345703, 'trust': 0.9773246413616931},\n",
       "   'supervised': {'time': 1.0376453399658203, 'trust': 0.9755241428390393},\n",
       "   'xform': {'time': 0.46546101570129395, 'trust': 0.9742983522553708}},\n",
       "  {'unsupervised': {'time': 0.4108717441558838, 'trust': 0.974691792331139},\n",
       "   'supervised': {'time': 1.0243778228759766, 'trust': 0.9758944423768267},\n",
       "   'xform': {'time': 0.4740877151489258, 'trust': 0.9738181965837619}}],\n",
       " 'umaplearn': [{'unsupervised': {'time': 51.31654953956604,\n",
       "    'trust': 0.9768837692805357},\n",
       "   'supervised': {'time': 52.09980010986328, 'trust': 0.9775639865804937},\n",
       "   'xform': {'time': 0.261110782623291, 'trust': 0.9782571167003489}},\n",
       "  {'unsupervised': {'time': 44.576194524765015, 'trust': 0.9777756288426009},\n",
       "   'supervised': {'time': 52.18143153190613, 'trust': 0.9772261758275473},\n",
       "   'xform': {'time': 0.2587544918060303, 'trust': 0.9785438356844148}},\n",
       "  {'unsupervised': {'time': 44.49176001548767, 'trust': 0.9783708581947695},\n",
       "   'supervised': {'time': 50.79117822647095, 'trust': 0.9771812216019369},\n",
       "   'xform': {'time': 0.2576425075531006, 'trust': 0.9768428079316486}},\n",
       "  {'unsupervised': {'time': 43.096691846847534, 'trust': 0.9781400324149109},\n",
       "   'supervised': {'time': 57.29015898704529, 'trust': 0.9781969233047202},\n",
       "   'xform': {'time': 0.2584860324859619, 'trust': 0.9787408533525421}}]}"
      ]
     },
     "execution_count": 29,
     "metadata": {},
     "output_type": "execute_result"
    }
   ],
   "source": [
    "final_results[\"fashion_mnist\"]"
   ]
  },
  {
   "cell_type": "code",
   "execution_count": 39,
   "metadata": {},
   "outputs": [],
   "source": [
    "classes = [\n",
    "    'T-shirt/top',\n",
    "    'Trouser',\n",
    "    'Pullover',\n",
    "    'Dress',\n",
    "    'Coat',\n",
    "    'Sandal',\n",
    "    'Shirt',\n",
    "    'Sneaker',\n",
    "    'Bag',\n",
    "    'Ankle boot']"
   ]
  },
  {
   "cell_type": "code",
   "execution_count": null,
   "metadata": {},
   "outputs": [],
   "source": [
    "draw_chart(UMAP_LEARN(n_neighbors=10, min_dist=0.01), X, y, \"Fashion MNIST\", \"UMAP-learn\", classes)"
   ]
  },
  {
   "cell_type": "code",
   "execution_count": null,
   "metadata": {},
   "outputs": [],
   "source": [
    "draw_chart(UMAP_CUML(n_neighbors=10, min_dist=0.01), X, y, \"Fashion MNIST\", \"cuML UMAP\", classes)"
   ]
  },
  {
   "cell_type": "code",
   "execution_count": null,
   "metadata": {},
   "outputs": [],
   "source": [
    "draw_chart(UMAP_GPUMAP(n_neighbors=10, min_dist=0.01), X, y, \"Fashion MNIST\", \"GPUUMAP\", classes)"
   ]
  },
  {
   "cell_type": "code",
   "execution_count": null,
   "metadata": {},
   "outputs": [],
   "source": []
  },
  {
   "cell_type": "markdown",
   "metadata": {},
   "source": [
    "### CIFAR-100"
   ]
  },
  {
   "cell_type": "code",
   "execution_count": 27,
   "metadata": {},
   "outputs": [],
   "source": [
    "import pickle\n",
    "import os\n",
    "def unpickle(file):\n",
    "    import pickle\n",
    "    with open(file, 'rb') as fo:\n",
    "        dict = pickle.load(fo, encoding='bytes')\n",
    "    return dict\n",
    "\n",
    "def load_cifar100(path=\"data/cifar100/cifar-100-python\"):\n",
    "    train = unpickle(os.path.join(path, \"train\"))\n",
    "    test = unpickle(os.path.join(path, \"test\"))\n",
    "    \n",
    "    return train, test"
   ]
  },
  {
   "cell_type": "code",
   "execution_count": 28,
   "metadata": {},
   "outputs": [],
   "source": [
    "train, test = load_cifar100()\n",
    "\n",
    "train, train_labels = (train[b\"data\"], train[b\"fine_labels\"])\n",
    "test, test_labels = (test[b\"data\"], test[b\"fine_labels\"])"
   ]
  },
  {
   "cell_type": "code",
   "execution_count": 29,
   "metadata": {},
   "outputs": [],
   "source": [
    "X = (np.array(np.vstack([train, test]), dtype=np.float64) [:60000]/ 255.0).astype(np.float32)\n",
    "y = np.array(np.hstack([train_labels, test_labels]))[:60000].astype(np.float32)"
   ]
  },
  {
   "cell_type": "code",
   "execution_count": 30,
   "metadata": {},
   "outputs": [],
   "source": [
    "results_cifar100 = final_results[\"cifar100\"] if \"cifar100\" in final_results else {}"
   ]
  },
  {
   "cell_type": "code",
   "execution_count": 44,
   "metadata": {},
   "outputs": [],
   "source": [
    "results_cifar100[\"umaplearn\"] = build_and_train(UMAP_LEARN, X, y, {})"
   ]
  },
  {
   "cell_type": "code",
   "execution_count": 31,
   "metadata": {},
   "outputs": [],
   "source": [
    "results_cifar100[\"umapcuml\"] = build_and_train(UMAP_CUML, X, y, {})"
   ]
  },
  {
   "cell_type": "code",
   "execution_count": 13,
   "metadata": {},
   "outputs": [
    {
     "name": "stderr",
     "output_type": "stream",
     "text": [
      "Traceback (most recent call last):\n",
      "  File \"<ipython-input-5-c64b9b523b44>\", line 90, in _run_build_and_train_once\n",
      "    embeddings = model.transform(X)\n",
      "  File \"/raid/cnolet/miniconda3/envs/umap3/lib/python3.7/site-packages/gpumap/gpumap_.py\", line 1977, in transform\n",
      "    self._search_graph.indptr,\n",
      "AttributeError: 'GPUMAP' object has no attribute '_search_graph'\n",
      "Traceback (most recent call last):\n",
      "  File \"<ipython-input-5-c64b9b523b44>\", line 90, in _run_build_and_train_once\n",
      "    embeddings = model.transform(X)\n",
      "  File \"/raid/cnolet/miniconda3/envs/umap3/lib/python3.7/site-packages/gpumap/gpumap_.py\", line 1977, in transform\n",
      "    self._search_graph.indptr,\n",
      "AttributeError: 'GPUMAP' object has no attribute '_search_graph'\n",
      "Traceback (most recent call last):\n",
      "  File \"<ipython-input-5-c64b9b523b44>\", line 90, in _run_build_and_train_once\n",
      "    embeddings = model.transform(X)\n",
      "  File \"/raid/cnolet/miniconda3/envs/umap3/lib/python3.7/site-packages/gpumap/gpumap_.py\", line 1977, in transform\n",
      "    self._search_graph.indptr,\n",
      "AttributeError: 'GPUMAP' object has no attribute '_search_graph'\n",
      "Traceback (most recent call last):\n",
      "  File \"<ipython-input-5-c64b9b523b44>\", line 90, in _run_build_and_train_once\n",
      "    embeddings = model.transform(X)\n",
      "  File \"/raid/cnolet/miniconda3/envs/umap3/lib/python3.7/site-packages/gpumap/gpumap_.py\", line 1977, in transform\n",
      "    self._search_graph.indptr,\n",
      "AttributeError: 'GPUMAP' object has no attribute '_search_graph'\n"
     ]
    }
   ],
   "source": [
    "results_cifar100[\"umapgpumap\"] = build_and_train(UMAP_GPUMAP, X, y, {})"
   ]
  },
  {
   "cell_type": "code",
   "execution_count": 32,
   "metadata": {},
   "outputs": [],
   "source": [
    "final_results[\"cifar100\"] = results_cifar100"
   ]
  },
  {
   "cell_type": "code",
   "execution_count": 33,
   "metadata": {},
   "outputs": [],
   "source": [
    "store_results(final_results, RESULTS_FILE)"
   ]
  },
  {
   "cell_type": "code",
   "execution_count": 34,
   "metadata": {},
   "outputs": [
    {
     "data": {
      "text/plain": [
       "{'umaplearn': [{'unsupervised': {'time': 106.26967883110046,\n",
       "    'trust': 0.8441760104151036},\n",
       "   'supervised': {'time': 99.81106400489807, 'trust': 0.8474044828110034},\n",
       "   'xform': {'time': 99.87579226493835, 'trust': 0.8498454070541855}},\n",
       "  {'unsupervised': {'time': 106.59346199035645, 'trust': 0.844329741901062},\n",
       "   'supervised': {'time': 97.1928915977478, 'trust': 0.8490670250262601},\n",
       "   'xform': {'time': 98.72296786308289, 'trust': 0.8435752178705541}},\n",
       "  {'unsupervised': {'time': 107.33383107185364, 'trust': 0.8472284890319066},\n",
       "   'supervised': {'time': 100.0251407623291, 'trust': 0.8463326112046655},\n",
       "   'xform': {'time': 100.32673573493958, 'trust': 0.8508993518441328}},\n",
       "  {'unsupervised': {'time': 103.20404744148254, 'trust': 0.8423912181521435},\n",
       "   'supervised': {'time': 96.66665291786194, 'trust': 0.8450828778624399},\n",
       "   'xform': {'time': 100.74139332771301, 'trust': 0.8453433263121233}}],\n",
       " 'umapcuml': [{'unsupervised': {'time': 0.813828706741333,\n",
       "    'trust': 0.827138247643078},\n",
       "   'supervised': {'time': 1.107100248336792, 'trust': 0.834695580398412},\n",
       "   'xform': {'time': 0.991875410079956, 'trust': 0.8296861796281167}},\n",
       "  {'unsupervised': {'time': 1.0972464084625244, 'trust': 0.8342801452408608},\n",
       "   'supervised': {'time': 1.087634563446045, 'trust': 0.8380606268143529},\n",
       "   'xform': {'time': 1.041929006576538, 'trust': 0.8325708448609004}},\n",
       "  {'unsupervised': {'time': 0.9525892734527588, 'trust': 0.8270282343602084},\n",
       "   'supervised': {'time': 1.0747671127319336, 'trust': 0.8382352637585149},\n",
       "   'xform': {'time': 1.0186042785644531, 'trust': 0.8290310706696826}},\n",
       "  {'unsupervised': {'time': 1.1712286472320557, 'trust': 0.825273720981932},\n",
       "   'supervised': {'time': 1.0567560195922852, 'trust': 0.8315560307932855},\n",
       "   'xform': {'time': 0.9979662895202637, 'trust': 0.8287983224865828}}],\n",
       " 'umapgpumap': [{'unsupervised': {'time': 8.464476108551025,\n",
       "    'trust': 0.8346008593479353},\n",
       "   'supervised': {'time': 6.0653767585754395, 'trust': 0.8309824029952222}},\n",
       "  {'unsupervised': {'time': 5.399772882461548, 'trust': 0.8401050404506913},\n",
       "   'supervised': {'time': 5.690048456192017, 'trust': 0.8296486555401793}},\n",
       "  {'unsupervised': {'time': 5.15649676322937, 'trust': 0.8347203629909984},\n",
       "   'supervised': {'time': 6.0474982261657715, 'trust': 0.8307973040035718}},\n",
       "  {'unsupervised': {'time': 5.723386287689209, 'trust': 0.8329430399430893},\n",
       "   'supervised': {'time': 6.012655973434448, 'trust': 0.8284376570463122}}]}"
      ]
     },
     "execution_count": 34,
     "metadata": {},
     "output_type": "execute_result"
    }
   ],
   "source": [
    "results_cifar100"
   ]
  },
  {
   "cell_type": "code",
   "execution_count": null,
   "metadata": {},
   "outputs": [],
   "source": [
    "from sklearn.manifold.t_sne import trustworthiness as sktrust\n",
    "from sklearn.datasets import load_digits\n",
    "\n",
    "data = load_digits()\n",
    "\n",
    "model = UMAP_CUML()\n",
    "embeddings = model.fit_transform(data.data)"
   ]
  },
  {
   "cell_type": "code",
   "execution_count": null,
   "metadata": {},
   "outputs": [],
   "source": []
  },
  {
   "cell_type": "code",
   "execution_count": null,
   "metadata": {},
   "outputs": [],
   "source": [
    "start = time.time()\n",
    "sktrust(data.data, embeddings)\n",
    "print(str(time.time() - start))"
   ]
  },
  {
   "cell_type": "markdown",
   "metadata": {},
   "source": [
    "## Shuttle Dataset"
   ]
  },
  {
   "cell_type": "code",
   "execution_count": 37,
   "metadata": {},
   "outputs": [],
   "source": [
    "import scipy.io\n",
    "\n",
    "if not os.path.exists(\"data/shuttle.mat\"):\n",
    "    !wget -P data/ https://www.dropbox.com/s/mk8ozgisimfn3dw/shuttle.mat\n",
    "\n",
    "mat = scipy.io.loadmat(\"data/shuttle.mat\")"
   ]
  },
  {
   "cell_type": "code",
   "execution_count": 38,
   "metadata": {},
   "outputs": [],
   "source": [
    "X = mat[\"X\"].astype(np.float32)\n",
    "y = mat[\"y\"].astype(np.int32).ravel()"
   ]
  },
  {
   "cell_type": "code",
   "execution_count": 39,
   "metadata": {},
   "outputs": [
    {
     "data": {
      "text/plain": [
       "array([1, 0, 0, ..., 0, 1, 0], dtype=int32)"
      ]
     },
     "execution_count": 39,
     "metadata": {},
     "output_type": "execute_result"
    }
   ],
   "source": [
    "y"
   ]
  },
  {
   "cell_type": "code",
   "execution_count": 40,
   "metadata": {},
   "outputs": [],
   "source": [
    "results_shuttle = final_results[\"shuttle\"] if \"shuttle\" in final_results else {}"
   ]
  },
  {
   "cell_type": "code",
   "execution_count": 39,
   "metadata": {},
   "outputs": [],
   "source": [
    "results_shuttle[\"umapcuml\"] = build_and_train(UMAP_CUML, X, y, {})"
   ]
  },
  {
   "cell_type": "code",
   "execution_count": 15,
   "metadata": {},
   "outputs": [],
   "source": [
    "results_shuttle[\"umaplearn\"] = build_and_train(UMAP_LEARN, X, y, {})"
   ]
  },
  {
   "cell_type": "code",
   "execution_count": 13,
   "metadata": {},
   "outputs": [
    {
     "name": "stderr",
     "output_type": "stream",
     "text": [
      "Traceback (most recent call last):\n",
      "  File \"<ipython-input-4-c64b9b523b44>\", line 90, in _run_build_and_train_once\n",
      "    embeddings = model.transform(X)\n",
      "  File \"/raid/cnolet/miniconda3/envs/umap3/lib/python3.7/site-packages/gpumap/gpumap_.py\", line 1977, in transform\n",
      "    self._search_graph.indptr,\n",
      "AttributeError: 'GPUMAP' object has no attribute '_search_graph'\n",
      "Traceback (most recent call last):\n",
      "  File \"<ipython-input-4-c64b9b523b44>\", line 90, in _run_build_and_train_once\n",
      "    embeddings = model.transform(X)\n",
      "  File \"/raid/cnolet/miniconda3/envs/umap3/lib/python3.7/site-packages/gpumap/gpumap_.py\", line 1977, in transform\n",
      "    self._search_graph.indptr,\n",
      "AttributeError: 'GPUMAP' object has no attribute '_search_graph'\n",
      "Traceback (most recent call last):\n",
      "  File \"<ipython-input-4-c64b9b523b44>\", line 90, in _run_build_and_train_once\n",
      "    embeddings = model.transform(X)\n",
      "  File \"/raid/cnolet/miniconda3/envs/umap3/lib/python3.7/site-packages/gpumap/gpumap_.py\", line 1977, in transform\n",
      "    self._search_graph.indptr,\n",
      "AttributeError: 'GPUMAP' object has no attribute '_search_graph'\n",
      "Traceback (most recent call last):\n",
      "  File \"<ipython-input-4-c64b9b523b44>\", line 90, in _run_build_and_train_once\n",
      "    embeddings = model.transform(X)\n",
      "  File \"/raid/cnolet/miniconda3/envs/umap3/lib/python3.7/site-packages/gpumap/gpumap_.py\", line 1977, in transform\n",
      "    self._search_graph.indptr,\n",
      "AttributeError: 'GPUMAP' object has no attribute '_search_graph'\n"
     ]
    }
   ],
   "source": [
    "results_shuttle[\"umapgpumap\"] = build_and_train(UMAP_GPUMAP, X, y, {})"
   ]
  },
  {
   "cell_type": "code",
   "execution_count": 40,
   "metadata": {},
   "outputs": [],
   "source": [
    "final_results[\"shuttle\"] = results_shuttle"
   ]
  },
  {
   "cell_type": "code",
   "execution_count": 41,
   "metadata": {},
   "outputs": [],
   "source": [
    "store_results(final_results, RESULTS_FILE)"
   ]
  },
  {
   "cell_type": "code",
   "execution_count": 42,
   "metadata": {},
   "outputs": [
    {
     "data": {
      "text/plain": [
       "{'umapcuml': [{'unsupervised': {'time': 0.7837574481964111,\n",
       "    'trust': 0.4907984035370634},\n",
       "   'supervised': {'time': 0.5476815700531006, 'trust': 0.9999999959879131},\n",
       "   'xform': {'time': 0.4578070640563965, 'trust': 0.9999987639175375}},\n",
       "  {'unsupervised': {'time': 0.5676589012145996, 'trust': 0.9999980015103526},\n",
       "   'supervised': {'time': 0.4594261646270752, 'trust': 0.9999976843618024},\n",
       "   'xform': {'time': 0.2353208065032959, 'trust': 0.9999980647629775}},\n",
       "  {'unsupervised': {'time': 0.34301042556762695, 'trust': 0.9999991344960172},\n",
       "   'supervised': {'time': 0.4870455265045166, 'trust': 0.9999997347595531},\n",
       "   'xform': {'time': 0.44645023345947266, 'trust': 0.9999988579663878}},\n",
       "  {'unsupervised': {'time': 0.6358237266540527, 'trust': 0.9999971075067181},\n",
       "   'supervised': {'time': 0.7296688556671143, 'trust': 0.9999981510643496},\n",
       "   'xform': {'time': 0.45848917961120605, 'trust': 0.9999989773328898}}],\n",
       " 'umaplearn': [{'unsupervised': {'time': 43.14485430717468,\n",
       "    'trust': 0.9995937495025617},\n",
       "   'supervised': {'time': 51.45029878616333, 'trust': 1.0},\n",
       "   'xform': {'time': 61.346752882003784, 'trust': 0.9999996712025631}},\n",
       "  {'unsupervised': {'time': 36.14379930496216, 'trust': 0.9999990541436014},\n",
       "   'supervised': {'time': 55.80541253089905, 'trust': 0.9999988794103004},\n",
       "   'xform': {'time': 60.803152561187744, 'trust': 1.0}},\n",
       "  {'unsupervised': {'time': 39.73343586921692, 'trust': 1.0},\n",
       "   'supervised': {'time': 49.26429724693298, 'trust': 0.7057494722624743},\n",
       "   'xform': {'time': 48.41824674606323, 'trust': 0.6532779119313101}},\n",
       "  {'unsupervised': {'time': 36.481457471847534, 'trust': 0.7662410042817691},\n",
       "   'supervised': {'time': 44.17238092422485, 'trust': 1.0},\n",
       "   'xform': {'time': 50.555405616760254, 'trust': 1.0}}],\n",
       " 'umapgpumap': [{'unsupervised': {'time': 12.086997747421265,\n",
       "    'trust': 0.9732011740073436},\n",
       "   'supervised': {'time': 19.82458734512329, 'trust': 0.9668076059384338}},\n",
       "  {'unsupervised': {'time': 8.946580171585083, 'trust': 0.9763382049528245},\n",
       "   'supervised': {'time': 12.691536664962769, 'trust': 0.9639454594176171}},\n",
       "  {'unsupervised': {'time': 7.189095497131348, 'trust': 0.9778424900551579},\n",
       "   'supervised': {'time': 23.83462929725647, 'trust': 0.9640114737970411}},\n",
       "  {'unsupervised': {'time': 8.034754753112793, 'trust': 0.9698157821284997},\n",
       "   'supervised': {'time': 12.253328800201416, 'trust': 0.9658356159126269}}]}"
      ]
     },
     "execution_count": 42,
     "metadata": {},
     "output_type": "execute_result"
    }
   ],
   "source": [
    "results_shuttle"
   ]
  },
  {
   "cell_type": "markdown",
   "metadata": {},
   "source": [
    "## COIL-20 Dataset"
   ]
  },
  {
   "cell_type": "code",
   "execution_count": 17,
   "metadata": {},
   "outputs": [],
   "source": [
    "from datasets.coil20.feed import feed\n",
    "path = \"data/coil-20\"\n",
    "feed(feed_path=path, dataset_type='processed')\n",
    "\n",
    "from datasets import pa2np\n",
    "X, Y = pa2np(\"./data/coil-20X_processed.pa\"), pa2np(\"./data/coil-20Y_processed.pa\")\n",
    "\n",
    "features = X.shape[2]*X.shape[3]\n",
    "new_X = np.zeros((X.shape[0], features))\n",
    "\n",
    "from skimage import color\n",
    "for i in range(X.shape[0]):\n",
    "    img = X[i, :, :, :]\n",
    "    shape = features\n",
    "    gray = color.rgb2gray(np.moveaxis(img, 0, 2)).reshape(shape)\n",
    "    new_X[i] = gray\n",
    "    \n",
    "X = new_X.astype(np.float32)\n",
    "y = Y.astype(np.float32)"
   ]
  },
  {
   "cell_type": "code",
   "execution_count": 18,
   "metadata": {},
   "outputs": [],
   "source": [
    "results_coil20 = final_results[\"coil20\"] if \"coil20\" in final_results else {}"
   ]
  },
  {
   "cell_type": "code",
   "execution_count": 12,
   "metadata": {},
   "outputs": [],
   "source": [
    "results_coil20[\"umapcuml\"] = build_and_train(UMAP_CUML, X, y, {})"
   ]
  },
  {
   "cell_type": "code",
   "execution_count": 19,
   "metadata": {},
   "outputs": [
    {
     "name": "stderr",
     "output_type": "stream",
     "text": [
      "Traceback (most recent call last):\n",
      "  File \"<ipython-input-13-f338fa776278>\", line 97, in _run_build_and_train_once\n",
      "    embeddings = model.transform(X)\n",
      "  File \"/raid/cnolet/miniconda3/envs/umap3/lib/python3.7/site-packages/gpumap/gpumap_.py\", line 1990, in transform\n",
      "    use_gpu=self.use_gpu\n",
      "  File \"/raid/cnolet/miniconda3/envs/umap3/lib/python3.7/site-packages/gpumap/gpumap_.py\", line 131, in smooth_knn_dist\n",
      "    SMOOTH_K_TOLERANCE, MIN_K_DIST_SCALE\n",
      "  File \"/raid/cnolet/miniconda3/envs/umap3/lib/python3.7/site-packages/gpumap/smooth_knn_dist_gpu.py\", line 170, in smooth_knn_dist_gpu\n",
      "    distances_mean, smooth_k_tolerance, min_k_dist_scale\n",
      "  File \"/raid/cnolet/miniconda3/envs/umap3/lib/python3.7/site-packages/numba/cuda/compiler.py\", line 758, in __call__\n",
      "    kernel = self.specialize(*args)\n",
      "  File \"/raid/cnolet/miniconda3/envs/umap3/lib/python3.7/site-packages/numba/cuda/compiler.py\", line 769, in specialize\n",
      "    kernel = self.compile(argtypes)\n",
      "  File \"/raid/cnolet/miniconda3/envs/umap3/lib/python3.7/site-packages/numba/cuda/compiler.py\", line 785, in compile\n",
      "    **self.targetoptions)\n",
      "  File \"/raid/cnolet/miniconda3/envs/umap3/lib/python3.7/site-packages/numba/core/compiler_lock.py\", line 32, in _acquire_compile_lock\n",
      "    return func(*args, **kwargs)\n",
      "  File \"/raid/cnolet/miniconda3/envs/umap3/lib/python3.7/site-packages/numba/cuda/compiler.py\", line 57, in compile_kernel\n",
      "    cres = compile_cuda(pyfunc, types.void, args, debug=debug, inline=inline)\n",
      "  File \"/raid/cnolet/miniconda3/envs/umap3/lib/python3.7/site-packages/numba/core/compiler_lock.py\", line 32, in _acquire_compile_lock\n",
      "    return func(*args, **kwargs)\n",
      "  File \"/raid/cnolet/miniconda3/envs/umap3/lib/python3.7/site-packages/numba/cuda/compiler.py\", line 46, in compile_cuda\n",
      "    locals={})\n",
      "  File \"/raid/cnolet/miniconda3/envs/umap3/lib/python3.7/site-packages/numba/core/compiler.py\", line 568, in compile_extra\n",
      "    return pipeline.compile_extra(func)\n",
      "  File \"/raid/cnolet/miniconda3/envs/umap3/lib/python3.7/site-packages/numba/core/compiler.py\", line 339, in compile_extra\n",
      "    return self._compile_bytecode()\n",
      "  File \"/raid/cnolet/miniconda3/envs/umap3/lib/python3.7/site-packages/numba/core/compiler.py\", line 401, in _compile_bytecode\n",
      "    return self._compile_core()\n",
      "  File \"/raid/cnolet/miniconda3/envs/umap3/lib/python3.7/site-packages/numba/core/compiler.py\", line 381, in _compile_core\n",
      "    raise e\n",
      "  File \"/raid/cnolet/miniconda3/envs/umap3/lib/python3.7/site-packages/numba/core/compiler.py\", line 372, in _compile_core\n",
      "    pm.run(self.state)\n",
      "  File \"/raid/cnolet/miniconda3/envs/umap3/lib/python3.7/site-packages/numba/core/compiler_machinery.py\", line 341, in run\n",
      "    raise patched_exception\n",
      "  File \"/raid/cnolet/miniconda3/envs/umap3/lib/python3.7/site-packages/numba/core/compiler_machinery.py\", line 332, in run\n",
      "    self._runPass(idx, pass_inst, state)\n",
      "  File \"/raid/cnolet/miniconda3/envs/umap3/lib/python3.7/site-packages/numba/core/compiler_lock.py\", line 32, in _acquire_compile_lock\n",
      "    return func(*args, **kwargs)\n",
      "  File \"/raid/cnolet/miniconda3/envs/umap3/lib/python3.7/site-packages/numba/core/compiler_machinery.py\", line 291, in _runPass\n",
      "    mutated |= check(pss.run_pass, internal_state)\n",
      "  File \"/raid/cnolet/miniconda3/envs/umap3/lib/python3.7/site-packages/numba/core/compiler_machinery.py\", line 264, in check\n",
      "    mangled = func(compiler_state)\n",
      "  File \"/raid/cnolet/miniconda3/envs/umap3/lib/python3.7/site-packages/numba/core/typed_passes.py\", line 98, in run_pass\n",
      "    raise_errors=self._raise_errors)\n",
      "  File \"/raid/cnolet/miniconda3/envs/umap3/lib/python3.7/site-packages/numba/core/typed_passes.py\", line 70, in type_inference_stage\n",
      "    infer.propagate(raise_errors=raise_errors)\n",
      "  File \"/raid/cnolet/miniconda3/envs/umap3/lib/python3.7/site-packages/numba/core/typeinfer.py\", line 986, in propagate\n",
      "    raise errors[0]\n",
      "numba.core.errors.TypingError: Failed in nopython mode pipeline (step: nopython frontend)\n",
      "Invalid use of Function(<numba.cuda.compiler.DeviceFunctionTemplate object at 0x7f83ae093950>) with argument(s) of type(s): (array(float32, 1d, C), int64, float64)\n",
      " * parameterized\n",
      "In definition 0:\n",
      "    LoweringError: Failed in nopython mode pipeline (step: nopython mode backend)\n",
      "No definition for lowering <built-in function floor>(int64,) -> float64\n",
      "\n",
      "File \"../../miniconda3/envs/umap3/lib/python3.7/site-packages/gpumap/smooth_knn_dist_gpu.py\", line 18:\n",
      "def calculate_rho(distances, local_connectivity, smooth_k_tolerance):\n",
      "    <source elided>\n",
      "\n",
      "    index = int(floor(local_connectivity))\n",
      "    ^\n",
      "\n",
      "[1] During: lowering \"$12call_function.4 = call $8load_global.2(local_connectivity, func=$8load_global.2, args=[Var(local_connectivity, smooth_knn_dist_gpu.py:16)], kws=(), vararg=None)\" at /raid/cnolet/miniconda3/envs/umap3/lib/python3.7/site-packages/gpumap/smooth_knn_dist_gpu.py (18)\n",
      "    raised from /raid/cnolet/miniconda3/envs/umap3/lib/python3.7/site-packages/numba/core/utils.py:81\n",
      "In definition 1:\n",
      "    LoweringError: Failed in nopython mode pipeline (step: nopython mode backend)\n",
      "No definition for lowering <built-in function floor>(int64,) -> float64\n",
      "\n",
      "File \"../../miniconda3/envs/umap3/lib/python3.7/site-packages/gpumap/smooth_knn_dist_gpu.py\", line 18:\n",
      "def calculate_rho(distances, local_connectivity, smooth_k_tolerance):\n",
      "    <source elided>\n",
      "\n",
      "    index = int(floor(local_connectivity))\n",
      "    ^\n",
      "\n",
      "[1] During: lowering \"$12call_function.4 = call $8load_global.2(local_connectivity, func=$8load_global.2, args=[Var(local_connectivity, smooth_knn_dist_gpu.py:16)], kws=(), vararg=None)\" at /raid/cnolet/miniconda3/envs/umap3/lib/python3.7/site-packages/gpumap/smooth_knn_dist_gpu.py (18)\n",
      "    raised from /raid/cnolet/miniconda3/envs/umap3/lib/python3.7/site-packages/numba/core/utils.py:81\n",
      "This error is usually caused by passing an argument of a type that is unsupported by the named function.\n",
      "[1] During: resolving callee type: Function(<numba.cuda.compiler.DeviceFunctionTemplate object at 0x7f83ae093950>)\n",
      "[2] During: typing of call at /raid/cnolet/miniconda3/envs/umap3/lib/python3.7/site-packages/gpumap/smooth_knn_dist_gpu.py (128)\n",
      "\n",
      "\n",
      "File \"../../miniconda3/envs/umap3/lib/python3.7/site-packages/gpumap/smooth_knn_dist_gpu.py\", line 128:\n",
      "def smooth_knn_dist_cuda(\n",
      "    <source elided>\n",
      "        rho_i, ith_distances_mean = calculate_rho(\n",
      "            ith_distances, local_connectivity, smooth_k_tolerance\n",
      "            ^\n",
      "\n",
      "Traceback (most recent call last):\n",
      "  File \"<ipython-input-13-f338fa776278>\", line 97, in _run_build_and_train_once\n",
      "    embeddings = model.transform(X)\n",
      "  File \"/raid/cnolet/miniconda3/envs/umap3/lib/python3.7/site-packages/gpumap/gpumap_.py\", line 1990, in transform\n",
      "    use_gpu=self.use_gpu\n",
      "  File \"/raid/cnolet/miniconda3/envs/umap3/lib/python3.7/site-packages/gpumap/gpumap_.py\", line 131, in smooth_knn_dist\n",
      "    SMOOTH_K_TOLERANCE, MIN_K_DIST_SCALE\n",
      "  File \"/raid/cnolet/miniconda3/envs/umap3/lib/python3.7/site-packages/gpumap/smooth_knn_dist_gpu.py\", line 170, in smooth_knn_dist_gpu\n",
      "    distances_mean, smooth_k_tolerance, min_k_dist_scale\n",
      "  File \"/raid/cnolet/miniconda3/envs/umap3/lib/python3.7/site-packages/numba/cuda/compiler.py\", line 758, in __call__\n",
      "    kernel = self.specialize(*args)\n",
      "  File \"/raid/cnolet/miniconda3/envs/umap3/lib/python3.7/site-packages/numba/cuda/compiler.py\", line 769, in specialize\n",
      "    kernel = self.compile(argtypes)\n",
      "  File \"/raid/cnolet/miniconda3/envs/umap3/lib/python3.7/site-packages/numba/cuda/compiler.py\", line 785, in compile\n",
      "    **self.targetoptions)\n",
      "  File \"/raid/cnolet/miniconda3/envs/umap3/lib/python3.7/site-packages/numba/core/compiler_lock.py\", line 32, in _acquire_compile_lock\n",
      "    return func(*args, **kwargs)\n",
      "  File \"/raid/cnolet/miniconda3/envs/umap3/lib/python3.7/site-packages/numba/cuda/compiler.py\", line 57, in compile_kernel\n",
      "    cres = compile_cuda(pyfunc, types.void, args, debug=debug, inline=inline)\n",
      "  File \"/raid/cnolet/miniconda3/envs/umap3/lib/python3.7/site-packages/numba/core/compiler_lock.py\", line 32, in _acquire_compile_lock\n",
      "    return func(*args, **kwargs)\n",
      "  File \"/raid/cnolet/miniconda3/envs/umap3/lib/python3.7/site-packages/numba/cuda/compiler.py\", line 46, in compile_cuda\n",
      "    locals={})\n",
      "  File \"/raid/cnolet/miniconda3/envs/umap3/lib/python3.7/site-packages/numba/core/compiler.py\", line 568, in compile_extra\n",
      "    return pipeline.compile_extra(func)\n",
      "  File \"/raid/cnolet/miniconda3/envs/umap3/lib/python3.7/site-packages/numba/core/compiler.py\", line 339, in compile_extra\n",
      "    return self._compile_bytecode()\n",
      "  File \"/raid/cnolet/miniconda3/envs/umap3/lib/python3.7/site-packages/numba/core/compiler.py\", line 401, in _compile_bytecode\n",
      "    return self._compile_core()\n",
      "  File \"/raid/cnolet/miniconda3/envs/umap3/lib/python3.7/site-packages/numba/core/compiler.py\", line 381, in _compile_core\n",
      "    raise e\n",
      "  File \"/raid/cnolet/miniconda3/envs/umap3/lib/python3.7/site-packages/numba/core/compiler.py\", line 372, in _compile_core\n",
      "    pm.run(self.state)\n",
      "  File \"/raid/cnolet/miniconda3/envs/umap3/lib/python3.7/site-packages/numba/core/compiler_machinery.py\", line 341, in run\n",
      "    raise patched_exception\n",
      "  File \"/raid/cnolet/miniconda3/envs/umap3/lib/python3.7/site-packages/numba/core/compiler_machinery.py\", line 332, in run\n",
      "    self._runPass(idx, pass_inst, state)\n",
      "  File \"/raid/cnolet/miniconda3/envs/umap3/lib/python3.7/site-packages/numba/core/compiler_lock.py\", line 32, in _acquire_compile_lock\n",
      "    return func(*args, **kwargs)\n",
      "  File \"/raid/cnolet/miniconda3/envs/umap3/lib/python3.7/site-packages/numba/core/compiler_machinery.py\", line 291, in _runPass\n",
      "    mutated |= check(pss.run_pass, internal_state)\n",
      "  File \"/raid/cnolet/miniconda3/envs/umap3/lib/python3.7/site-packages/numba/core/compiler_machinery.py\", line 264, in check\n",
      "    mangled = func(compiler_state)\n",
      "  File \"/raid/cnolet/miniconda3/envs/umap3/lib/python3.7/site-packages/numba/core/typed_passes.py\", line 98, in run_pass\n",
      "    raise_errors=self._raise_errors)\n",
      "  File \"/raid/cnolet/miniconda3/envs/umap3/lib/python3.7/site-packages/numba/core/typed_passes.py\", line 70, in type_inference_stage\n",
      "    infer.propagate(raise_errors=raise_errors)\n",
      "  File \"/raid/cnolet/miniconda3/envs/umap3/lib/python3.7/site-packages/numba/core/typeinfer.py\", line 986, in propagate\n",
      "    raise errors[0]\n",
      "numba.core.errors.TypingError: Failed in nopython mode pipeline (step: nopython frontend)\n",
      "Invalid use of Function(<numba.cuda.compiler.DeviceFunctionTemplate object at 0x7f83ae093950>) with argument(s) of type(s): (array(float32, 1d, C), int64, float64)\n",
      " * parameterized\n",
      "In definition 0:\n",
      "    LoweringError: Failed in nopython mode pipeline (step: nopython mode backend)\n",
      "No definition for lowering <built-in function floor>(int64,) -> float64\n",
      "\n",
      "File \"../../miniconda3/envs/umap3/lib/python3.7/site-packages/gpumap/smooth_knn_dist_gpu.py\", line 18:\n",
      "def calculate_rho(distances, local_connectivity, smooth_k_tolerance):\n",
      "    <source elided>\n",
      "\n",
      "    index = int(floor(local_connectivity))\n",
      "    ^\n",
      "\n",
      "[1] During: lowering \"$12call_function.4 = call $8load_global.2(local_connectivity, func=$8load_global.2, args=[Var(local_connectivity, smooth_knn_dist_gpu.py:16)], kws=(), vararg=None)\" at /raid/cnolet/miniconda3/envs/umap3/lib/python3.7/site-packages/gpumap/smooth_knn_dist_gpu.py (18)\n",
      "    raised from /raid/cnolet/miniconda3/envs/umap3/lib/python3.7/site-packages/numba/core/utils.py:81\n",
      "In definition 1:\n",
      "    LoweringError: Failed in nopython mode pipeline (step: nopython mode backend)\n",
      "No definition for lowering <built-in function floor>(int64,) -> float64\n",
      "\n",
      "File \"../../miniconda3/envs/umap3/lib/python3.7/site-packages/gpumap/smooth_knn_dist_gpu.py\", line 18:\n",
      "def calculate_rho(distances, local_connectivity, smooth_k_tolerance):\n",
      "    <source elided>\n",
      "\n",
      "    index = int(floor(local_connectivity))\n",
      "    ^\n",
      "\n",
      "[1] During: lowering \"$12call_function.4 = call $8load_global.2(local_connectivity, func=$8load_global.2, args=[Var(local_connectivity, smooth_knn_dist_gpu.py:16)], kws=(), vararg=None)\" at /raid/cnolet/miniconda3/envs/umap3/lib/python3.7/site-packages/gpumap/smooth_knn_dist_gpu.py (18)\n",
      "    raised from /raid/cnolet/miniconda3/envs/umap3/lib/python3.7/site-packages/numba/core/utils.py:81\n",
      "This error is usually caused by passing an argument of a type that is unsupported by the named function.\n",
      "[1] During: resolving callee type: Function(<numba.cuda.compiler.DeviceFunctionTemplate object at 0x7f83ae093950>)\n",
      "[2] During: typing of call at /raid/cnolet/miniconda3/envs/umap3/lib/python3.7/site-packages/gpumap/smooth_knn_dist_gpu.py (128)\n",
      "\n",
      "\n",
      "File \"../../miniconda3/envs/umap3/lib/python3.7/site-packages/gpumap/smooth_knn_dist_gpu.py\", line 128:\n",
      "def smooth_knn_dist_cuda(\n",
      "    <source elided>\n",
      "        rho_i, ith_distances_mean = calculate_rho(\n",
      "            ith_distances, local_connectivity, smooth_k_tolerance\n",
      "            ^\n",
      "\n",
      "Traceback (most recent call last):\n",
      "  File \"<ipython-input-13-f338fa776278>\", line 97, in _run_build_and_train_once\n",
      "    embeddings = model.transform(X)\n",
      "  File \"/raid/cnolet/miniconda3/envs/umap3/lib/python3.7/site-packages/gpumap/gpumap_.py\", line 1990, in transform\n",
      "    use_gpu=self.use_gpu\n",
      "  File \"/raid/cnolet/miniconda3/envs/umap3/lib/python3.7/site-packages/gpumap/gpumap_.py\", line 131, in smooth_knn_dist\n",
      "    SMOOTH_K_TOLERANCE, MIN_K_DIST_SCALE\n",
      "  File \"/raid/cnolet/miniconda3/envs/umap3/lib/python3.7/site-packages/gpumap/smooth_knn_dist_gpu.py\", line 170, in smooth_knn_dist_gpu\n",
      "    distances_mean, smooth_k_tolerance, min_k_dist_scale\n",
      "  File \"/raid/cnolet/miniconda3/envs/umap3/lib/python3.7/site-packages/numba/cuda/compiler.py\", line 758, in __call__\n",
      "    kernel = self.specialize(*args)\n",
      "  File \"/raid/cnolet/miniconda3/envs/umap3/lib/python3.7/site-packages/numba/cuda/compiler.py\", line 769, in specialize\n",
      "    kernel = self.compile(argtypes)\n",
      "  File \"/raid/cnolet/miniconda3/envs/umap3/lib/python3.7/site-packages/numba/cuda/compiler.py\", line 785, in compile\n",
      "    **self.targetoptions)\n",
      "  File \"/raid/cnolet/miniconda3/envs/umap3/lib/python3.7/site-packages/numba/core/compiler_lock.py\", line 32, in _acquire_compile_lock\n",
      "    return func(*args, **kwargs)\n",
      "  File \"/raid/cnolet/miniconda3/envs/umap3/lib/python3.7/site-packages/numba/cuda/compiler.py\", line 57, in compile_kernel\n",
      "    cres = compile_cuda(pyfunc, types.void, args, debug=debug, inline=inline)\n",
      "  File \"/raid/cnolet/miniconda3/envs/umap3/lib/python3.7/site-packages/numba/core/compiler_lock.py\", line 32, in _acquire_compile_lock\n",
      "    return func(*args, **kwargs)\n",
      "  File \"/raid/cnolet/miniconda3/envs/umap3/lib/python3.7/site-packages/numba/cuda/compiler.py\", line 46, in compile_cuda\n",
      "    locals={})\n",
      "  File \"/raid/cnolet/miniconda3/envs/umap3/lib/python3.7/site-packages/numba/core/compiler.py\", line 568, in compile_extra\n",
      "    return pipeline.compile_extra(func)\n",
      "  File \"/raid/cnolet/miniconda3/envs/umap3/lib/python3.7/site-packages/numba/core/compiler.py\", line 339, in compile_extra\n",
      "    return self._compile_bytecode()\n",
      "  File \"/raid/cnolet/miniconda3/envs/umap3/lib/python3.7/site-packages/numba/core/compiler.py\", line 401, in _compile_bytecode\n",
      "    return self._compile_core()\n",
      "  File \"/raid/cnolet/miniconda3/envs/umap3/lib/python3.7/site-packages/numba/core/compiler.py\", line 381, in _compile_core\n",
      "    raise e\n",
      "  File \"/raid/cnolet/miniconda3/envs/umap3/lib/python3.7/site-packages/numba/core/compiler.py\", line 372, in _compile_core\n",
      "    pm.run(self.state)\n",
      "  File \"/raid/cnolet/miniconda3/envs/umap3/lib/python3.7/site-packages/numba/core/compiler_machinery.py\", line 341, in run\n",
      "    raise patched_exception\n",
      "  File \"/raid/cnolet/miniconda3/envs/umap3/lib/python3.7/site-packages/numba/core/compiler_machinery.py\", line 332, in run\n",
      "    self._runPass(idx, pass_inst, state)\n",
      "  File \"/raid/cnolet/miniconda3/envs/umap3/lib/python3.7/site-packages/numba/core/compiler_lock.py\", line 32, in _acquire_compile_lock\n",
      "    return func(*args, **kwargs)\n",
      "  File \"/raid/cnolet/miniconda3/envs/umap3/lib/python3.7/site-packages/numba/core/compiler_machinery.py\", line 291, in _runPass\n",
      "    mutated |= check(pss.run_pass, internal_state)\n",
      "  File \"/raid/cnolet/miniconda3/envs/umap3/lib/python3.7/site-packages/numba/core/compiler_machinery.py\", line 264, in check\n",
      "    mangled = func(compiler_state)\n",
      "  File \"/raid/cnolet/miniconda3/envs/umap3/lib/python3.7/site-packages/numba/core/typed_passes.py\", line 98, in run_pass\n",
      "    raise_errors=self._raise_errors)\n",
      "  File \"/raid/cnolet/miniconda3/envs/umap3/lib/python3.7/site-packages/numba/core/typed_passes.py\", line 70, in type_inference_stage\n",
      "    infer.propagate(raise_errors=raise_errors)\n",
      "  File \"/raid/cnolet/miniconda3/envs/umap3/lib/python3.7/site-packages/numba/core/typeinfer.py\", line 986, in propagate\n",
      "    raise errors[0]\n",
      "numba.core.errors.TypingError: Failed in nopython mode pipeline (step: nopython frontend)\n",
      "Invalid use of Function(<numba.cuda.compiler.DeviceFunctionTemplate object at 0x7f83ae093950>) with argument(s) of type(s): (array(float32, 1d, C), int64, float64)\n",
      " * parameterized\n",
      "In definition 0:\n",
      "    LoweringError: Failed in nopython mode pipeline (step: nopython mode backend)\n",
      "No definition for lowering <built-in function floor>(int64,) -> float64\n",
      "\n",
      "File \"../../miniconda3/envs/umap3/lib/python3.7/site-packages/gpumap/smooth_knn_dist_gpu.py\", line 18:\n",
      "def calculate_rho(distances, local_connectivity, smooth_k_tolerance):\n",
      "    <source elided>\n",
      "\n",
      "    index = int(floor(local_connectivity))\n",
      "    ^\n",
      "\n",
      "[1] During: lowering \"$12call_function.4 = call $8load_global.2(local_connectivity, func=$8load_global.2, args=[Var(local_connectivity, smooth_knn_dist_gpu.py:16)], kws=(), vararg=None)\" at /raid/cnolet/miniconda3/envs/umap3/lib/python3.7/site-packages/gpumap/smooth_knn_dist_gpu.py (18)\n",
      "    raised from /raid/cnolet/miniconda3/envs/umap3/lib/python3.7/site-packages/numba/core/utils.py:81\n",
      "In definition 1:\n",
      "    LoweringError: Failed in nopython mode pipeline (step: nopython mode backend)\n",
      "No definition for lowering <built-in function floor>(int64,) -> float64\n",
      "\n",
      "File \"../../miniconda3/envs/umap3/lib/python3.7/site-packages/gpumap/smooth_knn_dist_gpu.py\", line 18:\n",
      "def calculate_rho(distances, local_connectivity, smooth_k_tolerance):\n",
      "    <source elided>\n",
      "\n",
      "    index = int(floor(local_connectivity))\n",
      "    ^\n",
      "\n",
      "[1] During: lowering \"$12call_function.4 = call $8load_global.2(local_connectivity, func=$8load_global.2, args=[Var(local_connectivity, smooth_knn_dist_gpu.py:16)], kws=(), vararg=None)\" at /raid/cnolet/miniconda3/envs/umap3/lib/python3.7/site-packages/gpumap/smooth_knn_dist_gpu.py (18)\n",
      "    raised from /raid/cnolet/miniconda3/envs/umap3/lib/python3.7/site-packages/numba/core/utils.py:81\n",
      "This error is usually caused by passing an argument of a type that is unsupported by the named function.\n",
      "[1] During: resolving callee type: Function(<numba.cuda.compiler.DeviceFunctionTemplate object at 0x7f83ae093950>)\n",
      "[2] During: typing of call at /raid/cnolet/miniconda3/envs/umap3/lib/python3.7/site-packages/gpumap/smooth_knn_dist_gpu.py (128)\n",
      "\n",
      "\n",
      "File \"../../miniconda3/envs/umap3/lib/python3.7/site-packages/gpumap/smooth_knn_dist_gpu.py\", line 128:\n",
      "def smooth_knn_dist_cuda(\n",
      "    <source elided>\n",
      "        rho_i, ith_distances_mean = calculate_rho(\n",
      "            ith_distances, local_connectivity, smooth_k_tolerance\n",
      "            ^\n",
      "\n",
      "Traceback (most recent call last):\n",
      "  File \"<ipython-input-13-f338fa776278>\", line 97, in _run_build_and_train_once\n",
      "    embeddings = model.transform(X)\n",
      "  File \"/raid/cnolet/miniconda3/envs/umap3/lib/python3.7/site-packages/gpumap/gpumap_.py\", line 1990, in transform\n",
      "    use_gpu=self.use_gpu\n",
      "  File \"/raid/cnolet/miniconda3/envs/umap3/lib/python3.7/site-packages/gpumap/gpumap_.py\", line 131, in smooth_knn_dist\n",
      "    SMOOTH_K_TOLERANCE, MIN_K_DIST_SCALE\n",
      "  File \"/raid/cnolet/miniconda3/envs/umap3/lib/python3.7/site-packages/gpumap/smooth_knn_dist_gpu.py\", line 170, in smooth_knn_dist_gpu\n",
      "    distances_mean, smooth_k_tolerance, min_k_dist_scale\n",
      "  File \"/raid/cnolet/miniconda3/envs/umap3/lib/python3.7/site-packages/numba/cuda/compiler.py\", line 758, in __call__\n",
      "    kernel = self.specialize(*args)\n",
      "  File \"/raid/cnolet/miniconda3/envs/umap3/lib/python3.7/site-packages/numba/cuda/compiler.py\", line 769, in specialize\n",
      "    kernel = self.compile(argtypes)\n",
      "  File \"/raid/cnolet/miniconda3/envs/umap3/lib/python3.7/site-packages/numba/cuda/compiler.py\", line 785, in compile\n",
      "    **self.targetoptions)\n",
      "  File \"/raid/cnolet/miniconda3/envs/umap3/lib/python3.7/site-packages/numba/core/compiler_lock.py\", line 32, in _acquire_compile_lock\n",
      "    return func(*args, **kwargs)\n",
      "  File \"/raid/cnolet/miniconda3/envs/umap3/lib/python3.7/site-packages/numba/cuda/compiler.py\", line 57, in compile_kernel\n",
      "    cres = compile_cuda(pyfunc, types.void, args, debug=debug, inline=inline)\n",
      "  File \"/raid/cnolet/miniconda3/envs/umap3/lib/python3.7/site-packages/numba/core/compiler_lock.py\", line 32, in _acquire_compile_lock\n",
      "    return func(*args, **kwargs)\n",
      "  File \"/raid/cnolet/miniconda3/envs/umap3/lib/python3.7/site-packages/numba/cuda/compiler.py\", line 46, in compile_cuda\n",
      "    locals={})\n",
      "  File \"/raid/cnolet/miniconda3/envs/umap3/lib/python3.7/site-packages/numba/core/compiler.py\", line 568, in compile_extra\n",
      "    return pipeline.compile_extra(func)\n",
      "  File \"/raid/cnolet/miniconda3/envs/umap3/lib/python3.7/site-packages/numba/core/compiler.py\", line 339, in compile_extra\n",
      "    return self._compile_bytecode()\n",
      "  File \"/raid/cnolet/miniconda3/envs/umap3/lib/python3.7/site-packages/numba/core/compiler.py\", line 401, in _compile_bytecode\n",
      "    return self._compile_core()\n",
      "  File \"/raid/cnolet/miniconda3/envs/umap3/lib/python3.7/site-packages/numba/core/compiler.py\", line 381, in _compile_core\n",
      "    raise e\n",
      "  File \"/raid/cnolet/miniconda3/envs/umap3/lib/python3.7/site-packages/numba/core/compiler.py\", line 372, in _compile_core\n",
      "    pm.run(self.state)\n",
      "  File \"/raid/cnolet/miniconda3/envs/umap3/lib/python3.7/site-packages/numba/core/compiler_machinery.py\", line 341, in run\n",
      "    raise patched_exception\n",
      "  File \"/raid/cnolet/miniconda3/envs/umap3/lib/python3.7/site-packages/numba/core/compiler_machinery.py\", line 332, in run\n",
      "    self._runPass(idx, pass_inst, state)\n",
      "  File \"/raid/cnolet/miniconda3/envs/umap3/lib/python3.7/site-packages/numba/core/compiler_lock.py\", line 32, in _acquire_compile_lock\n",
      "    return func(*args, **kwargs)\n",
      "  File \"/raid/cnolet/miniconda3/envs/umap3/lib/python3.7/site-packages/numba/core/compiler_machinery.py\", line 291, in _runPass\n",
      "    mutated |= check(pss.run_pass, internal_state)\n",
      "  File \"/raid/cnolet/miniconda3/envs/umap3/lib/python3.7/site-packages/numba/core/compiler_machinery.py\", line 264, in check\n",
      "    mangled = func(compiler_state)\n",
      "  File \"/raid/cnolet/miniconda3/envs/umap3/lib/python3.7/site-packages/numba/core/typed_passes.py\", line 98, in run_pass\n",
      "    raise_errors=self._raise_errors)\n",
      "  File \"/raid/cnolet/miniconda3/envs/umap3/lib/python3.7/site-packages/numba/core/typed_passes.py\", line 70, in type_inference_stage\n",
      "    infer.propagate(raise_errors=raise_errors)\n",
      "  File \"/raid/cnolet/miniconda3/envs/umap3/lib/python3.7/site-packages/numba/core/typeinfer.py\", line 986, in propagate\n",
      "    raise errors[0]\n",
      "numba.core.errors.TypingError: Failed in nopython mode pipeline (step: nopython frontend)\n",
      "Invalid use of Function(<numba.cuda.compiler.DeviceFunctionTemplate object at 0x7f83ae093950>) with argument(s) of type(s): (array(float32, 1d, C), int64, float64)\n",
      " * parameterized\n",
      "In definition 0:\n",
      "    LoweringError: Failed in nopython mode pipeline (step: nopython mode backend)\n",
      "No definition for lowering <built-in function floor>(int64,) -> float64\n",
      "\n",
      "File \"../../miniconda3/envs/umap3/lib/python3.7/site-packages/gpumap/smooth_knn_dist_gpu.py\", line 18:\n",
      "def calculate_rho(distances, local_connectivity, smooth_k_tolerance):\n",
      "    <source elided>\n",
      "\n",
      "    index = int(floor(local_connectivity))\n",
      "    ^\n",
      "\n",
      "[1] During: lowering \"$12call_function.4 = call $8load_global.2(local_connectivity, func=$8load_global.2, args=[Var(local_connectivity, smooth_knn_dist_gpu.py:16)], kws=(), vararg=None)\" at /raid/cnolet/miniconda3/envs/umap3/lib/python3.7/site-packages/gpumap/smooth_knn_dist_gpu.py (18)\n",
      "    raised from /raid/cnolet/miniconda3/envs/umap3/lib/python3.7/site-packages/numba/core/utils.py:81\n",
      "In definition 1:\n",
      "    LoweringError: Failed in nopython mode pipeline (step: nopython mode backend)\n",
      "No definition for lowering <built-in function floor>(int64,) -> float64\n",
      "\n",
      "File \"../../miniconda3/envs/umap3/lib/python3.7/site-packages/gpumap/smooth_knn_dist_gpu.py\", line 18:\n",
      "def calculate_rho(distances, local_connectivity, smooth_k_tolerance):\n",
      "    <source elided>\n",
      "\n",
      "    index = int(floor(local_connectivity))\n",
      "    ^\n",
      "\n",
      "[1] During: lowering \"$12call_function.4 = call $8load_global.2(local_connectivity, func=$8load_global.2, args=[Var(local_connectivity, smooth_knn_dist_gpu.py:16)], kws=(), vararg=None)\" at /raid/cnolet/miniconda3/envs/umap3/lib/python3.7/site-packages/gpumap/smooth_knn_dist_gpu.py (18)\n",
      "    raised from /raid/cnolet/miniconda3/envs/umap3/lib/python3.7/site-packages/numba/core/utils.py:81\n",
      "This error is usually caused by passing an argument of a type that is unsupported by the named function.\n",
      "[1] During: resolving callee type: Function(<numba.cuda.compiler.DeviceFunctionTemplate object at 0x7f83ae093950>)\n",
      "[2] During: typing of call at /raid/cnolet/miniconda3/envs/umap3/lib/python3.7/site-packages/gpumap/smooth_knn_dist_gpu.py (128)\n",
      "\n",
      "\n",
      "File \"../../miniconda3/envs/umap3/lib/python3.7/site-packages/gpumap/smooth_knn_dist_gpu.py\", line 128:\n",
      "def smooth_knn_dist_cuda(\n",
      "    <source elided>\n",
      "        rho_i, ith_distances_mean = calculate_rho(\n",
      "            ith_distances, local_connectivity, smooth_k_tolerance\n",
      "            ^\n",
      "\n"
     ]
    }
   ],
   "source": [
    "results_coil20[\"umapgpumap\"] = build_and_train(UMAP_GPUMAP, X, y, {})"
   ]
  },
  {
   "cell_type": "code",
   "execution_count": 18,
   "metadata": {},
   "outputs": [
    {
     "ename": "NameError",
     "evalue": "name 'y' is not defined",
     "output_type": "error",
     "traceback": [
      "\u001b[0;31m---------------------------------------------------------------------------\u001b[0m",
      "\u001b[0;31mNameError\u001b[0m                                 Traceback (most recent call last)",
      "\u001b[0;32m<ipython-input-18-65e72bfa2bb9>\u001b[0m in \u001b[0;36m<module>\u001b[0;34m\u001b[0m\n\u001b[0;32m----> 1\u001b[0;31m \u001b[0mresults_coil20\u001b[0m\u001b[0;34m[\u001b[0m\u001b[0;34m\"umaplearn\"\u001b[0m\u001b[0;34m]\u001b[0m \u001b[0;34m=\u001b[0m \u001b[0mbuild_and_train\u001b[0m\u001b[0;34m(\u001b[0m\u001b[0mUMAP_LEARN\u001b[0m\u001b[0;34m,\u001b[0m \u001b[0mX\u001b[0m\u001b[0;34m,\u001b[0m \u001b[0my\u001b[0m\u001b[0;34m,\u001b[0m \u001b[0;34m{\u001b[0m\u001b[0;34m}\u001b[0m\u001b[0;34m)\u001b[0m\u001b[0;34m\u001b[0m\u001b[0;34m\u001b[0m\u001b[0m\n\u001b[0m",
      "\u001b[0;31mNameError\u001b[0m: name 'y' is not defined"
     ]
    }
   ],
   "source": [
    "results_coil20[\"umaplearn\"] = build_and_train(UMAP_LEARN, X, y, {})"
   ]
  },
  {
   "cell_type": "code",
   "execution_count": 19,
   "metadata": {},
   "outputs": [
    {
     "ename": "NameError",
     "evalue": "name 'results_coil20' is not defined",
     "output_type": "error",
     "traceback": [
      "\u001b[0;31m---------------------------------------------------------------------------\u001b[0m",
      "\u001b[0;31mNameError\u001b[0m                                 Traceback (most recent call last)",
      "\u001b[0;32m<ipython-input-19-652209e96c88>\u001b[0m in \u001b[0;36m<module>\u001b[0;34m\u001b[0m\n\u001b[0;32m----> 1\u001b[0;31m \u001b[0mfinal_results\u001b[0m\u001b[0;34m[\u001b[0m\u001b[0;34m\"coil20\"\u001b[0m\u001b[0;34m]\u001b[0m \u001b[0;34m=\u001b[0m \u001b[0mresults_coil20\u001b[0m\u001b[0;34m\u001b[0m\u001b[0;34m\u001b[0m\u001b[0m\n\u001b[0m",
      "\u001b[0;31mNameError\u001b[0m: name 'results_coil20' is not defined"
     ]
    }
   ],
   "source": [
    "final_results[\"coil20\"] = results_coil20"
   ]
  },
  {
   "cell_type": "code",
   "execution_count": 17,
   "metadata": {},
   "outputs": [],
   "source": [
    "store_results(final_results, RESULTS_FILE)"
   ]
  },
  {
   "cell_type": "code",
   "execution_count": 22,
   "metadata": {},
   "outputs": [
    {
     "data": {
      "text/plain": [
       "{'umapcuml': [{'unsupervised': {'time': 2.064183473587036,\n",
       "    'trust': 0.9921860542617423},\n",
       "   'supervised': {'time': 0.394045352935791, 'trust': 0.9866257285867378},\n",
       "   'xform': {'time': 0.17340397834777832, 'trust': 0.9927199482474712}},\n",
       "  {'unsupervised': {'time': 0.22162199020385742, 'trust': 0.9926057267571029},\n",
       "   'supervised': {'time': 0.23158931732177734, 'trust': 0.9862040957683159},\n",
       "   'xform': {'time': 0.37630367279052734, 'trust': 0.9909749666745079}},\n",
       "  {'unsupervised': {'time': 0.4388558864593506, 'trust': 0.9909937857758959},\n",
       "   'supervised': {'time': 0.43929457664489746, 'trust': 0.986986493374108},\n",
       "   'xform': {'time': 0.1761476993560791, 'trust': 0.9907711910922921}},\n",
       "  {'unsupervised': {'time': 0.30503273010253906, 'trust': 0.9927721908570533},\n",
       "   'supervised': {'time': 0.4133152961730957, 'trust': 0.9864624010036854},\n",
       "   'xform': {'time': 0.18416094779968262, 'trust': 0.9922615920437021}}],\n",
       " 'umapgpumap': [{'unsupervised': {'time': 2.5237808227539062,\n",
       "    'trust': 0.9562308541781019},\n",
       "   'supervised': {'time': 8.3171067237854, 'trust': 0.9332845866332105}},\n",
       "  {'unsupervised': {'time': 2.702404499053955, 'trust': 0.9561813560208056},\n",
       "   'supervised': {'time': 8.395845174789429, 'trust': 0.932599486395358}},\n",
       "  {'unsupervised': {'time': 2.562446117401123, 'trust': 0.9565478057450535},\n",
       "   'supervised': {'time': 7.961192607879639, 'trust': 0.9290572806398495}},\n",
       "  {'unsupervised': {'time': 2.5401978492736816, 'trust': 0.9438459578138477},\n",
       "   'supervised': {'time': 8.168630838394165, 'trust': 0.9308458794009253}}],\n",
       " 'umaplearn': [{'unsupervised': {'time': 13.982086896896362,\n",
       "    'trust': 0.9936500235238768},\n",
       "   'supervised': {'time': 12.38850736618042, 'trust': 0.9868479965498315},\n",
       "   'xform': {'time': 12.405791997909546, 'trust': 0.9872499934655898}},\n",
       "  {'unsupervised': {'time': 10.334022283554077, 'trust': 0.9923627447136621},\n",
       "   'supervised': {'time': 12.462889194488525, 'trust': 0.986517094017094},\n",
       "   'xform': {'time': 12.799014806747437, 'trust': 0.9875311037925717}},\n",
       "  {'unsupervised': {'time': 10.396621227264404, 'trust': 0.9921312959042317},\n",
       "   'supervised': {'time': 12.415169477462769, 'trust': 0.9855754528346271},\n",
       "   'xform': {'time': 12.686092615127563, 'trust': 0.9872973025954678}},\n",
       "  {'unsupervised': {'time': 10.12751817703247, 'trust': 0.9892843840664941},\n",
       "   'supervised': {'time': 12.08709454536438, 'trust': 0.9860139444313756},\n",
       "   'xform': {'time': 11.974581480026245, 'trust': 0.9857327034161897}}]}"
      ]
     },
     "execution_count": 22,
     "metadata": {},
     "output_type": "execute_result"
    }
   ],
   "source": [
    "final_results[\"coil20\"]"
   ]
  },
  {
   "cell_type": "markdown",
   "metadata": {},
   "source": [
    "## MNIST Dataset"
   ]
  },
  {
   "cell_type": "code",
   "execution_count": 16,
   "metadata": {},
   "outputs": [],
   "source": [
    "from datasets.mnist.feed import feed\n",
    "path = \"data/mnist\"\n",
    "feed(feed_path=path)\n",
    "\n",
    "from datasets import pa2np\n",
    "X, Y = pa2np(\"./data/mnistX.pa\"), pa2np(\"./data/mnistY.pa\")\n",
    "\n",
    "X = X.reshape(X.shape[0], X.shape[1] * X.shape[2])\n",
    "y = Y"
   ]
  },
  {
   "cell_type": "code",
   "execution_count": 17,
   "metadata": {},
   "outputs": [],
   "source": [
    "results_mnist = final_results[\"mnist\"] if \"mnist\" in final_results else {}"
   ]
  },
  {
   "cell_type": "code",
   "execution_count": 18,
   "metadata": {},
   "outputs": [],
   "source": [
    "results_mnist[\"umapcuml\"] = build_and_train(UMAP_CUML, X, y, {})"
   ]
  },
  {
   "cell_type": "code",
   "execution_count": 22,
   "metadata": {},
   "outputs": [],
   "source": [
    "results_mnist[\"umaplearn\"] = build_and_train(UMAP_LEARN, X, y, {})"
   ]
  },
  {
   "cell_type": "code",
   "execution_count": 20,
   "metadata": {},
   "outputs": [
    {
     "name": "stderr",
     "output_type": "stream",
     "text": [
      "Traceback (most recent call last):\n",
      "  File \"<ipython-input-4-c64b9b523b44>\", line 90, in _run_build_and_train_once\n",
      "    embeddings = model.transform(X)\n",
      "  File \"/raid/cnolet/miniconda3/envs/umap3/lib/python3.7/site-packages/gpumap/gpumap_.py\", line 1977, in transform\n",
      "    self._search_graph.indptr,\n",
      "AttributeError: 'GPUMAP' object has no attribute '_search_graph'\n",
      "Traceback (most recent call last):\n",
      "  File \"<ipython-input-4-c64b9b523b44>\", line 90, in _run_build_and_train_once\n",
      "    embeddings = model.transform(X)\n",
      "  File \"/raid/cnolet/miniconda3/envs/umap3/lib/python3.7/site-packages/gpumap/gpumap_.py\", line 1977, in transform\n",
      "    self._search_graph.indptr,\n",
      "AttributeError: 'GPUMAP' object has no attribute '_search_graph'\n",
      "Traceback (most recent call last):\n",
      "  File \"<ipython-input-4-c64b9b523b44>\", line 90, in _run_build_and_train_once\n",
      "    embeddings = model.transform(X)\n",
      "  File \"/raid/cnolet/miniconda3/envs/umap3/lib/python3.7/site-packages/gpumap/gpumap_.py\", line 1977, in transform\n",
      "    self._search_graph.indptr,\n",
      "AttributeError: 'GPUMAP' object has no attribute '_search_graph'\n",
      "Traceback (most recent call last):\n",
      "  File \"<ipython-input-4-c64b9b523b44>\", line 90, in _run_build_and_train_once\n",
      "    embeddings = model.transform(X)\n",
      "  File \"/raid/cnolet/miniconda3/envs/umap3/lib/python3.7/site-packages/gpumap/gpumap_.py\", line 1977, in transform\n",
      "    self._search_graph.indptr,\n",
      "AttributeError: 'GPUMAP' object has no attribute '_search_graph'\n"
     ]
    }
   ],
   "source": [
    "results_mnist[\"umapgpumap\"] = build_and_train(UMAP_GPUMAP, X, y, {})"
   ]
  },
  {
   "cell_type": "code",
   "execution_count": 22,
   "metadata": {},
   "outputs": [],
   "source": [
    "final_results[\"mnist\"] = results_mnist"
   ]
  },
  {
   "cell_type": "code",
   "execution_count": 23,
   "metadata": {},
   "outputs": [],
   "source": [
    "store_results(final_results, RESULTS_FILE)"
   ]
  },
  {
   "cell_type": "code",
   "execution_count": 24,
   "metadata": {},
   "outputs": [
    {
     "data": {
      "text/plain": [
       "{'umapcuml': [{'unsupervised': {'time': 0.8702592849731445,\n",
       "    'trust': 0.9559595178151625},\n",
       "   'supervised': {'time': 1.011225700378418, 'trust': 0.9553705150307618},\n",
       "   'xform': {'time': 0.4377431869506836, 'trust': 0.954108408575139}},\n",
       "  {'unsupervised': {'time': 0.6537017822265625, 'trust': 0.9574214731202516},\n",
       "   'supervised': {'time': 0.8979723453521729, 'trust': 0.9560532148990446},\n",
       "   'xform': {'time': 0.4433917999267578, 'trust': 0.9531227299909409}},\n",
       "  {'unsupervised': {'time': 0.6645529270172119, 'trust': 0.956424851544944},\n",
       "   'supervised': {'time': 0.8808555603027344, 'trust': 0.9563548094547354},\n",
       "   'xform': {'time': 0.4418752193450928, 'trust': 0.952863784209873}},\n",
       "  {'unsupervised': {'time': 0.642711877822876, 'trust': 0.9567874069133908},\n",
       "   'supervised': {'time': 0.879960298538208, 'trust': 0.9574419861872977},\n",
       "   'xform': {'time': 0.44603633880615234, 'trust': 0.954058174077841}}],\n",
       " 'umaplearn': [{'unsupervised': {'time': 52.32333850860596,\n",
       "    'trust': 0.9575792140876225},\n",
       "   'supervised': {'time': 88.2114098072052, 'trust': 0.9563557643207674},\n",
       "   'xform': {'time': 85.75131511688232, 'trust': 0.9566137627757307}},\n",
       "  {'unsupervised': {'time': 51.839635133743286, 'trust': 0.9594030397578331},\n",
       "   'supervised': {'time': 92.17171335220337, 'trust': 0.9564347384460339},\n",
       "   'xform': {'time': 94.09139847755432, 'trust': 0.9575536319478022}},\n",
       "  {'unsupervised': {'time': 54.40650486946106, 'trust': 0.9590946155285452},\n",
       "   'supervised': {'time': 90.77351665496826, 'trust': 0.9569490322586621},\n",
       "   'xform': {'time': 88.45775318145752, 'trust': 0.9581549449881714}},\n",
       "  {'unsupervised': {'time': 51.73101210594177, 'trust': 0.9590602315702501},\n",
       "   'supervised': {'time': 85.51447701454163, 'trust': 0.9584785717302744},\n",
       "   'xform': {'time': 101.88577651977539, 'trust': 0.9568694395073667}}],\n",
       " 'umapgpumap': [{'unsupervised': {'time': 10.581817388534546,\n",
       "    'trust': 0.9442834214597077},\n",
       "   'supervised': {'time': 25.554595947265625, 'trust': 0.9450770215619692}},\n",
       "  {'unsupervised': {'time': 10.227915525436401, 'trust': 0.9419907738521989},\n",
       "   'supervised': {'time': 25.033493280410767, 'trust': 0.9447635175706243}},\n",
       "  {'unsupervised': {'time': 9.917372941970825, 'trust': 0.9436392852630545},\n",
       "   'supervised': {'time': 25.709108352661133, 'trust': 0.9469258037618123}},\n",
       "  {'unsupervised': {'time': 11.701467275619507, 'trust': 0.9397684622623858},\n",
       "   'supervised': {'time': 19.324782371520996, 'trust': 0.9448813560198076}}]}"
      ]
     },
     "execution_count": 24,
     "metadata": {},
     "output_type": "execute_result"
    }
   ],
   "source": [
    "results_mnist"
   ]
  },
  {
   "cell_type": "markdown",
   "metadata": {},
   "source": [
    "## scRNA\n",
    "\n",
    "This benchmark requires a pickle file to be output from the GPU notebook [here](https://github.com/clara-parabricks/rapids-single-cell-examples)"
   ]
  },
  {
   "cell_type": "code",
   "execution_count": 10,
   "metadata": {},
   "outputs": [],
   "source": [
    "X = pickle.load( open( \"data/scrna.pickle\", \"rb\" ) )"
   ]
  },
  {
   "cell_type": "code",
   "execution_count": 11,
   "metadata": {},
   "outputs": [
    {
     "data": {
      "text/plain": [
       "(65462, 5000)"
      ]
     },
     "execution_count": 11,
     "metadata": {},
     "output_type": "execute_result"
    }
   ],
   "source": [
    "X.shape"
   ]
  },
  {
   "cell_type": "code",
   "execution_count": 12,
   "metadata": {},
   "outputs": [],
   "source": [
    "results_scrna = final_results[\"scrna\"] if \"scrna\" in final_results else {}"
   ]
  },
  {
   "cell_type": "code",
   "execution_count": 28,
   "metadata": {},
   "outputs": [],
   "source": [
    "results_scrna[\"umapcuml\"] = build_and_train(UMAP_CUML, X, None, {})"
   ]
  },
  {
   "cell_type": "code",
   "execution_count": 20,
   "metadata": {},
   "outputs": [],
   "source": [
    "results_scrna[\"umaplearn\"] = build_and_train(UMAP_LEARN, X, None, {})"
   ]
  },
  {
   "cell_type": "code",
   "execution_count": 13,
   "metadata": {},
   "outputs": [
    {
     "name": "stderr",
     "output_type": "stream",
     "text": [
      "Traceback (most recent call last):\n",
      "  File \"<ipython-input-6-f338fa776278>\", line 97, in _run_build_and_train_once\n",
      "    embeddings = model.transform(X)\n",
      "  File \"/raid/cnolet/miniconda3/envs/umap3/lib/python3.7/site-packages/gpumap/gpumap_.py\", line 1977, in transform\n",
      "    self._search_graph.indptr,\n",
      "AttributeError: 'GPUMAP' object has no attribute '_search_graph'\n",
      "Traceback (most recent call last):\n",
      "  File \"<ipython-input-6-f338fa776278>\", line 97, in _run_build_and_train_once\n",
      "    embeddings = model.transform(X)\n",
      "  File \"/raid/cnolet/miniconda3/envs/umap3/lib/python3.7/site-packages/gpumap/gpumap_.py\", line 1977, in transform\n",
      "    self._search_graph.indptr,\n",
      "AttributeError: 'GPUMAP' object has no attribute '_search_graph'\n",
      "Traceback (most recent call last):\n",
      "  File \"<ipython-input-6-f338fa776278>\", line 97, in _run_build_and_train_once\n",
      "    embeddings = model.transform(X)\n",
      "  File \"/raid/cnolet/miniconda3/envs/umap3/lib/python3.7/site-packages/gpumap/gpumap_.py\", line 1977, in transform\n",
      "    self._search_graph.indptr,\n",
      "AttributeError: 'GPUMAP' object has no attribute '_search_graph'\n",
      "Traceback (most recent call last):\n",
      "  File \"<ipython-input-6-f338fa776278>\", line 97, in _run_build_and_train_once\n",
      "    embeddings = model.transform(X)\n",
      "  File \"/raid/cnolet/miniconda3/envs/umap3/lib/python3.7/site-packages/gpumap/gpumap_.py\", line 1977, in transform\n",
      "    self._search_graph.indptr,\n",
      "AttributeError: 'GPUMAP' object has no attribute '_search_graph'\n"
     ]
    }
   ],
   "source": [
    "results_scrna[\"umapgpumap\"] = build_and_train(UMAP_GPUMAP, X, None, {})"
   ]
  },
  {
   "cell_type": "code",
   "execution_count": 20,
   "metadata": {},
   "outputs": [],
   "source": [
    "final_results[\"scrna\"] = results_scrna"
   ]
  },
  {
   "cell_type": "code",
   "execution_count": 21,
   "metadata": {},
   "outputs": [],
   "source": [
    "store_results(final_results, RESULTS_FILE)"
   ]
  },
  {
   "cell_type": "code",
   "execution_count": 22,
   "metadata": {},
   "outputs": [
    {
     "data": {
      "text/plain": [
       "{'umapcuml': [{'unsupervised': {'time': 3.8234424591064453,\n",
       "    'trust': 0.6178009579665475},\n",
       "   'xform': {'time': 3.4701781272888184, 'trust': 0.5337737424809548}},\n",
       "  {'unsupervised': {'time': 3.8994381427764893, 'trust': 0.6201815623705682},\n",
       "   'xform': {'time': 3.9311397075653076, 'trust': 0.9708745134888634}},\n",
       "  {'unsupervised': {'time': 4.300644397735596, 'trust': 0.6187572904540646},\n",
       "   'xform': {'time': 3.5282957553863525, 'trust': 0.8702917658612157}},\n",
       "  {'unsupervised': {'time': 4.389519453048706, 'trust': 0.9781377849332045},\n",
       "   'xform': {'time': 3.602308988571167, 'trust': 0.6201129287721822}}],\n",
       " 'umapgpumap': [{'unsupervised': {'time': 13.082006216049194,\n",
       "    'trust': 0.6168243354282248}},\n",
       "  {'unsupervised': {'time': 10.061619758605957, 'trust': 0.9434946335833367}},\n",
       "  {'unsupervised': {'time': 10.218225479125977, 'trust': 0.6203727995014007}},\n",
       "  {'unsupervised': {'time': 10.199477195739746, 'trust': 0.9425912295012873}}],\n",
       " 'umaplearn': [{'unsupervised': {'time': 222.38141894340515,\n",
       "    'trust': 0.6233079229256522},\n",
       "   'xform': {'time': 2.1147098541259766, 'trust': 0.9412946245569216}},\n",
       "  {'unsupervised': {'time': 225.683984041214, 'trust': 0.6231010898670823},\n",
       "   'xform': {'time': 2.2269630432128906, 'trust': 0.9502004104337913}},\n",
       "  {'unsupervised': {'time': 227.73396110534668, 'trust': 0.6238778233428524},\n",
       "   'xform': {'time': 2.115278482437134, 'trust': 0.9481981978106048}},\n",
       "  {'unsupervised': {'time': 219.88730216026306, 'trust': 0.623651432003607},\n",
       "   'xform': {'time': 2.3570568561553955, 'trust': 0.9415185740893797}}]}"
      ]
     },
     "execution_count": 22,
     "metadata": {},
     "output_type": "execute_result"
    }
   ],
   "source": [
    "results_scrna"
   ]
  },
  {
   "cell_type": "markdown",
   "metadata": {},
   "source": [
    "## Scale Benchmark\n",
    "\n",
    "Test UMAP variants at different `n_samples` and `n_components`. Need to download the \"GoogleNews-vectors-negative300.bin.gz\" dataset."
   ]
  },
  {
   "cell_type": "code",
   "execution_count": 21,
   "metadata": {},
   "outputs": [],
   "source": [
    "from gensim.models import KeyedVectors\n",
    "\n",
    "vecs = KeyedVectors.load_word2vec_format(\"data/GoogleNews-vectors-negative300.bin\", binary=True)\n",
    "\n",
    "X = vecs.vectors"
   ]
  },
  {
   "cell_type": "code",
   "execution_count": 22,
   "metadata": {},
   "outputs": [],
   "source": [
    "scale_results = {}\n",
    "from os import path\n",
    "import pickle\n",
    "if path.exists(\"results/scale_results.pickle\"):\n",
    "    with open(\"results/scale_results.pickle\", 'rb') as handle:\n",
    "        scale_results = pickle.load(handle)"
   ]
  },
  {
   "cell_type": "code",
   "execution_count": 23,
   "metadata": {},
   "outputs": [
    {
     "data": {
      "text/plain": [
       "{'umapcuml': {1024.0: [{'unsupervised': {'time': 0.25798463821411133,\n",
       "     'trust': None},\n",
       "    'xform': {'time': 0.30170559883117676, 'trust': None}}],\n",
       "  334243.55555555556: [{'unsupervised': {'time': 7.277303218841553,\n",
       "     'trust': None},\n",
       "    'xform': {'time': 13.905571937561035, 'trust': None}}],\n",
       "  667463.1111111111: [{'unsupervised': {'time': 28.77500081062317,\n",
       "     'trust': None},\n",
       "    'xform': {'time': 56.95573329925537, 'trust': None}}],\n",
       "  1000682.6666666667: [{'unsupervised': {'time': 64.54534125328064,\n",
       "     'trust': None},\n",
       "    'xform': {'time': 127.1585602760315, 'trust': None}}],\n",
       "  1333902.2222222222: [{'unsupervised': {'time': 114.33410835266113,\n",
       "     'trust': None},\n",
       "    'xform': {'time': 225.36999034881592, 'trust': None}}],\n",
       "  1667121.7777777778: [{'unsupervised': {'time': 176.93605589866638,\n",
       "     'trust': None},\n",
       "    'xform': {'time': 351.2978549003601, 'trust': None}}],\n",
       "  2000341.3333333335: [{'unsupervised': {'time': 255.18308854103088,\n",
       "     'trust': None},\n",
       "    'xform': {'time': 504.0333957672119, 'trust': None}}],\n",
       "  2333560.888888889: [{'unsupervised': {'time': 345.6909635066986,\n",
       "     'trust': None},\n",
       "    'xform': {'time': 686.074467420578, 'trust': None}}],\n",
       "  2666780.4444444445: [{'unsupervised': {'time': 451.7911911010742,\n",
       "     'trust': None},\n",
       "    'xform': {'time': 897.5570769309998, 'trust': None}}],\n",
       "  3000000.0: [{'unsupervised': {'time': 570.7973875999451, 'trust': None},\n",
       "    'xform': {'time': 1134.575472354889, 'trust': None}}]},\n",
       " 'umapcuml_2_components': {1024.0: [{'unsupervised': {'time': 1.3453032970428467,\n",
       "     'trust': None},\n",
       "    'xform': {'time': 0.2841651439666748, 'trust': None}}],\n",
       "  334243.55555555556: [{'unsupervised': {'time': 7.103757619857788,\n",
       "     'trust': None},\n",
       "    'xform': {'time': 13.504408359527588, 'trust': None}}],\n",
       "  667463.1111111111: [{'unsupervised': {'time': 26.556824207305908,\n",
       "     'trust': None},\n",
       "    'xform': {'time': 53.97133493423462, 'trust': None}}],\n",
       "  1000682.6666666667: [{'unsupervised': {'time': 63.44367742538452,\n",
       "     'trust': None},\n",
       "    'xform': {'time': 127.10717177391052, 'trust': None}}],\n",
       "  1333902.2222222222: [{'unsupervised': {'time': 114.53962421417236,\n",
       "     'trust': None},\n",
       "    'xform': {'time': 227.32740020751953, 'trust': None}}],\n",
       "  1667121.7777777778: [{'unsupervised': {'time': 178.49994778633118,\n",
       "     'trust': None},\n",
       "    'xform': {'time': 353.3396017551422, 'trust': None}}],\n",
       "  2000341.3333333335: [{'unsupervised': {'time': 255.97097206115723,\n",
       "     'trust': None},\n",
       "    'xform': {'time': 507.2130479812622, 'trust': None}}],\n",
       "  2333560.888888889: [{'unsupervised': {'time': 347.77415657043457,\n",
       "     'trust': None},\n",
       "    'xform': {'time': 688.5983107089996, 'trust': None}}],\n",
       "  2666780.4444444445: [{'unsupervised': {'time': 453.08990120887756,\n",
       "     'trust': None},\n",
       "    'xform': {'time': 899.6397695541382, 'trust': None}}],\n",
       "  3000000.0: [{'unsupervised': {'time': 571.064887046814, 'trust': None},\n",
       "    'xform': {'time': 1137.0496661663055, 'trust': None}}]}}"
      ]
     },
     "execution_count": 23,
     "metadata": {},
     "output_type": "execute_result"
    }
   ],
   "source": [
    "scale_results"
   ]
  },
  {
   "cell_type": "code",
   "execution_count": 34,
   "metadata": {},
   "outputs": [],
   "source": [
    "from cuml.neighbors import NearestNeighbors\n",
    "import cupy as cp\n",
    "\n",
    "def perform_n_samples_test(model, X, start_samples=1024, n_indep=10, n_trials=1, n_components=2):\n",
    "    import math\n",
    "    results = {}\n",
    "    s = np.linspace(start_samples, X.shape[0], n_indep)\n",
    "    for n_samples in s:\n",
    "        print(\"Testing \" + str(n_samples))\n",
    "        samples = np.random.choice(np.arange(X.shape[0]), math.floor(n_samples))\n",
    "        X_sampled = X[samples]\n",
    "        \n",
    "        d, i = NearestNeighbors(n_neighbors=15).fit(X_sampled).kneighbors(X_sampled)\n",
    "        \n",
    "        coo = cp.sparse.coo_matrix((cp.asarray(d.ravel()), (cp.repeat(cp.arange(d.shape[0]), 15), cp.asarray(i.ravel()))))\n",
    "        \n",
    "        results[n_samples] = build_and_train(model, X_sampled, y=None, kwargs={\"n_components\": n_components, \"knn_graph\":coo}, verbose=True, n_trials=n_trials, eval_trust=False)\n",
    "        \n",
    "    return results"
   ]
  },
  {
   "cell_type": "code",
   "execution_count": null,
   "metadata": {},
   "outputs": [],
   "source": [
    "%%time\n",
    "start_components = 2\n",
    "stop_components = 1024\n",
    "\n",
    "\n",
    "def perform_n_components_test(model, X, model_name):\n",
    "\n",
    "    import math\n",
    "\n",
    "    n_components = np.linspace(start_components, stop_components, 3)\n",
    "\n",
    "    print(n_components)\n",
    "\n",
    "    for components in n_components:\n",
    "        print(\"Testing \" + str(math.floor(components)) + \" components\")\n",
    "        scale_results[model_name + \"_\" + str(math.floor(components)) + \"_components\"] = perform_n_samples_test(model, X, n_components=math.floor(components))\n",
    "        store_results(scale_results, \"results/scale_results.pickle\")"
   ]
  },
  {
   "cell_type": "code",
   "execution_count": null,
   "metadata": {},
   "outputs": [],
   "source": [
    "%%time\n",
    "perform_n_components_test(UMAP_CUML, X, \"umapcuml\")"
   ]
  },
  {
   "cell_type": "code",
   "execution_count": null,
   "metadata": {},
   "outputs": [],
   "source": [
    "store_results(scale_results, \"results/scale_results.pickle\")"
   ]
  },
  {
   "cell_type": "code",
   "execution_count": 37,
   "metadata": {},
   "outputs": [
    {
     "name": "stdout",
     "output_type": "stream",
     "text": [
      "Testing 1024.0\n",
      "Unsupervised\n",
      "Time: 1.2285232543945312\n",
      "None\n",
      "Transform\n",
      "None\n",
      "Time: 0.0038461685180664062\n",
      "Testing 334243.55555555556\n",
      "Unsupervised\n",
      "Time: 0.767493486404419\n",
      "None\n",
      "Transform\n",
      "None\n",
      "Time: 0.11623358726501465\n",
      "Testing 667463.1111111111\n",
      "Unsupervised\n",
      "Time: 1.6629040241241455\n",
      "None\n",
      "Transform\n",
      "None\n",
      "Time: 0.2637910842895508\n",
      "Testing 1000682.6666666667\n",
      "Unsupervised\n",
      "Time: 2.7732017040252686\n",
      "None\n",
      "Transform\n",
      "None\n",
      "Time: 0.4247303009033203\n",
      "Testing 1333902.2222222222\n",
      "Unsupervised\n",
      "Time: 3.8045833110809326\n",
      "None\n",
      "Transform\n",
      "None\n",
      "Time: 0.5741469860076904\n",
      "Testing 1667121.7777777778\n",
      "Unsupervised\n",
      "Time: 5.041834831237793\n",
      "None\n",
      "Transform\n",
      "None\n",
      "Time: 0.7472741603851318\n",
      "Testing 2000341.3333333335\n",
      "Unsupervised\n",
      "Time: 5.964860916137695\n",
      "None\n",
      "Transform\n",
      "None\n",
      "Time: 0.9174463748931885\n",
      "Testing 2333560.888888889\n",
      "Unsupervised\n",
      "Time: 7.245739221572876\n",
      "None\n",
      "Transform\n",
      "None\n",
      "Time: 1.0399751663208008\n",
      "Testing 2666780.4444444445\n",
      "Unsupervised\n",
      "Time: 8.139975309371948\n",
      "None\n",
      "Transform\n",
      "None\n",
      "Time: 1.2124700546264648\n",
      "Testing 3000000.0\n",
      "Unsupervised\n",
      "Time: 9.288048505783081\n",
      "None\n",
      "Transform\n",
      "None\n",
      "Time: 1.374885082244873\n",
      "CPU times: user 36min 57s, sys: 17min 41s, total: 54min 38s\n",
      "Wall time: 54min 34s\n"
     ]
    }
   ],
   "source": [
    "%%time\n",
    "scale_results[\"umapcuml\"] = perform_n_samples_test(UMAP_CUML, X)"
   ]
  },
  {
   "cell_type": "code",
   "execution_count": 38,
   "metadata": {},
   "outputs": [],
   "source": [
    "store_results(scale_results, \"results/scale_results_precompute_knn.pickle\")"
   ]
  },
  {
   "cell_type": "markdown",
   "metadata": {},
   "source": [
    "## Evaluating Distributed UMAP"
   ]
  },
  {
   "cell_type": "code",
   "execution_count": null,
   "metadata": {},
   "outputs": [],
   "source": [
    "from dask_cuda import LocalCUDACluster\n",
    "from dask.distributed import Client\n",
    "from dask import array as da\n",
    "import numpy as np\n",
    "\n",
    "cluster = LocalCUDACluster()\n",
    "client = Client(cluster)\n",
    "\n",
    "from cuml.dask.manifold import UMAP as DIST_UMAP"
   ]
  },
  {
   "cell_type": "code",
   "execution_count": null,
   "metadata": {},
   "outputs": [],
   "source": [
    "n_neighbors = 10\n",
    "\n",
    "local_model = UMAP_CUML(n_neighbors=n_neighbors)\n",
    "\n",
    "\n",
    "sampling_ratio=1.0\n",
    "\n",
    "selection = np.random.RandomState(42).choice(\n",
    "    [True, False], len(X), replace=True,\n",
    "    p=[sampling_ratio, 1.0 - sampling_ratio])\n",
    "\n",
    "X_sampled = X[selection]\n",
    "y_sampled = y[selection]\n",
    "\n",
    "local_model.fit(X, y)"
   ]
  },
  {
   "cell_type": "code",
   "execution_count": null,
   "metadata": {},
   "outputs": [],
   "source": [
    "dist_model = DIST_UMAP(local_model)\n",
    "\n",
    "n_parts = 25\n",
    "import math\n",
    "chunk_size = math.ceil(len(y) / n_parts) \n",
    "X_dist = da.from_array(X, chunks=(chunk_size))\n",
    "dist_pred = dist_model.transform(X_dist)\n",
    "dist_pred = dist_pred.compute()"
   ]
  },
  {
   "cell_type": "code",
   "execution_count": null,
   "metadata": {},
   "outputs": [],
   "source": [
    "trustworthiness(dist_pred, X, n_neighbors=n_neighbors)"
   ]
  },
  {
   "cell_type": "code",
   "execution_count": null,
   "metadata": {},
   "outputs": [],
   "source": [
    "embedding = dist_pred\n",
    "\n",
    "fig, ax = plt.subplots(1, figsize=(14, 10))\n",
    "plt.scatter(embedding[:,1], embedding[:,0], s=0.3, c=y, cmap='Spectral', alpha=1.0)\n",
    "plt.setp(ax, xticks=[], yticks=[])\n",
    "cbar = plt.colorbar(boundaries=np.arange(11)-0.5)\n",
    "cbar.set_ticks(np.arange(10))\n",
    "if classes is not None:\n",
    "    cbar.set_ticklabels(classes)\n",
    "plt.title(\"%s Embedded via %s\" % (\"Fasion MNIST\", \"cuML\"));"
   ]
  },
  {
   "cell_type": "code",
   "execution_count": null,
   "metadata": {},
   "outputs": [],
   "source": [
    "local_pred = local_model.transform(X)"
   ]
  },
  {
   "cell_type": "code",
   "execution_count": null,
   "metadata": {},
   "outputs": [],
   "source": [
    "trustworthiness(local_pred, X, n_neighbors=10)"
   ]
  },
  {
   "cell_type": "code",
   "execution_count": null,
   "metadata": {},
   "outputs": [],
   "source": [
    "embedding = local_pred\n",
    "\n",
    "fig, ax = plt.subplots(1, figsize=(14, 10))\n",
    "plt.scatter(embedding[:,1], embedding[:,0], s=0.3, c=y, cmap='Spectral', alpha=1.0)\n",
    "plt.setp(ax, xticks=[], yticks=[])\n",
    "cbar = plt.colorbar(boundaries=np.arange(11)-0.5)\n",
    "cbar.set_ticks(np.arange(10))\n",
    "if classes is not None:\n",
    "    cbar.set_ticklabels(classes)\n",
    "plt.title(\"%s Embedded via %s\" % (\"Fasion MNIST\", \"cuML\"));"
   ]
  },
  {
   "cell_type": "code",
   "execution_count": null,
   "metadata": {},
   "outputs": [],
   "source": [
    "Fashion  (n_neighbors=50, min_dist=0.01): {'umapcuml': {'unsupervised': {'time': 1.691455602645874,\n",
    "   'trust': 0.9756608852027691},\n",
    "  'supervised': {'time': 2.351792097091675, 'trust': 0.9720590243890228},\n",
    "  'xform': {'time': 2.395686626434326, 'trust': 0.9721990809657708}},\n",
    " 'umapgpumap': {'unsupervised': {'time': 8.455759525299072,\n",
    "   'trust': 0.966088003226282},\n",
    "  'supervised': {'time': 11.22615909576416, 'trust': 0.946432295621991},\n",
    "  'xform': {'time': 12.111764907836914, 'trust': 0.9451657405457423}},\n",
    " 'umaplearn': {'unsupervised': {'time': 129.88665342330933,\n",
    "   'trust': 0.9785036958283618},\n",
    "  'supervised': {'time': 167.90911030769348, 'trust': 0.9759003309442159},\n",
    "  'xform': {'time': 169.7406485080719, 'trust': 0.9752538816065772}}}\n",
    "\n",
    "Fashion default: {'umaplearn': {'unsupervised': {'time': 70.07299304008484,\n",
    "   'trust': 0.977692662316851},\n",
    "  'supervised': {'time': 89.2359881401062, 'trust': 0.9768497406042687},\n",
    "  'xform': {'time': 88.11038374900818, 'trust': 0.9766910591282214}},\n",
    " 'umapcuml': {'unsupervised': {'time': 1.0602912902832031,\n",
    "   'trust': 0.9756579316886288},\n",
    "  'supervised': {'time': 1.2528660297393799, 'trust': 0.9753220467475495},\n",
    "  'xform': {'time': 1.2345595359802246, 'trust': 0.9758428593923967}},\n",
    " 'umapgpumap': {'unsupervised': {'time': 8.032711505889893,\n",
    "   'trust': 0.9745967157039829},\n",
    "  'supervised': {'time': 11.146373987197876, 'trust': 0.9578011941244143},\n",
    "  'xform': {'time': 11.902178287506104, 'trust': 0.9567292975640662}}}\n",
    "\n",
    "Fashion (n_neighbors:5, min_dist:0.01):\n",
    "{'umaplearn': {'unsupervised': {'time': 46.197495460510254,\n",
    "   'trust': 0.9844126808574477},\n",
    "  'supervised': {'time': 50.494110107421875, 'trust': 0.9824418088522914},\n",
    "  'xform': {'time': 49.34948992729187, 'trust': 0.9834457064275237}},\n",
    " 'umapcuml': {'unsupervised': {'time': 0.8439412117004395,\n",
    "   'trust': 0.9790508081077477},\n",
    "  'supervised': {'time': 0.9139008522033691, 'trust': 0.9791517042272303},\n",
    "  'xform': {'time': 0.9139800071716309, 'trust': 0.9787407767702361}},\n",
    " 'umapgpumap': {'unsupervised': {'time': 8.223836183547974,\n",
    "   'trust': 0.9789080655198471},\n",
    "  'supervised': {'time': 11.491980791091919, 'trust': 0.9687381260279149},\n",
    "  'xform': {'time': 12.231558799743652, 'trust': 0.9701084106214162}}}\n",
    "\n",
    "Cifar-100 default: {'umaplearn': {'unsupervised': {'time': 114.65315198898315,\n",
    "   'trust': 0.846886604198276},\n",
    "  'supervised': {'time': 107.9702365398407, 'trust': 0.843361072892757},\n",
    "  'xform': {'time': 106.28120398521423, 'trust': 0.8480973411474398}},\n",
    " 'umapcuml': {'unsupervised': {'time': 2.404963731765747,\n",
    "   'trust': 0.8350443612829362},\n",
    "  'supervised': {'time': 2.6520259380340576, 'trust': 0.8384520656992588},\n",
    "  'xform': {'time': 2.6225061416625977, 'trust': 0.8362343168029226}},\n",
    " 'umapgpumap': {'unsupervised': {'time': 7.503326892852783,\n",
    "   'trust': 0.8334274633424295},\n",
    "  'supervised': {'time': 10.095724105834961, 'trust': 0.8307568528676733},\n",
    "  'xform': {'time': 10.978502750396729, 'trust': 0.8307642823082182}}}\n",
    "\n",
    "Cifar-100 (n_neighbors:5): {'umaplearn': {'unsupervised': {'time': 67.82002830505371,\n",
    "   'trust': 0.8581266525536738},\n",
    "  'supervised': {'time': 76.06079483032227, 'trust': 0.8611072494110326},\n",
    "  'xform': {'time': 82.10008549690247, 'trust': 0.8609734462928391}},\n",
    " 'umapcuml': {'unsupervised': {'time': 2.640801429748535,\n",
    "   'trust': 0.8384547320198249},\n",
    "  'supervised': {'time': 2.2339065074920654, 'trust': 0.8409368907521003},\n",
    "  'xform': {'time': 2.2544515132904053, 'trust': 0.8369009832977731}},\n",
    " 'umapgpumap': {'unsupervised': {'time': 9.76174783706665,\n",
    "   'trust': 0.8398398837067165}}}\n",
    "\n",
    "Cifar-100 (n_neighbors:50): {'umaplearn': {'unsupervised': {'time': 247.36368441581726,\n",
    "   'trust': 0.8406418578934047},\n",
    "  'supervised': {'time': 216.87787103652954, 'trust': 0.8390893277040276},\n",
    "  'xform': {'time': 218.298357963562, 'trust': 0.838630387632215}},\n",
    " 'umapcuml': {'unsupervised': {'time': 3.350353240966797,\n",
    "   'trust': 0.832504358512239},\n",
    "  'supervised': {'time': 3.9427123069763184, 'trust': 0.8328878041702475},\n",
    "  'xform': {'time': 3.9466609954833984, 'trust': 0.8346442010196163}},\n",
    " 'umapgpumap': {'unsupervised': {'time': 11.36575698852539,\n",
    "   'trust': 0.8350418430691954}}}\n"
   ]
  },
  {
   "cell_type": "code",
   "execution_count": null,
   "metadata": {},
   "outputs": [],
   "source": []
  },
  {
   "cell_type": "code",
   "execution_count": null,
   "metadata": {},
   "outputs": [],
   "source": [
    "from sklearn import Pipeline"
   ]
  },
  {
   "cell_type": "code",
   "execution_count": null,
   "metadata": {},
   "outputs": [],
   "source": [
    "from sklearn.model_selection import GridSearchCV\n",
    "from sklearn.feature_selection import SelectKBest, VarianceThreshold\n",
    "from sklearn.pipeline import Pipeline, FeatureUnion"
   ]
  },
  {
   "cell_type": "code",
   "execution_count": null,
   "metadata": {},
   "outputs": [],
   "source": [
    "from cuml import PCA, UMAP"
   ]
  },
  {
   "cell_type": "code",
   "execution_count": null,
   "metadata": {},
   "outputs": [],
   "source": [
    "pipeline = Pipeline([('pp', PCA()), ('viz', UMAP())])"
   ]
  },
  {
   "cell_type": "code",
   "execution_count": null,
   "metadata": {},
   "outputs": [],
   "source": [
    "from cuml.datasets import make_blobs"
   ]
  },
  {
   "cell_type": "code",
   "execution_count": null,
   "metadata": {},
   "outputs": [],
   "source": [
    "x,_ = make_blobs()"
   ]
  },
  {
   "cell_type": "code",
   "execution_count": null,
   "metadata": {},
   "outputs": [],
   "source": [
    "pipeline.fit(x)"
   ]
  },
  {
   "cell_type": "code",
   "execution_count": 43,
   "metadata": {},
   "outputs": [],
   "source": [
    "scale_results = pickle.load(open(\"results/scale_results_with_knn.pickle\", \"rb\"))"
   ]
  },
  {
   "cell_type": "code",
   "execution_count": 44,
   "metadata": {},
   "outputs": [
    {
     "data": {
      "text/plain": [
       "{'umapcuml': {1024.0: [{'unsupervised': {'time': 0.25798463821411133,\n",
       "     'trust': None},\n",
       "    'xform': {'time': 0.30170559883117676, 'trust': None}}],\n",
       "  334243.55555555556: [{'unsupervised': {'time': 7.277303218841553,\n",
       "     'trust': None},\n",
       "    'xform': {'time': 13.905571937561035, 'trust': None}}],\n",
       "  667463.1111111111: [{'unsupervised': {'time': 28.77500081062317,\n",
       "     'trust': None},\n",
       "    'xform': {'time': 56.95573329925537, 'trust': None}}],\n",
       "  1000682.6666666667: [{'unsupervised': {'time': 64.54534125328064,\n",
       "     'trust': None},\n",
       "    'xform': {'time': 127.1585602760315, 'trust': None}}],\n",
       "  1333902.2222222222: [{'unsupervised': {'time': 114.33410835266113,\n",
       "     'trust': None},\n",
       "    'xform': {'time': 225.36999034881592, 'trust': None}}],\n",
       "  1667121.7777777778: [{'unsupervised': {'time': 176.93605589866638,\n",
       "     'trust': None},\n",
       "    'xform': {'time': 351.2978549003601, 'trust': None}}],\n",
       "  2000341.3333333335: [{'unsupervised': {'time': 255.18308854103088,\n",
       "     'trust': None},\n",
       "    'xform': {'time': 504.0333957672119, 'trust': None}}],\n",
       "  2333560.888888889: [{'unsupervised': {'time': 345.6909635066986,\n",
       "     'trust': None},\n",
       "    'xform': {'time': 686.074467420578, 'trust': None}}],\n",
       "  2666780.4444444445: [{'unsupervised': {'time': 451.7911911010742,\n",
       "     'trust': None},\n",
       "    'xform': {'time': 897.5570769309998, 'trust': None}}],\n",
       "  3000000.0: [{'unsupervised': {'time': 570.7973875999451, 'trust': None},\n",
       "    'xform': {'time': 1134.575472354889, 'trust': None}}]},\n",
       " 'umapcuml_2_components': {1024.0: [{'unsupervised': {'time': 1.3453032970428467,\n",
       "     'trust': None},\n",
       "    'xform': {'time': 0.2841651439666748, 'trust': None}}],\n",
       "  334243.55555555556: [{'unsupervised': {'time': 7.103757619857788,\n",
       "     'trust': None},\n",
       "    'xform': {'time': 13.504408359527588, 'trust': None}}],\n",
       "  667463.1111111111: [{'unsupervised': {'time': 26.556824207305908,\n",
       "     'trust': None},\n",
       "    'xform': {'time': 53.97133493423462, 'trust': None}}],\n",
       "  1000682.6666666667: [{'unsupervised': {'time': 63.44367742538452,\n",
       "     'trust': None},\n",
       "    'xform': {'time': 127.10717177391052, 'trust': None}}],\n",
       "  1333902.2222222222: [{'unsupervised': {'time': 114.53962421417236,\n",
       "     'trust': None},\n",
       "    'xform': {'time': 227.32740020751953, 'trust': None}}],\n",
       "  1667121.7777777778: [{'unsupervised': {'time': 178.49994778633118,\n",
       "     'trust': None},\n",
       "    'xform': {'time': 353.3396017551422, 'trust': None}}],\n",
       "  2000341.3333333335: [{'unsupervised': {'time': 255.97097206115723,\n",
       "     'trust': None},\n",
       "    'xform': {'time': 507.2130479812622, 'trust': None}}],\n",
       "  2333560.888888889: [{'unsupervised': {'time': 347.77415657043457,\n",
       "     'trust': None},\n",
       "    'xform': {'time': 688.5983107089996, 'trust': None}}],\n",
       "  2666780.4444444445: [{'unsupervised': {'time': 453.08990120887756,\n",
       "     'trust': None},\n",
       "    'xform': {'time': 899.6397695541382, 'trust': None}}],\n",
       "  3000000.0: [{'unsupervised': {'time': 571.064887046814, 'trust': None},\n",
       "    'xform': {'time': 1137.0496661663055, 'trust': None}}]}}"
      ]
     },
     "execution_count": 44,
     "metadata": {},
     "output_type": "execute_result"
    }
   ],
   "source": [
    "scale_results"
   ]
  },
  {
   "cell_type": "code",
   "execution_count": null,
   "metadata": {},
   "outputs": [],
   "source": []
  }
 ],
 "metadata": {
  "kernelspec": {
   "display_name": "Python (umap3)",
   "language": "python",
   "name": "umap3"
  },
  "language_info": {
   "codemirror_mode": {
    "name": "ipython",
    "version": 3
   },
   "file_extension": ".py",
   "mimetype": "text/x-python",
   "name": "python",
   "nbconvert_exporter": "python",
   "pygments_lexer": "ipython3",
   "version": "3.7.6"
  }
 },
 "nbformat": 4,
 "nbformat_minor": 4
}
