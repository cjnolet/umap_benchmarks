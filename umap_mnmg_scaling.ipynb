{
 "cells": [
  {
   "cell_type": "markdown",
   "metadata": {},
   "source": [
    "## UMAP MNMG runtime on large dataset"
   ]
  },
  {
   "cell_type": "code",
   "execution_count": 1,
   "metadata": {},
   "outputs": [],
   "source": [
    "from cuml.dask.manifold import UMAP as UMAP_MNMG\n",
    "from cuml.manifold import UMAP\n",
    "from cuml.dask.datasets import make_blobs\n",
    "\n",
    "from dask_cuda import LocalCUDACluster\n",
    "from dask.distributed import Client\n",
    "\n",
    "import time\n",
    "import numpy as np\n",
    "import matplotlib.pyplot as plt"
   ]
  },
  {
   "cell_type": "code",
   "execution_count": 2,
   "metadata": {},
   "outputs": [],
   "source": [
    "def generate_data(args, client):\n",
    "    dX, _ = make_blobs(n_samples=args['n_samples'],\n",
    "                       n_features=args['n_features'],\n",
    "                       cluster_std=1.0,\n",
    "                       dtype=\"float32\",\n",
    "                       n_parts=args['n_parts'],\n",
    "                       client=client)\n",
    "    n_to_sample = int(args['n_samples'] * args['sampling_ratio'])\n",
    "    lX = dX[:n_to_sample].compute()\n",
    "    return lX, dX"
   ]
  },
  {
   "cell_type": "code",
   "execution_count": 3,
   "metadata": {},
   "outputs": [],
   "source": [
    "def benchmark(args):\n",
    "    # Start Dask-CUDA cluster & Dask client\n",
    "    cluster = LocalCUDACluster(n_workers=args['n_parts'], threads_per_worker=1)\n",
    "    client = Client(cluster)\n",
    "\n",
    "    lX, dX = generate_data(args, client)\n",
    "    \n",
    "    # Measure runtime accross n_iter runs (+1 \"warm-up test\")\n",
    "    durations = []\n",
    "    for i in range(args['n_iter'] + 1):\n",
    "        \n",
    "        # Train local model\n",
    "        local_model = UMAP(n_components=2, n_neighbors=args['n_neighbors'],\n",
    "                       n_epochs=args['n_epochs'])\n",
    "        local_model.fit(lX)\n",
    "        \n",
    "        # Pass trained model and order distributed inference\n",
    "        model = UMAP_MNMG(local_model)\n",
    "        lazy_transformed = model.transform(dX)\n",
    "        \n",
    "        # Perform distributed inference and measure time\n",
    "        start = time.time()\n",
    "        lazy_transformed.compute()\n",
    "        durations.append(time.time()-start)\n",
    "    \n",
    "    # Remove \"warm-up\" test\n",
    "    durations = np.array(durations[1:])\n",
    "    \n",
    "    # Stop Dask-CUDA cluster & Dask client\n",
    "    client.close()\n",
    "    cluster.close()\n",
    "    \n",
    "    # Return runtime average\n",
    "    return durations.mean()"
   ]
  },
  {
   "cell_type": "code",
   "execution_count": 4,
   "metadata": {},
   "outputs": [],
   "source": [
    "def runtime_barchart(args, mean_durations):\n",
    "    labels = ['1 GPU', '2 GPUs', '4 GPUs', '8 GPUs']\n",
    "    runtimes = list(map(lambda x: round(x, 2), mean_durations))\n",
    "    x = np.arange(len(labels))\n",
    "    fig, ax = plt.subplots()\n",
    "    rects = ax.bar(x, runtimes, 0.35)\n",
    "\n",
    "    ax.set_ylabel('Runtime (s)')\n",
    "    ax.set_title('Scale of random dataset transform: {}x{}'.format(args['n_samples'], args['n_features']))\n",
    "    ax.set_xticks(x)\n",
    "    ax.set_xticklabels(labels)\n",
    "\n",
    "\n",
    "    def autolabel(rects):\n",
    "        for rect in rects:\n",
    "            height = rect.get_height()\n",
    "            ax.annotate('{}'.format(height),\n",
    "                        xy=(rect.get_x() + rect.get_width() / 2, height),\n",
    "                        xytext=(0, 3),\n",
    "                        textcoords=\"offset points\",\n",
    "                        ha='center', va='bottom')\n",
    "\n",
    "    autolabel(rects)\n",
    "    fig.tight_layout()\n",
    "    plt.show()"
   ]
  },
  {
   "cell_type": "code",
   "execution_count": 5,
   "metadata": {},
   "outputs": [
    {
     "name": "stdout",
     "output_type": "stream",
     "text": [
      "Number of GPUs: 1, mean runtime: 13.36\n",
      "Number of GPUs: 2, mean runtime: 11.20\n",
      "Number of GPUs: 4, mean runtime: 4.79\n",
      "Number of GPUs: 8, mean runtime: 2.26\n"
     ]
    }
   ],
   "source": [
    "args = {'n_samples': 10000000, 'n_features':300,\n",
    "        'n_neighbors':15, 'n_epochs':500,\n",
    "        'sampling_ratio': 0.001, 'n_iter': 3}\n",
    "\n",
    "mean_runtimes = []\n",
    "for n_gpus in [1, 2, 4, 8]:\n",
    "    args['n_parts'] = n_gpus\n",
    "    mean_runtime = benchmark(args)\n",
    "    mean_runtimes.append(mean_runtime)\n",
    "    print(\"Number of GPUs: {}, mean runtime: {:.2f}\".format(n_gpus, mean_runtime))"
   ]
  },
  {
   "cell_type": "code",
   "execution_count": 6,
   "metadata": {},
   "outputs": [
    {
     "data": {
      "image/png": "[encoded data removed]",
      "text/plain": [
       "<Figure size 432x288 with 1 Axes>"
      ]
     },
     "metadata": {
      "needs_background": "light"
     },
     "output_type": "display_data"
    }
   ],
   "source": [
    "runtime_barchart(args, mean_runtimes)"
   ]
  }
 ],
 "metadata": {
  "kernelspec": {
   "display_name": "Python 3",
   "language": "python",
   "name": "python3"
  },
  "language_info": {
   "codemirror_mode": {
    "name": "ipython",
    "version": 3
   },
   "file_extension": ".py",
   "mimetype": "text/x-python",
   "name": "python",
   "nbconvert_exporter": "python",
   "pygments_lexer": "ipython3",
   "version": "3.7.6"
  }
 },
 "nbformat": 4,
 "nbformat_minor": 4
}
