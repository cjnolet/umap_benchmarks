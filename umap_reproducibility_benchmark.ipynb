{
 "cells": [
  {
   "cell_type": "markdown",
   "metadata": {},
   "source": [
    "## UMAP reproducibility benchmark (runtime & trustworthiness)"
   ]
  },
  {
   "cell_type": "code",
   "execution_count": 1,
   "metadata": {},
   "outputs": [],
   "source": [
    "from umap import UMAP as umap_learn\n",
    "from cuml.manifold import UMAP as umap_cuml\n",
    "from cuml.metrics import trustworthiness\n",
    "\n",
    "from sklearn.datasets import make_blobs\n",
    "import time\n",
    "import numpy as np"
   ]
  },
  {
   "cell_type": "code",
   "execution_count": 8,
   "metadata": {},
   "outputs": [],
   "source": [
    "def generate_data(n_samples):\n",
    "    X, y = make_blobs(n_samples=n_samples, n_features=args['n_features'],\n",
    "                      centers=args['centers'], cluster_std=8.0)\n",
    "    return X"
   ]
  },
  {
   "cell_type": "code",
   "execution_count": 9,
   "metadata": {},
   "outputs": [],
   "source": [
    "def benchmark_model(model_constr, args, data):\n",
    "    durations = []\n",
    "    trust_scores = []\n",
    "    for i in range(args['n_iter'] + 1):\n",
    "        # Instantiate model\n",
    "        model = model_constr(n_neighbors=args['n_neighbors'], n_epochs=args['n_epochs'],\n",
    "                           random_state=args['random_state'])\n",
    "        \n",
    "        # Perform transformation and measure time\n",
    "        start = time.time()\n",
    "        transformed = model.fit_transform(data)\n",
    "        durations.append(time.time()-start)\n",
    "        \n",
    "        # Compute trustworthiness score\n",
    "        trust_scores.append(trustworthiness(data, transformed, n_neighbors=args['n_neighbors']))\n",
    "    \n",
    "    durations = np.array(durations[1:])\n",
    "    trust_scores = np.array(trust_scores)\n",
    "    \n",
    "    # Compute runtime average and variance as well as trustworthiness score average\n",
    "    return durations.mean(), durations.var(), trust_scores.mean()"
   ]
  },
  {
   "cell_type": "code",
   "execution_count": 10,
   "metadata": {},
   "outputs": [],
   "source": [
    "def benchmark(args):\n",
    "    for n_samples in args['n_samples']:\n",
    "        # Generate dataset\n",
    "        X = generate_data(n_samples)\n",
    "\n",
    "        # Benchmarks the two models\n",
    "        print(\"For dataset of size ({}, {}) :\".format(n_samples, args['n_features']))\n",
    "        \n",
    "        print(\"\\tWithout random state :\")\n",
    "        args['random_state'] = None\n",
    "        ul_inconsistent = benchmark_model(umap_learn, args, X)\n",
    "        cuml_inconsistent = benchmark_model(umap_cuml, args, X)\n",
    "        print_results(ul_inconsistent, cuml_inconsistent)\n",
    "        \n",
    "        print(\"\\tWith random state :\")\n",
    "        args['random_state'] = 42\n",
    "        ul_consistent = benchmark_model(umap_learn, args, X)\n",
    "        cuml_consistent = benchmark_model(umap_cuml, args, X)\n",
    "        print_results(ul_consistent, cuml_consistent)\n",
    "        \n",
    "        a = cuml_consistent[0]\n",
    "        b = cuml_inconsistent[0]\n",
    "        slowdown = ((a - b) / a) * 100\n",
    "        print('\\tcuML consistent pathway is {:.2f}% slower\\n'.format(slowdown))"
   ]
  },
  {
   "cell_type": "code",
   "execution_count": 11,
   "metadata": {},
   "outputs": [],
   "source": [
    "def print_results(ul_scores, cuml_scores):\n",
    "    ul_dur_mean, ul_dur_var, ul_trust = ul_scores\n",
    "    print(\"\\t\\tUMAP-LEARN: runtime avg - var: {:.2f} - {:.2f}, tustworthiness: {:.2f}\".format(ul_dur_mean, ul_dur_var, ul_trust))\n",
    "    cuml_dur_mean, cuml_dur_var, cuml_trust = cuml_scores\n",
    "    print(\"\\t\\tCUML UMAP: runtime avg - var: {:.2f} - {:.2f}, tustworthiness: {:.2f}\".format(cuml_dur_mean, cuml_dur_var, cuml_trust))"
   ]
  },
  {
   "cell_type": "code",
   "execution_count": 12,
   "metadata": {},
   "outputs": [
    {
     "name": "stdout",
     "output_type": "stream",
     "text": [
      "For dataset of size (1000, 100) :\n",
      "\tWithout random state :\n",
      "\t\tUMAP-LEARN: runtime avg - var: 2.56 - 0.00, tustworthiness: 0.60\n",
      "\t\tCUML UMAP: runtime avg - var: 0.24 - 0.00, tustworthiness: 0.60\n",
      "\tWith random state :\n",
      "\t\tUMAP-LEARN: runtime avg - var: 2.53 - 0.00, tustworthiness: 0.60\n",
      "\t\tCUML UMAP: runtime avg - var: 0.24 - 0.00, tustworthiness: 0.59\n",
      "\tcuML consistent pathway is 1.64% slower\n",
      "\n",
      "For dataset of size (4000, 100) :\n",
      "\tWithout random state :\n",
      "\t\tUMAP-LEARN: runtime avg - var: 10.01 - 0.01, tustworthiness: 0.70\n",
      "\t\tCUML UMAP: runtime avg - var: 0.26 - 0.00, tustworthiness: 0.67\n",
      "\tWith random state :\n",
      "\t\tUMAP-LEARN: runtime avg - var: 10.03 - 0.01, tustworthiness: 0.70\n",
      "\t\tCUML UMAP: runtime avg - var: 0.29 - 0.00, tustworthiness: 0.66\n",
      "\tcuML consistent pathway is 11.17% slower\n",
      "\n",
      "For dataset of size (12000, 100) :\n",
      "\tWithout random state :\n",
      "\t\tUMAP-LEARN: runtime avg - var: 33.34 - 0.00, tustworthiness: 0.98\n",
      "\t\tCUML UMAP: runtime avg - var: 0.28 - 0.00, tustworthiness: 0.95\n",
      "\tWith random state :\n",
      "\t\tUMAP-LEARN: runtime avg - var: 33.16 - 0.01, tustworthiness: 0.98\n",
      "\t\tCUML UMAP: runtime avg - var: 0.36 - 0.00, tustworthiness: 0.94\n",
      "\tcuML consistent pathway is 20.89% slower\n",
      "\n"
     ]
    }
   ],
   "source": [
    "import warnings\n",
    "warnings.filterwarnings('ignore')\n",
    "\n",
    "args = {'n_samples':[1000, 4000, 12000], 'n_features':100, 'centers':500,\n",
    "        'n_neighbors':15, 'n_epochs':500, 'n_iter': 5}\n",
    "\n",
    "benchmark(args)"
   ]
  }
 ],
 "metadata": {
  "kernelspec": {
   "display_name": "Python 3",
   "language": "python",
   "name": "python3"
  },
  "language_info": {
   "codemirror_mode": {
    "name": "ipython",
    "version": 3
   },
   "file_extension": ".py",
   "mimetype": "text/x-python",
   "name": "python",
   "nbconvert_exporter": "python",
   "pygments_lexer": "ipython3",
   "version": "3.7.6"
  }
 },
 "nbformat": 4,
 "nbformat_minor": 4
}
