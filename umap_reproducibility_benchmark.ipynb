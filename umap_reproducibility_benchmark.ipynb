{
 "cells": [
  {
   "cell_type": "markdown",
   "metadata": {},
   "source": [
    "## UMAP reproducibility benchmark (runtime & trustworthiness)"
   ]
  },
  {
   "cell_type": "code",
   "execution_count": 1,
   "metadata": {},
   "outputs": [],
   "source": [
    "from umap import UMAP as umap_learn\n",
    "from cuml.manifold import UMAP as umap_cuml\n",
    "from cuml.metrics import trustworthiness\n",
    "\n",
    "from sklearn.datasets import make_blobs\n",
    "import time\n",
    "import numpy as np"
   ]
  },
  {
   "cell_type": "code",
   "execution_count": 2,
   "metadata": {},
   "outputs": [],
   "source": [
    "def benchmark(args):\n",
    "    # Generate dataset\n",
    "    X, y = make_blobs(n_samples=args['n_samples'], n_features=args['n_features'],\n",
    "                      centers=args['centers'])\n",
    "    \n",
    "    # Warm up (used to prevent statistical anomalies in time measurement due to first time initialization)\n",
    "    model = umap_learn(n_neighbors=args['n_neighbors'], n_epochs=args['n_epochs'],\n",
    "                 random_state=args['random_state'])\n",
    "    model.fit_transform(X)\n",
    "    \n",
    "    durations = []\n",
    "    trust_scores = []\n",
    "    for i in range(args['n_iter']):\n",
    "        # Instantiate UMAP-learn model\n",
    "        model = umap_learn(n_neighbors=args['n_neighbors'], n_epochs=args['n_epochs'],\n",
    "                     random_state=args['random_state'])\n",
    "        \n",
    "        # Perform transformation and measure time\n",
    "        start = time.time()\n",
    "        transformed = model.fit_transform(X)\n",
    "        durations.append(time.time()-start)\n",
    "        \n",
    "        # Compute trustworthiness score\n",
    "        trust_scores.append(trustworthiness(X, transformed, n_neighbors=args['n_neighbors']))\n",
    "    durations = np.array(durations)\n",
    "    trust_scores = np.array(trust_scores)\n",
    "    \n",
    "    # Compute runtime average and variance as well as trustworthiness score average\n",
    "    umap_learn_scores = durations.mean(), durations.var(), trust_scores.mean()\n",
    "    \n",
    "    \n",
    "    # Warm up (used to prevent statistical anomalies in time measurement due to first time initialization)\n",
    "    model = umap_cuml(n_neighbors=args['n_neighbors'], n_epochs=args['n_epochs'],\n",
    "                 random_state=args['random_state'])\n",
    "    model.fit_transform(X)\n",
    "    \n",
    "    durations = []\n",
    "    trust_scores = []\n",
    "    for i in range(args['n_iter']):\n",
    "        # Instantiate cuML's UMAP model\n",
    "        model = umap_cuml(n_neighbors=args['n_neighbors'], n_epochs=args['n_epochs'],\n",
    "                     random_state=args['random_state'])\n",
    "        \n",
    "        # Perform transformation and measure time\n",
    "        start = time.time()\n",
    "        transformed = model.fit_transform(X)\n",
    "        durations.append(time.time()-start)\n",
    "        \n",
    "        # Compute trustworthiness score\n",
    "        trust_scores.append(trustworthiness(X, transformed, n_neighbors=args['n_neighbors']))\n",
    "        \n",
    "    durations = np.array(durations)\n",
    "    trust_scores = np.array(trust_scores)\n",
    "    \n",
    "    # Compute runtime average and variance as well as trustworthiness score average\n",
    "    umap_cuml_scores = durations.mean(), durations.var(), trust_scores.mean()\n",
    "    \n",
    "    duration_mean, duration_var, trust = umap_learn_scores\n",
    "    print(\"\\tUMAP-LEARN: duration avg - var: {:.2f} - {:.2f}, tustworthiness: {:.2f}\".format(duration_mean, duration_var, trust))\n",
    "    duration_mean, duration_var, trust = umap_cuml_scores\n",
    "    print(\"\\tCUML UMAP: duration avg - var: {:.2f} - {:.2f}, tustworthiness: {:.2f}\".format(duration_mean, duration_var, trust))\n",
    "    \n",
    "    return umap_learn_scores, umap_cuml_scores"
   ]
  },
  {
   "cell_type": "code",
   "execution_count": 3,
   "metadata": {},
   "outputs": [
    {
     "name": "stdout",
     "output_type": "stream",
     "text": [
      "Without random state :\n",
      "\tUMAP-LEARN: duration avg - var: 53.22 - 0.04, tustworthiness: 1.00\n",
      "\tCUML UMAP: duration avg - var: 0.28 - 0.00, tustworthiness: 1.00\n",
      "\n",
      "With random state :\n",
      "\tUMAP-LEARN: duration avg - var: 53.05 - 0.04, tustworthiness: 1.00\n",
      "\tCUML UMAP: duration avg - var: 0.38 - 0.00, tustworthiness: 1.00\n"
     ]
    }
   ],
   "source": [
    "import warnings\n",
    "warnings.filterwarnings('ignore')\n",
    "\n",
    "args = {'n_samples':20000, 'n_features':100, 'centers':500,\n",
    "        'n_neighbors':15, 'n_epochs':500, 'n_iter': 5}\n",
    "\n",
    "print(\"Without random state :\")\n",
    "args['random_state'] = None\n",
    "umap_learn_scores, umap_cuml_scores = benchmark(args)\n",
    "\n",
    "print(\"\\nWith random state :\")\n",
    "args['random_state'] = 42\n",
    "umap_learn_scores, umap_cuml_scores = benchmark(args)"
   ]
  }
 ],
 "metadata": {
  "kernelspec": {
   "display_name": "Python 3",
   "language": "python",
   "name": "python3"
  },
  "language_info": {
   "codemirror_mode": {
    "name": "ipython",
    "version": 3
   },
   "file_extension": ".py",
   "mimetype": "text/x-python",
   "name": "python",
   "nbconvert_exporter": "python",
   "pygments_lexer": "ipython3",
   "version": "3.7.6"
  }
 },
 "nbformat": 4,
 "nbformat_minor": 4
}
