{
 "cells": [
  {
   "cell_type": "markdown",
   "metadata": {},
   "source": [
    "# UMAP Experiment"
   ]
  },
  {
   "cell_type": "code",
   "execution_count": 14,
   "metadata": {},
   "outputs": [],
   "source": [
    "from umap import UMAP as UMAP_LEARN\n",
    "from cuml.manifold import UMAP as UMAP_CUML\n",
    "from gpumap import GPUMAP as UMAP_GPUMAP"
   ]
  },
  {
   "cell_type": "code",
   "execution_count": 15,
   "metadata": {},
   "outputs": [],
   "source": [
    "import matplotlib.pyplot as plt"
   ]
  },
  {
   "cell_type": "code",
   "execution_count": 16,
   "metadata": {},
   "outputs": [],
   "source": [
    "def draw_chart(model, X, y, dataset, model_name, classes=None):\n",
    "    \n",
    "    embedding = model.fit_transform(X, y)\n",
    "    \n",
    "    fig, ax = plt.subplots(1, figsize=(14, 10))\n",
    "    plt.scatter(embedding[:,1], embedding[:,0], s=0.3, c=y, cmap='Spectral', alpha=1.0)\n",
    "    plt.setp(ax, xticks=[], yticks=[])\n",
    "    cbar = plt.colorbar(boundaries=np.arange(11)-0.5)\n",
    "    cbar.set_ticks(np.arange(10))\n",
    "    if classes is not None:\n",
    "        cbar.set_ticklabels(classes)\n",
    "    plt.title(\"%s Embedded via %s\" % (dataset, model_name));"
   ]
  },
  {
   "cell_type": "code",
   "execution_count": 17,
   "metadata": {},
   "outputs": [],
   "source": [
    "from cuml.metrics import trustworthiness\n",
    "# from sklearn.manifold.t_sne import trustworthiness\n",
    "from sklearn.model_selection import train_test_split\n",
    "import time\n",
    "import numpy as np\n",
    "\n",
    "batchSize = 512\n",
    "\n",
    "def build_and_train(model_class, X, y, kwargs):\n",
    "    \n",
    "    results = {}\n",
    "    \n",
    "#     kwargs[\"n_epochs\"] = 500\n",
    "\n",
    "    # Unsupervised\n",
    "    print(\"Unsupervised\")\n",
    "    model = model_class(**kwargs)\n",
    "\n",
    "    try:\n",
    "        start = time.time()\n",
    "        embeddings = model.fit_transform(X)\n",
    "        end = time.time() - start\n",
    "    \n",
    "        n_neighbors = model.n_neighbors\n",
    "        del model\n",
    "\n",
    "        print(\"Done. Evaluating trustworthiness\")\n",
    "        trust = trustworthiness(X, embeddings, n_neighbors=n_neighbors, batch_size=batchSize)\n",
    "        print(str(trust))\n",
    "        results[\"unsupervised\"] = {\"time\": end, \"trust\": trust}\n",
    "    except:\n",
    "        import traceback\n",
    "        traceback.print_exc()\n",
    "    \n",
    "    \n",
    "    \n",
    "    # Supervised\n",
    "    \n",
    "    print(\"Supervised\")\n",
    "    kwargs[\"target_metric\"] = \"categorical\"\n",
    "    model = model_class(**kwargs)\n",
    "    \n",
    "    try:\n",
    "        start = time.time()\n",
    "        embeddings = model.fit_transform(X, y)\n",
    "        end = time.time() - start\n",
    "\n",
    "\n",
    "        n_neighbors = model.n_neighbors\n",
    "        del model\n",
    "\n",
    "        print(\"Done. Evaluating trustworthiness\")\n",
    "        trust = trustworthiness(X, embeddings, n_neighbors=n_neighbors, batch_size=batchSize)\n",
    "\n",
    "        print(str(trust))\n",
    "\n",
    "        results[\"supervised\"] = {\"time\": end, \"trust\": trust}\n",
    "    except:\n",
    "        import traceback\n",
    "        traceback.print_exc()\n",
    "    \n",
    "    # Transform\n",
    "    \n",
    "\n",
    "    print(\"Transform\")\n",
    "    model = model_class(**kwargs)\n",
    "\n",
    "    try:\n",
    "\n",
    "        start = time.time()\n",
    "        model.fit(X, y)\n",
    "        embeddings = model.transform(X)\n",
    "        end = time.time() - start\n",
    "\n",
    "        n_neighbors = model.n_neighbors\n",
    "        del model\n",
    "\n",
    "        print(\"Done. Evaluating trustworthiness\")\n",
    "        trust = trustworthiness(X_test, embeddings, n_neighbors=n_neighbors, batch_size=batchSize)\n",
    "\n",
    "        print(str(trust))\n",
    "\n",
    "        results[\"xform\"] = {\"time\": end, \"trust\": trust}        \n",
    "    except:\n",
    "        import traceback\n",
    "        traceback.print_exc()\n",
    "    \n",
    "    return results"
   ]
  },
  {
   "cell_type": "code",
   "execution_count": 4,
   "metadata": {},
   "outputs": [],
   "source": [
    "from sklearn.datasets import make_classification\n",
    "X, Y = make_classification(n_samples = 400000, n_features = 10, n_redundant = 0, n_informative = 10, n_clusters_per_class = 1, n_classes = 1000)\n",
    "reducer = UMAP_CUML(n_neighbors = 20, init=\"spectral\")\n",
    "X2 = reducer.fit_transform(X, Y)\n"
   ]
  },
  {
   "cell_type": "markdown",
   "metadata": {},
   "source": [
    "## Experiment 1"
   ]
  },
  {
   "cell_type": "markdown",
   "metadata": {},
   "source": [
    "### Digits"
   ]
  },
  {
   "cell_type": "code",
   "execution_count": null,
   "metadata": {},
   "outputs": [],
   "source": [
    "from sklearn.datasets import load_digits\n",
    "\n",
    "data = load_digits()\n",
    "\n",
    "X = data.data\n",
    "y = data.target"
   ]
  },
  {
   "cell_type": "code",
   "execution_count": null,
   "metadata": {},
   "outputs": [],
   "source": [
    "results_digits = {}"
   ]
  },
  {
   "cell_type": "code",
   "execution_count": null,
   "metadata": {},
   "outputs": [],
   "source": [
    "results_digits[\"umaplearn\"] = build_and_train(UMAP_LEARN, X, y)"
   ]
  },
  {
   "cell_type": "code",
   "execution_count": null,
   "metadata": {},
   "outputs": [],
   "source": [
    "results_digits[\"umapcuml\"] = build_and_train(UMAP_CUML, X, y)"
   ]
  },
  {
   "cell_type": "code",
   "execution_count": null,
   "metadata": {},
   "outputs": [],
   "source": [
    "results_digits[\"umapgpumap\"] = build_and_train(UMAP_GPUMAP, X, y)"
   ]
  },
  {
   "cell_type": "code",
   "execution_count": null,
   "metadata": {},
   "outputs": [],
   "source": [
    "print(str(results_digits))"
   ]
  },
  {
   "cell_type": "markdown",
   "metadata": {},
   "source": [
    "### Fashion MNIST"
   ]
  },
  {
   "cell_type": "code",
   "execution_count": 18,
   "metadata": {},
   "outputs": [],
   "source": [
    "# https://github.com/zalandoresearch/fashion-mnist/blob/master/utils/mnist_reader.py\n",
    "def load_mnist(path, kind='train'):\n",
    "    import os\n",
    "    import gzip\n",
    "    import numpy as np\n",
    "\n",
    "    \"\"\"Load MNIST data from `path`\"\"\"\n",
    "    labels_path = os.path.join(path,\n",
    "                               '%s-labels-idx1-ubyte.gz'\n",
    "                               % kind)\n",
    "    images_path = os.path.join(path,\n",
    "                               '%s-images-idx3-ubyte.gz'\n",
    "                               % kind)\n",
    "\n",
    "    with gzip.open(labels_path, 'rb') as lbpath:\n",
    "        labels = np.frombuffer(lbpath.read(), dtype=np.uint8,\n",
    "                               offset=8)\n",
    "\n",
    "    with gzip.open(images_path, 'rb') as imgpath:\n",
    "        images = np.frombuffer(imgpath.read(), dtype=np.uint8,\n",
    "                               offset=16).reshape(len(labels), 784)\n",
    "\n",
    "    return images, labels\n"
   ]
  },
  {
   "cell_type": "code",
   "execution_count": 19,
   "metadata": {},
   "outputs": [],
   "source": [
    "train, train_labels = load_mnist('data/fashion', kind='train')\n",
    "test, test_labels = load_mnist('data/fashion', kind='t10k')\n",
    "X = (np.array(np.vstack([train, test]), dtype=np.float64) [:50000]/ 255.0).astype(np.float32)\n",
    "y = np.array(np.hstack([train_labels, test_labels]))[:50000].astype(np.float32)"
   ]
  },
  {
   "cell_type": "code",
   "execution_count": 3,
   "metadata": {},
   "outputs": [
    {
     "name": "stderr",
     "output_type": "stream",
     "text": [
      "/share/conda/cuml_13_2/lib/python3.7/site-packages/sklearn/utils/deprecation.py:144: FutureWarning: The sklearn.manifold.t_sne module is  deprecated in version 0.22 and will be removed in version 0.24. The corresponding classes / functions should instead be imported from sklearn.manifold. Anything that cannot be imported from sklearn.manifold is now part of the private API.\n",
      "  warnings.warn(message, FutureWarning)\n"
     ]
    }
   ],
   "source": [
    "from sklearn.manifold.t_sne import trustworthiness as sktrust\n",
    "from sklearn.datasets import load_digits\n",
    "\n",
    "\n",
    "X = np.random.random((1000000, 10))\n",
    "\n"
   ]
  },
  {
   "cell_type": "code",
   "execution_count": 4,
   "metadata": {},
   "outputs": [],
   "source": [
    "model = UMAP_CUML()\n",
    "embeddings = model.fit_transform(X)"
   ]
  },
  {
   "cell_type": "code",
   "execution_count": null,
   "metadata": {},
   "outputs": [],
   "source": [
    "start = time.time()\n",
    "sktrust(X, embeddings)\n",
    "print(str(time.time() - start))"
   ]
  },
  {
   "cell_type": "code",
   "execution_count": 5,
   "metadata": {},
   "outputs": [
    {
     "name": "stderr",
     "output_type": "stream",
     "text": [
      "/share/conda/cuml_13_2/lib/python3.7/site-packages/ipykernel_launcher.py:2: UserWarning: Parameter should_downcast is deprecated, use convert_dtype instead. \n",
      "  \n"
     ]
    },
    {
     "name": "stdout",
     "output_type": "stream",
     "text": [
      "0.7687373263838111\n",
      "446.26120948791504\n"
     ]
    }
   ],
   "source": [
    "start = time.time()\n",
    "trustworthiness(X, embeddings, batch_size=2047)\n",
    "print(str(time.time() - start))"
   ]
  },
  {
   "cell_type": "code",
   "execution_count": 5,
   "metadata": {},
   "outputs": [],
   "source": [
    "results_fashion = {}"
   ]
  },
  {
   "cell_type": "code",
   "execution_count": 23,
   "metadata": {},
   "outputs": [
    {
     "name": "stdout",
     "output_type": "stream",
     "text": [
      "Unsupervised\n",
      "a=1.8956058664239412, b=0.8006378441176886\n"
     ]
    },
    {
     "name": "stderr",
     "output_type": "stream",
     "text": [
      "/share/conda/cuml_13_2/lib/python3.7/site-packages/numba/typed_passes.py:293: NumbaPerformanceWarning: \n",
      "The keyword argument 'parallel=True' was specified but no transformation for parallel execution was possible.\n",
      "\n",
      "To find out why, try turning on parallel diagnostics, see http://numba.pydata.org/numba-doc/latest/user/parallel.html#diagnostics for help.\n",
      "\n",
      "File \"../../conda/cuml_13_2/lib/python3.7/site-packages/umap/rp_tree.py\", line 135:\n",
      "@numba.njit(fastmath=True, nogil=True, parallel=True)\n",
      "def euclidean_random_projection_split(data, indices, rng_state):\n",
      "^\n",
      "\n",
      "  state.func_ir.loc))\n",
      "/share/conda/cuml_13_2/lib/python3.7/site-packages/umap/nndescent.py:92: NumbaPerformanceWarning: \n",
      "The keyword argument 'parallel=True' was specified but no transformation for parallel execution was possible.\n",
      "\n",
      "To find out why, try turning on parallel diagnostics, see http://numba.pydata.org/numba-doc/latest/user/parallel.html#diagnostics for help.\n",
      "\n",
      "File \"../../conda/cuml_13_2/lib/python3.7/site-packages/umap/utils.py\", line 409:\n",
      "@numba.njit(parallel=True)\n",
      "def build_candidates(current_graph, n_vertices, n_neighbors, max_candidates, rng_state):\n",
      "^\n",
      "\n",
      "  current_graph, n_vertices, n_neighbors, max_candidates, rng_state\n",
      "/share/conda/cuml_13_2/lib/python3.7/site-packages/numba/typed_passes.py:293: NumbaPerformanceWarning: \n",
      "The keyword argument 'parallel=True' was specified but no transformation for parallel execution was possible.\n",
      "\n",
      "To find out why, try turning on parallel diagnostics, see http://numba.pydata.org/numba-doc/latest/user/parallel.html#diagnostics for help.\n",
      "\n",
      "File \"../../conda/cuml_13_2/lib/python3.7/site-packages/umap/nndescent.py\", line 47:\n",
      "    @numba.njit(parallel=True)\n",
      "    def nn_descent(\n",
      "    ^\n",
      "\n",
      "  state.func_ir.loc))\n"
     ]
    },
    {
     "name": "stdout",
     "output_type": "stream",
     "text": [
      "Done. Evaluating trustworthiness\n"
     ]
    },
    {
     "name": "stderr",
     "output_type": "stream",
     "text": [
      "/share/conda/cuml_13_2/lib/python3.7/site-packages/ipykernel_launcher.py:28: UserWarning: Parameter should_downcast is deprecated, use convert_dtype instead. \n"
     ]
    },
    {
     "name": "stdout",
     "output_type": "stream",
     "text": [
      "0.9847735417666826\n",
      "0.9847735417666826\n",
      "Supervised\n",
      "a=1.8956058664239412, b=0.8006378441176886\n"
     ]
    },
    {
     "name": "stderr",
     "output_type": "stream",
     "text": [
      "/share/conda/cuml_13_2/lib/python3.7/site-packages/numba/typed_passes.py:293: NumbaPerformanceWarning: \n",
      "The keyword argument 'parallel=True' was specified but no transformation for parallel execution was possible.\n",
      "\n",
      "To find out why, try turning on parallel diagnostics, see http://numba.pydata.org/numba-doc/latest/user/parallel.html#diagnostics for help.\n",
      "\n",
      "File \"../../conda/cuml_13_2/lib/python3.7/site-packages/umap/nndescent.py\", line 47:\n",
      "    @numba.njit(parallel=True)\n",
      "    def nn_descent(\n",
      "    ^\n",
      "\n",
      "  state.func_ir.loc))\n"
     ]
    },
    {
     "name": "stdout",
     "output_type": "stream",
     "text": [
      "Done. Evaluating trustworthiness\n"
     ]
    },
    {
     "name": "stderr",
     "output_type": "stream",
     "text": [
      "/share/conda/cuml_13_2/lib/python3.7/site-packages/ipykernel_launcher.py:52: UserWarning: Parameter should_downcast is deprecated, use convert_dtype instead. \n"
     ]
    },
    {
     "name": "stdout",
     "output_type": "stream",
     "text": [
      "0.9830231012161946\n",
      "0.9830231012161946\n",
      "Transform\n",
      "a=1.8956058664239412, b=0.8006378441176886\n"
     ]
    },
    {
     "name": "stderr",
     "output_type": "stream",
     "text": [
      "/share/conda/cuml_13_2/lib/python3.7/site-packages/numba/typed_passes.py:293: NumbaPerformanceWarning: \n",
      "The keyword argument 'parallel=True' was specified but no transformation for parallel execution was possible.\n",
      "\n",
      "To find out why, try turning on parallel diagnostics, see http://numba.pydata.org/numba-doc/latest/user/parallel.html#diagnostics for help.\n",
      "\n",
      "File \"../../conda/cuml_13_2/lib/python3.7/site-packages/umap/nndescent.py\", line 47:\n",
      "    @numba.njit(parallel=True)\n",
      "    def nn_descent(\n",
      "    ^\n",
      "\n",
      "  state.func_ir.loc))\n",
      "/share/conda/cuml_13_2/lib/python3.7/site-packages/numba/typed_passes.py:293: NumbaPerformanceWarning: \n",
      "The keyword argument 'parallel=True' was specified but no transformation for parallel execution was possible.\n",
      "\n",
      "To find out why, try turning on parallel diagnostics, see http://numba.pydata.org/numba-doc/latest/user/parallel.html#diagnostics for help.\n",
      "\n",
      "File \"../../conda/cuml_13_2/lib/python3.7/site-packages/umap/nndescent.py\", line 124:\n",
      "    @numba.njit(parallel=True)\n",
      "    def init_from_random(n_neighbors, data, query_points, heap, rng_state):\n",
      "    ^\n",
      "\n",
      "  state.func_ir.loc))\n",
      "/share/conda/cuml_13_2/lib/python3.7/site-packages/numba/typed_passes.py:293: NumbaPerformanceWarning: \n",
      "The keyword argument 'parallel=True' was specified but no transformation for parallel execution was possible.\n",
      "\n",
      "To find out why, try turning on parallel diagnostics, see http://numba.pydata.org/numba-doc/latest/user/parallel.html#diagnostics for help.\n",
      "\n",
      "File \"../../conda/cuml_13_2/lib/python3.7/site-packages/umap/nndescent.py\", line 135:\n",
      "    @numba.njit(parallel=True)\n",
      "    def init_from_tree(tree, data, query_points, heap, rng_state):\n",
      "    ^\n",
      "\n",
      "  state.func_ir.loc))\n"
     ]
    },
    {
     "name": "stdout",
     "output_type": "stream",
     "text": [
      "Done. Evaluating trustworthiness\n",
      "0.9755779326923077\n",
      "0.9755779326923077\n"
     ]
    },
    {
     "name": "stderr",
     "output_type": "stream",
     "text": [
      "/share/conda/cuml_13_2/lib/python3.7/site-packages/ipykernel_launcher.py:79: UserWarning: Parameter should_downcast is deprecated, use convert_dtype instead. \n"
     ]
    }
   ],
   "source": [
    "results_fashion[\"umaplearn\"] = build_and_train(UMAP_LEARN, X, y, {\"n_neighbors\": 5, \"min_dist\": 0.01})"
   ]
  },
  {
   "cell_type": "code",
   "execution_count": 22,
   "metadata": {},
   "outputs": [
    {
     "name": "stdout",
     "output_type": "stream",
     "text": [
      "Unsupervised\n",
      "Done. Evaluating trustworthiness\n"
     ]
    },
    {
     "name": "stderr",
     "output_type": "stream",
     "text": [
      "/share/conda/cuml_13_2/lib/python3.7/site-packages/ipykernel_launcher.py:28: UserWarning: Parameter should_downcast is deprecated, use convert_dtype instead. \n"
     ]
    },
    {
     "name": "stdout",
     "output_type": "stream",
     "text": [
      "0.9790297245959354\n",
      "0.9790297245959354\n",
      "Supervised\n",
      "Done. Evaluating trustworthiness\n"
     ]
    },
    {
     "name": "stderr",
     "output_type": "stream",
     "text": [
      "/share/conda/cuml_13_2/lib/python3.7/site-packages/ipykernel_launcher.py:52: UserWarning: Parameter should_downcast is deprecated, use convert_dtype instead. \n"
     ]
    },
    {
     "name": "stdout",
     "output_type": "stream",
     "text": [
      "0.9786923494159065\n",
      "0.9786923494159065\n",
      "Transform\n",
      "Done. Evaluating trustworthiness\n",
      "0.9727052243589743\n",
      "0.9727052243589743\n"
     ]
    },
    {
     "name": "stderr",
     "output_type": "stream",
     "text": [
      "/share/conda/cuml_13_2/lib/python3.7/site-packages/ipykernel_launcher.py:79: UserWarning: Parameter should_downcast is deprecated, use convert_dtype instead. \n"
     ]
    }
   ],
   "source": [
    "results_fashion[\"umapcuml\"] = build_and_train(UMAP_CUML, X, y, {\"n_neighbors\": 5, \"min_dist\": 0.01})"
   ]
  },
  {
   "cell_type": "code",
   "execution_count": 6,
   "metadata": {},
   "outputs": [
    {
     "name": "stdout",
     "output_type": "stream",
     "text": [
      "Unsupervised\n"
     ]
    },
    {
     "name": "stderr",
     "output_type": "stream",
     "text": [
      "/share/conda/cuml_13_2/lib/python3.7/site-packages/gpumap/gpumap_.py:798: NumbaWarning: \n",
      "Compilation is falling back to object mode WITH looplifting enabled because Function \"make_epochs_per_sample\" failed type inference due to: Untyped global name 'make_epochs_per_sample_gpu': cannot determine Numba type of <class 'function'>\n",
      "\n",
      "File \"../../conda/cuml_13_2/lib/python3.7/site-packages/gpumap/gpumap_.py\", line 816:\n",
      "def make_epochs_per_sample(weights, n_epochs, use_gpu):\n",
      "    <source elided>\n",
      "    if use_gpu:\n",
      "        fun = make_epochs_per_sample_gpu\n",
      "        ^\n",
      "\n",
      "  @numba.jit()\n",
      "/share/conda/cuml_13_2/lib/python3.7/site-packages/numba/object_mode_passes.py:178: NumbaWarning: Function \"make_epochs_per_sample\" was compiled in object mode without forceobj=True.\n",
      "\n",
      "File \"../../conda/cuml_13_2/lib/python3.7/site-packages/gpumap/gpumap_.py\", line 799:\n",
      "@numba.jit()\n",
      "def make_epochs_per_sample(weights, n_epochs, use_gpu):\n",
      "^\n",
      "\n",
      "  state.func_ir.loc))\n",
      "/share/conda/cuml_13_2/lib/python3.7/site-packages/numba/object_mode_passes.py:188: NumbaDeprecationWarning: \n",
      "Fall-back from the nopython compilation path to the object mode compilation path has been detected, this is deprecated behaviour.\n",
      "\n",
      "For more information visit http://numba.pydata.org/numba-doc/latest/reference/deprecation.html#deprecation-of-object-mode-fall-back-behaviour-when-using-jit\n",
      "\n",
      "File \"../../conda/cuml_13_2/lib/python3.7/site-packages/gpumap/gpumap_.py\", line 799:\n",
      "@numba.jit()\n",
      "def make_epochs_per_sample(weights, n_epochs, use_gpu):\n",
      "^\n",
      "\n",
      "  state.func_ir.loc))\n"
     ]
    },
    {
     "name": "stdout",
     "output_type": "stream",
     "text": [
      "Done. Evaluating trustworthiness\n"
     ]
    },
    {
     "name": "stderr",
     "output_type": "stream",
     "text": [
      "/share/conda/cuml_13_2/lib/python3.7/site-packages/ipykernel_launcher.py:28: UserWarning: Parameter should_downcast is deprecated, use convert_dtype instead. \n"
     ]
    },
    {
     "name": "stdout",
     "output_type": "stream",
     "text": [
      "0.9795474587133941\n",
      "0.9795474587133941\n",
      "Supervised\n"
     ]
    },
    {
     "name": "stderr",
     "output_type": "stream",
     "text": [
      "/share/conda/cuml_13_2/lib/python3.7/site-packages/gpumap/gpumap_.py:729: NumbaWarning: \n",
      "Compilation is falling back to object mode WITH looplifting enabled because Function \"categorical_simplicial_set_intersection\" failed type inference due to: non-precise type pyobject\n",
      "[1] During: typing of argument at /share/conda/cuml_13_2/lib/python3.7/site-packages/gpumap/gpumap_.py (759)\n",
      "\n",
      "File \"../../conda/cuml_13_2/lib/python3.7/site-packages/gpumap/gpumap_.py\", line 759:\n",
      "def categorical_simplicial_set_intersection(\n",
      "    <source elided>\n",
      "    \"\"\"\n",
      "    simplicial_set = simplicial_set.tocoo()\n",
      "    ^\n",
      "\n",
      "  @numba.jit()\n",
      "/share/conda/cuml_13_2/lib/python3.7/site-packages/numba/object_mode_passes.py:178: NumbaWarning: Function \"categorical_simplicial_set_intersection\" was compiled in object mode without forceobj=True.\n",
      "\n",
      "File \"../../conda/cuml_13_2/lib/python3.7/site-packages/gpumap/gpumap_.py\", line 730:\n",
      "@numba.jit()\n",
      "def categorical_simplicial_set_intersection(\n",
      "^\n",
      "\n",
      "  state.func_ir.loc))\n",
      "/share/conda/cuml_13_2/lib/python3.7/site-packages/numba/object_mode_passes.py:188: NumbaDeprecationWarning: \n",
      "Fall-back from the nopython compilation path to the object mode compilation path has been detected, this is deprecated behaviour.\n",
      "\n",
      "For more information visit http://numba.pydata.org/numba-doc/latest/reference/deprecation.html#deprecation-of-object-mode-fall-back-behaviour-when-using-jit\n",
      "\n",
      "File \"../../conda/cuml_13_2/lib/python3.7/site-packages/gpumap/gpumap_.py\", line 730:\n",
      "@numba.jit()\n",
      "def categorical_simplicial_set_intersection(\n",
      "^\n",
      "\n",
      "  state.func_ir.loc))\n",
      "/share/conda/cuml_13_2/lib/python3.7/site-packages/gpumap/gpumap_.py:701: NumbaWarning: \n",
      "Compilation is falling back to object mode WITH looplifting enabled because Function \"reset_local_connectivity\" failed type inference due to: Untyped global name 'normalize': cannot determine Numba type of <class 'function'>\n",
      "\n",
      "File \"../../conda/cuml_13_2/lib/python3.7/site-packages/gpumap/gpumap_.py\", line 720:\n",
      "def reset_local_connectivity(simplicial_set):\n",
      "    <source elided>\n",
      "    \"\"\"\n",
      "    simplicial_set = normalize(simplicial_set, norm=\"max\")\n",
      "    ^\n",
      "\n",
      "  @numba.jit()\n",
      "/share/conda/cuml_13_2/lib/python3.7/site-packages/numba/object_mode_passes.py:178: NumbaWarning: Function \"reset_local_connectivity\" was compiled in object mode without forceobj=True.\n",
      "\n",
      "File \"../../conda/cuml_13_2/lib/python3.7/site-packages/gpumap/gpumap_.py\", line 702:\n",
      "@numba.jit()\n",
      "def reset_local_connectivity(simplicial_set):\n",
      "^\n",
      "\n",
      "  state.func_ir.loc))\n",
      "/share/conda/cuml_13_2/lib/python3.7/site-packages/numba/object_mode_passes.py:188: NumbaDeprecationWarning: \n",
      "Fall-back from the nopython compilation path to the object mode compilation path has been detected, this is deprecated behaviour.\n",
      "\n",
      "For more information visit http://numba.pydata.org/numba-doc/latest/reference/deprecation.html#deprecation-of-object-mode-fall-back-behaviour-when-using-jit\n",
      "\n",
      "File \"../../conda/cuml_13_2/lib/python3.7/site-packages/gpumap/gpumap_.py\", line 702:\n",
      "@numba.jit()\n",
      "def reset_local_connectivity(simplicial_set):\n",
      "^\n",
      "\n",
      "  state.func_ir.loc))\n"
     ]
    },
    {
     "name": "stdout",
     "output_type": "stream",
     "text": [
      "Done. Evaluating trustworthiness\n"
     ]
    },
    {
     "name": "stderr",
     "output_type": "stream",
     "text": [
      "/share/conda/cuml_13_2/lib/python3.7/site-packages/ipykernel_launcher.py:52: UserWarning: Parameter should_downcast is deprecated, use convert_dtype instead. \n"
     ]
    },
    {
     "name": "stdout",
     "output_type": "stream",
     "text": [
      "0.9669617099535925\n",
      "0.9669617099535925\n",
      "Transform\n"
     ]
    },
    {
     "name": "stderr",
     "output_type": "stream",
     "text": [
      "Traceback (most recent call last):\n",
      "  File \"<ipython-input-2-53c8fa1f4a68>\", line 73, in build_and_train\n",
      "    model.fit(X_train, y_train)\n",
      "  File \"/share/conda/cuml_13_2/lib/python3.7/site-packages/gpumap/gpumap_.py\", line 1894, in fit\n",
      "    self.use_gpu,\n",
      "  File \"/share/conda/cuml_13_2/lib/python3.7/site-packages/gpumap/gpumap_.py\", line 1317, in simplicial_set_embedding\n",
      "    use_gpu=use_gpu,\n",
      "  File \"/share/conda/cuml_13_2/lib/python3.7/site-packages/gpumap/gpumap_.py\", line 978, in optimize_layout\n",
      "    verbose,\n",
      "  File \"/share/conda/cuml_13_2/lib/python3.7/site-packages/gpumap/optimize_layout_gpu.py\", line 245, in optimize_layout_gpu\n",
      "    return write_embedding.get()\n",
      "  File \"cupy/core/core.pyx\", line 1394, in cupy.core.core.ndarray.get\n",
      "  File \"cupy/core/core.pyx\", line 1461, in cupy.core.core.ndarray.get\n",
      "  File \"cupy/core/core.pyx\", line 1467, in cupy.core.core.ndarray.get\n",
      "  File \"cupy/cuda/memory.pyx\", line 449, in cupy.cuda.memory.MemoryPointer.copy_to_host\n",
      "  File \"cupy/cuda/runtime.pyx\", line 378, in cupy.cuda.runtime.memcpy\n",
      "  File \"cupy/cuda/runtime.pyx\", line 201, in cupy.cuda.runtime.check_status\n",
      "cupy.cuda.runtime.CUDARuntimeError: cudaErrorIllegalAddress: an illegal memory access was encountered\n"
     ]
    }
   ],
   "source": [
    "results_fashion[\"umapgpumap\"] = build_and_train(UMAP_GPUMAP, X, y, {\"n_neighbors\": 5, \"min_dist\": 0.01})"
   ]
  },
  {
   "cell_type": "code",
   "execution_count": 25,
   "metadata": {},
   "outputs": [
    {
     "data": {
      "text/plain": [
       "{'umapcuml': {'unsupervised': {'time': 0.6827983856201172,\n",
       "   'trust': 0.9790297245959354},\n",
       "  'supervised': {'time': 0.7760794162750244, 'trust': 0.9786923494159065},\n",
       "  'xform': {'time': 0.12986278533935547, 'trust': 0.9727052243589743}},\n",
       " 'umaplearn': {'unsupervised': {'time': 39.646448373794556,\n",
       "   'trust': 0.9847735417666826},\n",
       "  'supervised': {'time': 43.508931159973145, 'trust': 0.9830231012161946},\n",
       "  'xform': {'time': 6.67340612411499, 'trust': 0.9755779326923077}},\n",
       " 'umapgpumap': {'unsupervised': {'time': 8.991072177886963,\n",
       "   'trust': 0.9786938702992479}}}"
      ]
     },
     "execution_count": 25,
     "metadata": {},
     "output_type": "execute_result"
    }
   ],
   "source": [
    "results_fashion"
   ]
  },
  {
   "cell_type": "code",
   "execution_count": 20,
   "metadata": {},
   "outputs": [],
   "source": [
    "classes = [\n",
    "    'T-shirt/top',\n",
    "    'Trouser',\n",
    "    'Pullover',\n",
    "    'Dress',\n",
    "    'Coat',\n",
    "    'Sandal',\n",
    "    'Shirt',\n",
    "    'Sneaker',\n",
    "    'Bag',\n",
    "    'Ankle boot']"
   ]
  },
  {
   "cell_type": "code",
   "execution_count": 25,
   "metadata": {},
   "outputs": [
    {
     "name": "stdout",
     "output_type": "stream",
     "text": [
      "a=1.576943460405378, b=0.8950608781227859\n"
     ]
    },
    {
     "name": "stderr",
     "output_type": "stream",
     "text": [
      "/share/conda/cuml_13_2/lib/python3.7/site-packages/numba/typed_passes.py:293: NumbaPerformanceWarning: \n",
      "The keyword argument 'parallel=True' was specified but no transformation for parallel execution was possible.\n",
      "\n",
      "To find out why, try turning on parallel diagnostics, see http://numba.pydata.org/numba-doc/latest/user/parallel.html#diagnostics for help.\n",
      "\n",
      "File \"../../conda/cuml_13_2/lib/python3.7/site-packages/umap/rp_tree.py\", line 135:\n",
      "@numba.njit(fastmath=True, nogil=True, parallel=True)\n",
      "def euclidean_random_projection_split(data, indices, rng_state):\n",
      "^\n",
      "\n",
      "  state.func_ir.loc))\n",
      "/share/conda/cuml_13_2/lib/python3.7/site-packages/umap/nndescent.py:92: NumbaPerformanceWarning: \n",
      "The keyword argument 'parallel=True' was specified but no transformation for parallel execution was possible.\n",
      "\n",
      "To find out why, try turning on parallel diagnostics, see http://numba.pydata.org/numba-doc/latest/user/parallel.html#diagnostics for help.\n",
      "\n",
      "File \"../../conda/cuml_13_2/lib/python3.7/site-packages/umap/utils.py\", line 409:\n",
      "@numba.njit(parallel=True)\n",
      "def build_candidates(current_graph, n_vertices, n_neighbors, max_candidates, rng_state):\n",
      "^\n",
      "\n",
      "  current_graph, n_vertices, n_neighbors, max_candidates, rng_state\n",
      "/share/conda/cuml_13_2/lib/python3.7/site-packages/numba/typed_passes.py:293: NumbaPerformanceWarning: \n",
      "The keyword argument 'parallel=True' was specified but no transformation for parallel execution was possible.\n",
      "\n",
      "To find out why, try turning on parallel diagnostics, see http://numba.pydata.org/numba-doc/latest/user/parallel.html#diagnostics for help.\n",
      "\n",
      "File \"../../conda/cuml_13_2/lib/python3.7/site-packages/umap/nndescent.py\", line 47:\n",
      "    @numba.njit(parallel=True)\n",
      "    def nn_descent(\n",
      "    ^\n",
      "\n",
      "  state.func_ir.loc))\n",
      "/share/conda/cuml_13_2/lib/python3.7/site-packages/umap/spectral.py:229: UserWarning: Embedding a total of 2 separate connected components using meta-embedding (experimental)\n",
      "  n_components\n"
     ]
    },
    {
     "data": {
      "image/png": "[encoded data removed]",
      "text/plain": [
       "<Figure size 1008x720 with 2 Axes>"
      ]
     },
     "metadata": {
      "needs_background": "light"
     },
     "output_type": "display_data"
    }
   ],
   "source": [
    "draw_chart(UMAP_LEARN(n_neighbors=50), X, y, \"Fashion MNIST\", \"UMAP-learn\", classes)"
   ]
  },
  {
   "cell_type": "code",
   "execution_count": 23,
   "metadata": {},
   "outputs": [
    {
     "data": {
      "image/png": "[encoded data removed]",
      "text/plain": [
       "<Figure size 1008x720 with 2 Axes>"
      ]
     },
     "metadata": {
      "needs_background": "light"
     },
     "output_type": "display_data"
    }
   ],
   "source": [
    "draw_chart(UMAP_CUML(n_neighbors=50), X, y, \"Fashion MNIST\", \"cuML UMAP\", classes)"
   ]
  },
  {
   "cell_type": "code",
   "execution_count": 24,
   "metadata": {},
   "outputs": [
    {
     "data": {
      "image/png": "[encoded data removed]",
      "text/plain": [
       "<Figure size 1008x720 with 2 Axes>"
      ]
     },
     "metadata": {
      "needs_background": "light"
     },
     "output_type": "display_data"
    }
   ],
   "source": [
    "draw_chart(UMAP_GPUMAP(n_neighbors=50), X, y, \"Fashion MNIST\", \"GPUUMAP\", classes)"
   ]
  },
  {
   "cell_type": "markdown",
   "metadata": {},
   "source": [
    "### CIFAR-100"
   ]
  },
  {
   "cell_type": "code",
   "execution_count": 3,
   "metadata": {},
   "outputs": [],
   "source": [
    "import pickle\n",
    "import os\n",
    "def unpickle(file):\n",
    "    import pickle\n",
    "    with open(file, 'rb') as fo:\n",
    "        dict = pickle.load(fo, encoding='bytes')\n",
    "    return dict\n",
    "\n",
    "def load_cifar100(path=\"data/cifar100/cifar-100-python\"):\n",
    "    train = unpickle(os.path.join(path, \"train\"))\n",
    "    test = unpickle(os.path.join(path, \"test\"))\n",
    "    \n",
    "    return train, test"
   ]
  },
  {
   "cell_type": "code",
   "execution_count": 4,
   "metadata": {},
   "outputs": [],
   "source": [
    "train, test = load_cifar100()\n",
    "\n",
    "train, train_labels = (train[b\"data\"], train[b\"fine_labels\"])\n",
    "test, test_labels = (test[b\"data\"], test[b\"fine_labels\"])"
   ]
  },
  {
   "cell_type": "code",
   "execution_count": 5,
   "metadata": {},
   "outputs": [],
   "source": [
    "X = (np.array(np.vstack([train, test]), dtype=np.float64) [:60000]/ 255.0).astype(np.float32)\n",
    "y = np.array(np.hstack([train_labels, test_labels]))[:60000].astype(np.float32)"
   ]
  },
  {
   "cell_type": "code",
   "execution_count": 6,
   "metadata": {},
   "outputs": [],
   "source": [
    "results_cifar100 = {}"
   ]
  },
  {
   "cell_type": "code",
   "execution_count": 7,
   "metadata": {},
   "outputs": [
    {
     "name": "stdout",
     "output_type": "stream",
     "text": [
      "Unsupervised\n",
      "a=1.576943460405378, b=0.8950608781227859\n"
     ]
    },
    {
     "name": "stderr",
     "output_type": "stream",
     "text": [
      "/share/conda/cuml_13_2/lib/python3.7/site-packages/numba/typed_passes.py:293: NumbaPerformanceWarning: \n",
      "The keyword argument 'parallel=True' was specified but no transformation for parallel execution was possible.\n",
      "\n",
      "To find out why, try turning on parallel diagnostics, see http://numba.pydata.org/numba-doc/latest/user/parallel.html#diagnostics for help.\n",
      "\n",
      "File \"../../conda/cuml_13_2/lib/python3.7/site-packages/umap/rp_tree.py\", line 135:\n",
      "@numba.njit(fastmath=True, nogil=True, parallel=True)\n",
      "def euclidean_random_projection_split(data, indices, rng_state):\n",
      "^\n",
      "\n",
      "  state.func_ir.loc))\n",
      "/share/conda/cuml_13_2/lib/python3.7/site-packages/umap/nndescent.py:92: NumbaPerformanceWarning: \n",
      "The keyword argument 'parallel=True' was specified but no transformation for parallel execution was possible.\n",
      "\n",
      "To find out why, try turning on parallel diagnostics, see http://numba.pydata.org/numba-doc/latest/user/parallel.html#diagnostics for help.\n",
      "\n",
      "File \"../../conda/cuml_13_2/lib/python3.7/site-packages/umap/utils.py\", line 409:\n",
      "@numba.njit(parallel=True)\n",
      "def build_candidates(current_graph, n_vertices, n_neighbors, max_candidates, rng_state):\n",
      "^\n",
      "\n",
      "  current_graph, n_vertices, n_neighbors, max_candidates, rng_state\n",
      "/share/conda/cuml_13_2/lib/python3.7/site-packages/numba/typed_passes.py:293: NumbaPerformanceWarning: \n",
      "The keyword argument 'parallel=True' was specified but no transformation for parallel execution was possible.\n",
      "\n",
      "To find out why, try turning on parallel diagnostics, see http://numba.pydata.org/numba-doc/latest/user/parallel.html#diagnostics for help.\n",
      "\n",
      "File \"../../conda/cuml_13_2/lib/python3.7/site-packages/umap/nndescent.py\", line 47:\n",
      "    @numba.njit(parallel=True)\n",
      "    def nn_descent(\n",
      "    ^\n",
      "\n",
      "  state.func_ir.loc))\n"
     ]
    },
    {
     "name": "stdout",
     "output_type": "stream",
     "text": [
      "Done. Evaluating trustworthiness\n"
     ]
    },
    {
     "name": "stderr",
     "output_type": "stream",
     "text": [
      "/share/conda/cuml_13_2/lib/python3.7/site-packages/ipykernel_launcher.py:28: UserWarning: Parameter should_downcast is deprecated, use convert_dtype instead. \n"
     ]
    },
    {
     "name": "stdout",
     "output_type": "stream",
     "text": [
      "0.8406418578934047\n",
      "0.8406418578934047\n",
      "Supervised\n",
      "a=1.576943460405378, b=0.8950608781227859\n"
     ]
    },
    {
     "name": "stderr",
     "output_type": "stream",
     "text": [
      "/share/conda/cuml_13_2/lib/python3.7/site-packages/numba/typed_passes.py:293: NumbaPerformanceWarning: \n",
      "The keyword argument 'parallel=True' was specified but no transformation for parallel execution was possible.\n",
      "\n",
      "To find out why, try turning on parallel diagnostics, see http://numba.pydata.org/numba-doc/latest/user/parallel.html#diagnostics for help.\n",
      "\n",
      "File \"../../conda/cuml_13_2/lib/python3.7/site-packages/umap/nndescent.py\", line 47:\n",
      "    @numba.njit(parallel=True)\n",
      "    def nn_descent(\n",
      "    ^\n",
      "\n",
      "  state.func_ir.loc))\n"
     ]
    },
    {
     "name": "stdout",
     "output_type": "stream",
     "text": [
      "Done. Evaluating trustworthiness\n"
     ]
    },
    {
     "name": "stderr",
     "output_type": "stream",
     "text": [
      "/share/conda/cuml_13_2/lib/python3.7/site-packages/ipykernel_launcher.py:52: UserWarning: Parameter should_downcast is deprecated, use convert_dtype instead. \n"
     ]
    },
    {
     "name": "stdout",
     "output_type": "stream",
     "text": [
      "0.8390893277040276\n",
      "0.8390893277040276\n",
      "Transform\n",
      "a=1.576943460405378, b=0.8950608781227859\n"
     ]
    },
    {
     "name": "stderr",
     "output_type": "stream",
     "text": [
      "/share/conda/cuml_13_2/lib/python3.7/site-packages/numba/typed_passes.py:293: NumbaPerformanceWarning: \n",
      "The keyword argument 'parallel=True' was specified but no transformation for parallel execution was possible.\n",
      "\n",
      "To find out why, try turning on parallel diagnostics, see http://numba.pydata.org/numba-doc/latest/user/parallel.html#diagnostics for help.\n",
      "\n",
      "File \"../../conda/cuml_13_2/lib/python3.7/site-packages/umap/nndescent.py\", line 47:\n",
      "    @numba.njit(parallel=True)\n",
      "    def nn_descent(\n",
      "    ^\n",
      "\n",
      "  state.func_ir.loc))\n"
     ]
    },
    {
     "name": "stdout",
     "output_type": "stream",
     "text": [
      "Done. Evaluating trustworthiness\n"
     ]
    },
    {
     "name": "stderr",
     "output_type": "stream",
     "text": [
      "/share/conda/cuml_13_2/lib/python3.7/site-packages/ipykernel_launcher.py:79: UserWarning: Parameter should_downcast is deprecated, use convert_dtype instead. \n"
     ]
    },
    {
     "name": "stdout",
     "output_type": "stream",
     "text": [
      "0.838630387632215\n",
      "0.838630387632215\n"
     ]
    }
   ],
   "source": [
    "results_cifar100[\"umaplearn\"] = build_and_train(UMAP_LEARN, X, y, {\"n_neighbors\":50})"
   ]
  },
  {
   "cell_type": "code",
   "execution_count": 8,
   "metadata": {},
   "outputs": [
    {
     "name": "stdout",
     "output_type": "stream",
     "text": [
      "Unsupervised\n",
      "Done. Evaluating trustworthiness\n"
     ]
    },
    {
     "name": "stderr",
     "output_type": "stream",
     "text": [
      "/share/conda/cuml_13_2/lib/python3.7/site-packages/ipykernel_launcher.py:28: UserWarning: Parameter should_downcast is deprecated, use convert_dtype instead. \n"
     ]
    },
    {
     "name": "stdout",
     "output_type": "stream",
     "text": [
      "0.832504358512239\n",
      "0.832504358512239\n",
      "Supervised\n",
      "Done. Evaluating trustworthiness\n"
     ]
    },
    {
     "name": "stderr",
     "output_type": "stream",
     "text": [
      "/share/conda/cuml_13_2/lib/python3.7/site-packages/ipykernel_launcher.py:52: UserWarning: Parameter should_downcast is deprecated, use convert_dtype instead. \n"
     ]
    },
    {
     "name": "stdout",
     "output_type": "stream",
     "text": [
      "0.8328878041702475\n",
      "0.8328878041702475\n",
      "Transform\n",
      "Done. Evaluating trustworthiness\n"
     ]
    },
    {
     "name": "stderr",
     "output_type": "stream",
     "text": [
      "/share/conda/cuml_13_2/lib/python3.7/site-packages/ipykernel_launcher.py:79: UserWarning: Parameter should_downcast is deprecated, use convert_dtype instead. \n"
     ]
    },
    {
     "name": "stdout",
     "output_type": "stream",
     "text": [
      "0.8346442010196163\n",
      "0.8346442010196163\n"
     ]
    }
   ],
   "source": [
    "results_cifar100[\"umapcuml\"] = build_and_train(UMAP_CUML, X, y, {\"n_neighbors\":50})"
   ]
  },
  {
   "cell_type": "code",
   "execution_count": 9,
   "metadata": {},
   "outputs": [
    {
     "name": "stdout",
     "output_type": "stream",
     "text": [
      "Unsupervised\n"
     ]
    },
    {
     "name": "stderr",
     "output_type": "stream",
     "text": [
      "/share/conda/cuml_13_2/lib/python3.7/site-packages/gpumap/gpumap_.py:798: NumbaWarning: \n",
      "Compilation is falling back to object mode WITH looplifting enabled because Function \"make_epochs_per_sample\" failed type inference due to: Untyped global name 'make_epochs_per_sample_gpu': cannot determine Numba type of <class 'function'>\n",
      "\n",
      "File \"../../conda/cuml_13_2/lib/python3.7/site-packages/gpumap/gpumap_.py\", line 816:\n",
      "def make_epochs_per_sample(weights, n_epochs, use_gpu):\n",
      "    <source elided>\n",
      "    if use_gpu:\n",
      "        fun = make_epochs_per_sample_gpu\n",
      "        ^\n",
      "\n",
      "  @numba.jit()\n",
      "/share/conda/cuml_13_2/lib/python3.7/site-packages/numba/object_mode_passes.py:178: NumbaWarning: Function \"make_epochs_per_sample\" was compiled in object mode without forceobj=True.\n",
      "\n",
      "File \"../../conda/cuml_13_2/lib/python3.7/site-packages/gpumap/gpumap_.py\", line 799:\n",
      "@numba.jit()\n",
      "def make_epochs_per_sample(weights, n_epochs, use_gpu):\n",
      "^\n",
      "\n",
      "  state.func_ir.loc))\n",
      "/share/conda/cuml_13_2/lib/python3.7/site-packages/numba/object_mode_passes.py:188: NumbaDeprecationWarning: \n",
      "Fall-back from the nopython compilation path to the object mode compilation path has been detected, this is deprecated behaviour.\n",
      "\n",
      "For more information visit http://numba.pydata.org/numba-doc/latest/reference/deprecation.html#deprecation-of-object-mode-fall-back-behaviour-when-using-jit\n",
      "\n",
      "File \"../../conda/cuml_13_2/lib/python3.7/site-packages/gpumap/gpumap_.py\", line 799:\n",
      "@numba.jit()\n",
      "def make_epochs_per_sample(weights, n_epochs, use_gpu):\n",
      "^\n",
      "\n",
      "  state.func_ir.loc))\n"
     ]
    },
    {
     "name": "stdout",
     "output_type": "stream",
     "text": [
      "Done. Evaluating trustworthiness\n"
     ]
    },
    {
     "name": "stderr",
     "output_type": "stream",
     "text": [
      "/share/conda/cuml_13_2/lib/python3.7/site-packages/ipykernel_launcher.py:28: UserWarning: Parameter should_downcast is deprecated, use convert_dtype instead. \n"
     ]
    },
    {
     "name": "stdout",
     "output_type": "stream",
     "text": [
      "0.8350418430691954\n",
      "0.8350418430691954\n",
      "Supervised\n"
     ]
    },
    {
     "name": "stderr",
     "output_type": "stream",
     "text": [
      "/share/conda/cuml_13_2/lib/python3.7/site-packages/gpumap/gpumap_.py:729: NumbaWarning: \n",
      "Compilation is falling back to object mode WITH looplifting enabled because Function \"categorical_simplicial_set_intersection\" failed type inference due to: non-precise type pyobject\n",
      "[1] During: typing of argument at /share/conda/cuml_13_2/lib/python3.7/site-packages/gpumap/gpumap_.py (759)\n",
      "\n",
      "File \"../../conda/cuml_13_2/lib/python3.7/site-packages/gpumap/gpumap_.py\", line 759:\n",
      "def categorical_simplicial_set_intersection(\n",
      "    <source elided>\n",
      "    \"\"\"\n",
      "    simplicial_set = simplicial_set.tocoo()\n",
      "    ^\n",
      "\n",
      "  @numba.jit()\n",
      "/share/conda/cuml_13_2/lib/python3.7/site-packages/numba/object_mode_passes.py:178: NumbaWarning: Function \"categorical_simplicial_set_intersection\" was compiled in object mode without forceobj=True.\n",
      "\n",
      "File \"../../conda/cuml_13_2/lib/python3.7/site-packages/gpumap/gpumap_.py\", line 730:\n",
      "@numba.jit()\n",
      "def categorical_simplicial_set_intersection(\n",
      "^\n",
      "\n",
      "  state.func_ir.loc))\n",
      "/share/conda/cuml_13_2/lib/python3.7/site-packages/numba/object_mode_passes.py:188: NumbaDeprecationWarning: \n",
      "Fall-back from the nopython compilation path to the object mode compilation path has been detected, this is deprecated behaviour.\n",
      "\n",
      "For more information visit http://numba.pydata.org/numba-doc/latest/reference/deprecation.html#deprecation-of-object-mode-fall-back-behaviour-when-using-jit\n",
      "\n",
      "File \"../../conda/cuml_13_2/lib/python3.7/site-packages/gpumap/gpumap_.py\", line 730:\n",
      "@numba.jit()\n",
      "def categorical_simplicial_set_intersection(\n",
      "^\n",
      "\n",
      "  state.func_ir.loc))\n",
      "/share/conda/cuml_13_2/lib/python3.7/site-packages/gpumap/gpumap_.py:701: NumbaWarning: \n",
      "Compilation is falling back to object mode WITH looplifting enabled because Function \"reset_local_connectivity\" failed type inference due to: Untyped global name 'normalize': cannot determine Numba type of <class 'function'>\n",
      "\n",
      "File \"../../conda/cuml_13_2/lib/python3.7/site-packages/gpumap/gpumap_.py\", line 720:\n",
      "def reset_local_connectivity(simplicial_set):\n",
      "    <source elided>\n",
      "    \"\"\"\n",
      "    simplicial_set = normalize(simplicial_set, norm=\"max\")\n",
      "    ^\n",
      "\n",
      "  @numba.jit()\n",
      "/share/conda/cuml_13_2/lib/python3.7/site-packages/numba/object_mode_passes.py:178: NumbaWarning: Function \"reset_local_connectivity\" was compiled in object mode without forceobj=True.\n",
      "\n",
      "File \"../../conda/cuml_13_2/lib/python3.7/site-packages/gpumap/gpumap_.py\", line 702:\n",
      "@numba.jit()\n",
      "def reset_local_connectivity(simplicial_set):\n",
      "^\n",
      "\n",
      "  state.func_ir.loc))\n",
      "/share/conda/cuml_13_2/lib/python3.7/site-packages/numba/object_mode_passes.py:188: NumbaDeprecationWarning: \n",
      "Fall-back from the nopython compilation path to the object mode compilation path has been detected, this is deprecated behaviour.\n",
      "\n",
      "For more information visit http://numba.pydata.org/numba-doc/latest/reference/deprecation.html#deprecation-of-object-mode-fall-back-behaviour-when-using-jit\n",
      "\n",
      "File \"../../conda/cuml_13_2/lib/python3.7/site-packages/gpumap/gpumap_.py\", line 702:\n",
      "@numba.jit()\n",
      "def reset_local_connectivity(simplicial_set):\n",
      "^\n",
      "\n",
      "  state.func_ir.loc))\n"
     ]
    },
    {
     "name": "stdout",
     "output_type": "stream",
     "text": [
      "Transform\n"
     ]
    }
   ],
   "source": [
    "results_cifar100[\"umapgpumap\"] = build_and_train(UMAP_GPUMAP, X, y, {\"n_neighbors\":50})"
   ]
  },
  {
   "cell_type": "code",
   "execution_count": 11,
   "metadata": {},
   "outputs": [
    {
     "data": {
      "text/plain": [
       "{'umaplearn': {'unsupervised': {'time': 247.36368441581726,\n",
       "   'trust': 0.8406418578934047},\n",
       "  'supervised': {'time': 216.87787103652954, 'trust': 0.8390893277040276},\n",
       "  'xform': {'time': 218.298357963562, 'trust': 0.838630387632215}},\n",
       " 'umapcuml': {'unsupervised': {'time': 3.350353240966797,\n",
       "   'trust': 0.832504358512239},\n",
       "  'supervised': {'time': 3.9427123069763184, 'trust': 0.8328878041702475},\n",
       "  'xform': {'time': 3.9466609954833984, 'trust': 0.8346442010196163}},\n",
       " 'umapgpumap': {'unsupervised': {'time': 11.36575698852539,\n",
       "   'trust': 0.8350418430691954}}}"
      ]
     },
     "execution_count": 11,
     "metadata": {},
     "output_type": "execute_result"
    }
   ],
   "source": [
    "results_cifar100"
   ]
  },
  {
   "cell_type": "code",
   "execution_count": 3,
   "metadata": {},
   "outputs": [
    {
     "name": "stderr",
     "output_type": "stream",
     "text": [
      "/share/conda/cuml_13_2/lib/python3.7/site-packages/sklearn/utils/deprecation.py:144: FutureWarning: The sklearn.manifold.t_sne module is  deprecated in version 0.22 and will be removed in version 0.24. The corresponding classes / functions should instead be imported from sklearn.manifold. Anything that cannot be imported from sklearn.manifold is now part of the private API.\n",
      "  warnings.warn(message, FutureWarning)\n"
     ]
    }
   ],
   "source": [
    "from sklearn.manifold.t_sne import trustworthiness as sktrust\n",
    "from sklearn.datasets import load_digits\n",
    "\n",
    "data = load_digits()\n",
    "\n",
    "model = UMAP_CUML()\n",
    "embeddings = model.fit_transform(data.data)"
   ]
  },
  {
   "cell_type": "code",
   "execution_count": 4,
   "metadata": {},
   "outputs": [],
   "source": []
  },
  {
   "cell_type": "code",
   "execution_count": 5,
   "metadata": {},
   "outputs": [
    {
     "name": "stdout",
     "output_type": "stream",
     "text": [
      "0.2359015941619873\n"
     ]
    }
   ],
   "source": [
    "start = time.time()\n",
    "sktrust(data.data, embeddings)\n",
    "print(str(time.time() - start))"
   ]
  },
  {
   "cell_type": "code",
   "execution_count": null,
   "metadata": {},
   "outputs": [],
   "source": []
  },
  {
   "cell_type": "code",
   "execution_count": null,
   "metadata": {},
   "outputs": [],
   "source": [
    "Fashion  (n_neighbors=50, min_dist=0.01): {'umapcuml': {'unsupervised': {'time': 1.691455602645874,\n",
    "   'trust': 0.9756608852027691},\n",
    "  'supervised': {'time': 2.351792097091675, 'trust': 0.9720590243890228},\n",
    "  'xform': {'time': 2.395686626434326, 'trust': 0.9721990809657708}},\n",
    " 'umapgpumap': {'unsupervised': {'time': 8.455759525299072,\n",
    "   'trust': 0.966088003226282},\n",
    "  'supervised': {'time': 11.22615909576416, 'trust': 0.946432295621991},\n",
    "  'xform': {'time': 12.111764907836914, 'trust': 0.9451657405457423}},\n",
    " 'umaplearn': {'unsupervised': {'time': 129.88665342330933,\n",
    "   'trust': 0.9785036958283618},\n",
    "  'supervised': {'time': 167.90911030769348, 'trust': 0.9759003309442159},\n",
    "  'xform': {'time': 169.7406485080719, 'trust': 0.9752538816065772}}}\n",
    "\n",
    "Fashion default: {'umaplearn': {'unsupervised': {'time': 70.07299304008484,\n",
    "   'trust': 0.977692662316851},\n",
    "  'supervised': {'time': 89.2359881401062, 'trust': 0.9768497406042687},\n",
    "  'xform': {'time': 88.11038374900818, 'trust': 0.9766910591282214}},\n",
    " 'umapcuml': {'unsupervised': {'time': 1.0602912902832031,\n",
    "   'trust': 0.9756579316886288},\n",
    "  'supervised': {'time': 1.2528660297393799, 'trust': 0.9753220467475495},\n",
    "  'xform': {'time': 1.2345595359802246, 'trust': 0.9758428593923967}},\n",
    " 'umapgpumap': {'unsupervised': {'time': 8.032711505889893,\n",
    "   'trust': 0.9745967157039829},\n",
    "  'supervised': {'time': 11.146373987197876, 'trust': 0.9578011941244143},\n",
    "  'xform': {'time': 11.902178287506104, 'trust': 0.9567292975640662}}}\n",
    "\n",
    "Fashion (n_neighbors:5, min_dist:0.01):\n",
    "{'umaplearn': {'unsupervised': {'time': 46.197495460510254,\n",
    "   'trust': 0.9844126808574477},\n",
    "  'supervised': {'time': 50.494110107421875, 'trust': 0.9824418088522914},\n",
    "  'xform': {'time': 49.34948992729187, 'trust': 0.9834457064275237}},\n",
    " 'umapcuml': {'unsupervised': {'time': 0.8439412117004395,\n",
    "   'trust': 0.9790508081077477},\n",
    "  'supervised': {'time': 0.9139008522033691, 'trust': 0.9791517042272303},\n",
    "  'xform': {'time': 0.9139800071716309, 'trust': 0.9787407767702361}},\n",
    " 'umapgpumap': {'unsupervised': {'time': 8.223836183547974,\n",
    "   'trust': 0.9789080655198471},\n",
    "  'supervised': {'time': 11.491980791091919, 'trust': 0.9687381260279149},\n",
    "  'xform': {'time': 12.231558799743652, 'trust': 0.9701084106214162}}}\n",
    "\n",
    "Cifar-100 default: {'umaplearn': {'unsupervised': {'time': 114.65315198898315,\n",
    "   'trust': 0.846886604198276},\n",
    "  'supervised': {'time': 107.9702365398407, 'trust': 0.843361072892757},\n",
    "  'xform': {'time': 106.28120398521423, 'trust': 0.8480973411474398}},\n",
    " 'umapcuml': {'unsupervised': {'time': 2.404963731765747,\n",
    "   'trust': 0.8350443612829362},\n",
    "  'supervised': {'time': 2.6520259380340576, 'trust': 0.8384520656992588},\n",
    "  'xform': {'time': 2.6225061416625977, 'trust': 0.8362343168029226}},\n",
    " 'umapgpumap': {'unsupervised': {'time': 7.503326892852783,\n",
    "   'trust': 0.8334274633424295},\n",
    "  'supervised': {'time': 10.095724105834961, 'trust': 0.8307568528676733},\n",
    "  'xform': {'time': 10.978502750396729, 'trust': 0.8307642823082182}}}\n",
    "\n",
    "Cifar-100 (n_neighbors:5): {'umaplearn': {'unsupervised': {'time': 67.82002830505371,\n",
    "   'trust': 0.8581266525536738},\n",
    "  'supervised': {'time': 76.06079483032227, 'trust': 0.8611072494110326},\n",
    "  'xform': {'time': 82.10008549690247, 'trust': 0.8609734462928391}},\n",
    " 'umapcuml': {'unsupervised': {'time': 2.640801429748535,\n",
    "   'trust': 0.8384547320198249},\n",
    "  'supervised': {'time': 2.2339065074920654, 'trust': 0.8409368907521003},\n",
    "  'xform': {'time': 2.2544515132904053, 'trust': 0.8369009832977731}},\n",
    " 'umapgpumap': {'unsupervised': {'time': 9.76174783706665,\n",
    "   'trust': 0.8398398837067165}}}\n",
    "\n",
    "Cifar-100 (n_neighbors:50): {'umaplearn': {'unsupervised': {'time': 247.36368441581726,\n",
    "   'trust': 0.8406418578934047},\n",
    "  'supervised': {'time': 216.87787103652954, 'trust': 0.8390893277040276},\n",
    "  'xform': {'time': 218.298357963562, 'trust': 0.838630387632215}},\n",
    " 'umapcuml': {'unsupervised': {'time': 3.350353240966797,\n",
    "   'trust': 0.832504358512239},\n",
    "  'supervised': {'time': 3.9427123069763184, 'trust': 0.8328878041702475},\n",
    "  'xform': {'time': 3.9466609954833984, 'trust': 0.8346442010196163}},\n",
    " 'umapgpumap': {'unsupervised': {'time': 11.36575698852539,\n",
    "   'trust': 0.8350418430691954}}}\n"
   ]
  },
  {
   "cell_type": "code",
   "execution_count": null,
   "metadata": {},
   "outputs": [],
   "source": []
  },
  {
   "cell_type": "code",
   "execution_count": null,
   "metadata": {},
   "outputs": [],
   "source": []
  }
 ],
 "metadata": {
  "kernelspec": {
   "display_name": "Python (cuml_13_2)",
   "language": "python",
   "name": "python3"
  },
  "language_info": {
   "codemirror_mode": {
    "name": "ipython",
    "version": 3
   },
   "file_extension": ".py",
   "mimetype": "text/x-python",
   "name": "python",
   "nbconvert_exporter": "python",
   "pygments_lexer": "ipython3",
   "version": "3.7.6"
  }
 },
 "nbformat": 4,
 "nbformat_minor": 4
}
